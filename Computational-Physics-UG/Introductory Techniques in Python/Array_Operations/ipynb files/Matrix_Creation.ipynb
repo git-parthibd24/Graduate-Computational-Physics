{
 "cells": [
  {
   "cell_type": "markdown",
   "id": "e0dc0977-8759-4281-a181-8c39317bc0d0",
   "metadata": {},
   "source": [
    "# Create an array of any size using list input and apply transpose using function"
   ]
  },
  {
   "cell_type": "code",
   "execution_count": 1,
   "id": "67c74244-a5c1-4983-85cc-2443da12d773",
   "metadata": {},
   "outputs": [
    {
     "name": "stdin",
     "output_type": "stream",
     "text": [
      "Enter no. of rows and columns :  2,2\n",
      "enter no. :  1\n",
      "enter no. :  5\n",
      "enter no. :  6\n",
      "enter no. :  8\n"
     ]
    },
    {
     "name": "stdout",
     "output_type": "stream",
     "text": [
      "The matrix is :\n",
      "1 5 \n",
      "6 8 \n",
      "\n",
      "The transpose of the array is :\n",
      "[[1 6]\n",
      " [5 8]]\n"
     ]
    }
   ],
   "source": [
    "import numpy as np\n",
    "m=[]\n",
    "r,c=eval(input(\"Enter no. of rows and columns : \"))\n",
    "for i in range(r):\n",
    "    a=[]\n",
    "    for j in range(c):\n",
    "        item=eval(input(\"enter no. : \"))\n",
    "        a.append(item)\n",
    "    m.append(a)\n",
    "\n",
    "#list to array\n",
    "arr=np.array(m)\n",
    "\n",
    "print('The matrix is :')\n",
    "for i in range(r):\n",
    "    for j in range(c):\n",
    "        print(arr[i][j],end=\" \")\n",
    "    print()\n",
    "\n",
    "#Transpose of array\n",
    "print()\n",
    "print('The transpose of the array is :')  \n",
    "print(np.transpose(arr))"
   ]
  },
  {
   "cell_type": "markdown",
   "id": "8ca353fb-b5a2-45d0-a01f-9cedf502271e",
   "metadata": {},
   "source": [
    "# Create an array of any size and apply transpose"
   ]
  },
  {
   "cell_type": "code",
   "execution_count": 1,
   "id": "818b3a0f-aade-43d3-b425-46f41264f278",
   "metadata": {},
   "outputs": [
    {
     "name": "stdin",
     "output_type": "stream",
     "text": [
      "Enter row size :  2\n",
      "Enter column size :  3\n"
     ]
    },
    {
     "name": "stdout",
     "output_type": "stream",
     "text": [
      "Enter elements of matrix :\n"
     ]
    },
    {
     "name": "stdin",
     "output_type": "stream",
     "text": [
      " 1\n",
      " 4\n",
      " 8\n",
      " 3\n",
      " 5\n",
      " 6\n"
     ]
    },
    {
     "name": "stdout",
     "output_type": "stream",
     "text": [
      "\n",
      "The input matrix is :\n",
      "1.0 4.0 8.0 \n",
      "3.0 5.0 6.0 \n",
      "\n",
      "The matrix after transpose is :\n",
      "1.0 3.0 \n",
      "4.0 5.0 \n",
      "8.0 6.0 \n"
     ]
    }
   ],
   "source": [
    "import numpy as np\n",
    "def get_mat(m,n):          #Taking inputs in matrix form one by one\n",
    "    print('Enter elements of matrix :')\n",
    "    A=np.empty((m,n))\n",
    "    for i in range(m):\n",
    "        for j in range(n):\n",
    "            A[i][j]=eval(input())\n",
    "    return A\n",
    "\n",
    "def show_mat(A):           #Printing array in matrix form(note: The other print method is inapplicable here)\n",
    "    for i in A:\n",
    "        for j in i:\n",
    "            print(j,end=' ')\n",
    "        print()\n",
    "        \n",
    "#for any size matrix\n",
    "def transpose(A,m,n):\n",
    "    B=np.empty((n,m))\n",
    "    for i in range(n):\n",
    "        for j in range(m):\n",
    "            B[i][j]=A[j][i]\n",
    "    return B\n",
    "\n",
    "m=int(input('Enter row size : '))\n",
    "n=int(input('Enter column size : '))\n",
    "A=get_mat(m,n)\n",
    "\n",
    "print()\n",
    "print('The input matrix is :')\n",
    "show_mat(A)\n",
    "\n",
    "print()\n",
    "TM=transpose(A,m,n)\n",
    "print('The matrix after transpose is :')\n",
    "show_mat(TM)"
   ]
  }
 ],
 "metadata": {
  "kernelspec": {
   "display_name": "Python 3 (ipykernel)",
   "language": "python",
   "name": "python3"
  },
  "language_info": {
   "codemirror_mode": {
    "name": "ipython",
    "version": 3
   },
   "file_extension": ".py",
   "mimetype": "text/x-python",
   "name": "python",
   "nbconvert_exporter": "python",
   "pygments_lexer": "ipython3",
   "version": "3.13.2"
  }
 },
 "nbformat": 4,
 "nbformat_minor": 5
}
