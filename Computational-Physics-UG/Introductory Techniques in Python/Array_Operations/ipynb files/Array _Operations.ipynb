{
 "cells": [
  {
   "cell_type": "markdown",
   "id": "9b46b65e-5ac8-43df-a45c-2994a67316f4",
   "metadata": {},
   "source": [
    "# 1D Array Creation\n",
    "Array is a structure and its corresponding variables/objects store same type of object/data in consecutive memory location. Array is 1-dimensional or multi-dimensional"
   ]
  },
  {
   "cell_type": "code",
   "execution_count": 2,
   "id": "a0f78f6d-148a-46a8-a77b-c83e8fc717f6",
   "metadata": {},
   "outputs": [
    {
     "name": "stdout",
     "output_type": "stream",
     "text": [
      "[1.  1.5 2.  2.5 3.  3.5 4.  4.5 5.  5.5 6.  6.5 7.  7.5 8.  8.5 9.  9.5]\n"
     ]
    }
   ],
   "source": [
    "import numpy as np\n",
    "L=np.arange(1,10,0.5)\n",
    "print(L)        #Generates an array of one dimension with numbers between 1 to 10 with step length 0.5"
   ]
  },
  {
   "cell_type": "code",
   "execution_count": 39,
   "id": "5068230a-5096-4b58-a9ca-6411ce0be675",
   "metadata": {},
   "outputs": [
    {
     "name": "stdout",
     "output_type": "stream",
     "text": [
      "[1 2 3 4 5 6 7 8 9]\n"
     ]
    }
   ],
   "source": [
    "L=np.arange(1,10,1) \n",
    "print(L)        #Generates an array of one dimension with numbers between 1 to 10 with step length 1 and excludes last element"
   ]
  },
  {
   "cell_type": "code",
   "execution_count": 40,
   "id": "1ee3f8e8-c2c1-4bec-8a03-52f83782be3d",
   "metadata": {},
   "outputs": [
    {
     "name": "stdout",
     "output_type": "stream",
     "text": [
      "[1.         1.11111111 1.22222222 1.33333333 1.44444444 1.55555556\n",
      " 1.66666667 1.77777778 1.88888889 2.        ]\n"
     ]
    }
   ],
   "source": [
    "L=np.linspace(1,2,10)\n",
    "print(L)           #Generates an equispaced array of one dimension with 10 numbers between 1 to 2 and includes the last number"
   ]
  },
  {
   "cell_type": "code",
   "execution_count": 41,
   "id": "422b00d6-d129-4b5d-ae84-50f2cd2c1489",
   "metadata": {},
   "outputs": [
    {
     "name": "stdout",
     "output_type": "stream",
     "text": [
      "[ 1.  2.  3.  4.  5.  6.  7.  8.  9. 10.]\n"
     ]
    }
   ],
   "source": [
    "L=np.linspace(1,10,10)\n",
    "print(L)        #Generates an equispaced array of one dimension with 10 numbers between 1 to 10 and includes last number"
   ]
  },
  {
   "cell_type": "code",
   "execution_count": 11,
   "id": "3835a079-a05e-45a3-8a87-8611be983347",
   "metadata": {},
   "outputs": [
    {
     "name": "stdout",
     "output_type": "stream",
     "text": [
      "[ 5.          6.22222222  7.44444444  8.66666667  9.88888889 11.11111111\n",
      " 12.33333333 13.55555556 14.77777778 16.        ]\n"
     ]
    }
   ],
   "source": [
    "L=np.linspace(5,16,10)\n",
    "print(L)"
   ]
  },
  {
   "cell_type": "code",
   "execution_count": 42,
   "id": "b43d69a1-7ea5-4698-a265-eaf46a8a2299",
   "metadata": {},
   "outputs": [
    {
     "name": "stdout",
     "output_type": "stream",
     "text": [
      "[ 5.         6.2222222  7.4444444  8.6666666  9.8888888 11.111111\n",
      " 12.3333332 13.5555554 14.7777776 15.9999998]\n"
     ]
    }
   ],
   "source": [
    "L=np.arange(5,16,1.2222222)  #step=(upper-lower)/(no of elelments-1)\n",
    "print(L) "
   ]
  },
  {
   "cell_type": "code",
   "execution_count": 14,
   "id": "2f55b993-516b-4d8f-9f2a-e54c52a86347",
   "metadata": {},
   "outputs": [
    {
     "name": "stdout",
     "output_type": "stream",
     "text": [
      "[2 5 7 9]\n"
     ]
    }
   ],
   "source": [
    "A=np.array([2,5,7,9])\n",
    "print(A)        #Generates an array with the specified values"
   ]
  },
  {
   "cell_type": "code",
   "execution_count": 15,
   "id": "54623b0d-329a-4354-9c29-79ce86fc157f",
   "metadata": {},
   "outputs": [
    {
     "name": "stdout",
     "output_type": "stream",
     "text": [
      "[  8.          25.39841683  80.63494719 256.        ]\n"
     ]
    }
   ],
   "source": [
    "A=np.logspace(3,8,4,base=2)\n",
    "print(A)        #Generates an 1D array with logarithmic value from 3 to 8 with base value 2"
   ]
  },
  {
   "cell_type": "code",
   "execution_count": 16,
   "id": "a24f572b-39e7-4768-b6e7-9e68b522debe",
   "metadata": {},
   "outputs": [
    {
     "name": "stdout",
     "output_type": "stream",
     "text": [
      "[0. 0. 0. 0.]\n"
     ]
    }
   ],
   "source": [
    "A=np.zeros(4)\n",
    "print(A)        #Generates an array of size 4 with all zeros"
   ]
  },
  {
   "cell_type": "code",
   "execution_count": 17,
   "id": "227890b2-7a10-4f66-92d9-ea60853a1f14",
   "metadata": {},
   "outputs": [
    {
     "name": "stdout",
     "output_type": "stream",
     "text": [
      "[1. 1. 1. 1.]\n"
     ]
    }
   ],
   "source": [
    "A=np.ones(4)\n",
    "print(A)        #Generates an array of size 4 with all ones"
   ]
  },
  {
   "cell_type": "markdown",
   "id": "163d52bf-92be-4c85-9cb6-59035ff50fd9",
   "metadata": {},
   "source": [
    "# 2D Array Creation"
   ]
  },
  {
   "cell_type": "code",
   "execution_count": 71,
   "id": "76a9f8aa-8288-45d9-9a5e-931bfedb03dd",
   "metadata": {},
   "outputs": [
    {
     "name": "stdout",
     "output_type": "stream",
     "text": [
      "[[4 5 6]\n",
      " [7 8 9]]\n"
     ]
    }
   ],
   "source": [
    "A=np.array([[4,5,6],[7,8,9]])\n",
    "print(A)"
   ]
  },
  {
   "cell_type": "code",
   "execution_count": 48,
   "id": "3cb8f99a-4d24-474a-9796-cda4d84fb739",
   "metadata": {},
   "outputs": [
    {
     "name": "stdout",
     "output_type": "stream",
     "text": [
      "[[   4128860    6029375    3801155]\n",
      " [   5570652    6619251    7536754]\n",
      " [1171456000        311    6815860]]\n"
     ]
    }
   ],
   "source": [
    "B=np.empty((3,3),dtype=int)   #By default,reads float\n",
    "print(B)        #Generates an 2D trash value array of size 3×3 and stores integer data type"
   ]
  },
  {
   "cell_type": "code",
   "execution_count": 44,
   "id": "584ac9f6-f818-4977-9760-9c07dd36d885",
   "metadata": {},
   "outputs": [
    {
     "name": "stdout",
     "output_type": "stream",
     "text": [
      "[[0. 0. 0. 0.]\n",
      " [0. 0. 0. 0.]\n",
      " [0. 0. 0. 0.]\n",
      " [0. 0. 0. 0.]]\n"
     ]
    }
   ],
   "source": [
    "A=np.zeros((4,4))\n",
    "print(A)        #Generates an array of 4×4 dimension with all zeroes"
   ]
  },
  {
   "cell_type": "code",
   "execution_count": 45,
   "id": "078d0641-2a3d-4a6f-b6cf-c94e191896a6",
   "metadata": {},
   "outputs": [
    {
     "name": "stdout",
     "output_type": "stream",
     "text": [
      "[[1. 0. 0.]\n",
      " [0. 1. 0.]\n",
      " [0. 0. 1.]]\n"
     ]
    }
   ],
   "source": [
    "A=np.eye(3)\n",
    "print(A)        #Generates an identity matrix of order 3×3"
   ]
  },
  {
   "cell_type": "code",
   "execution_count": 49,
   "id": "c1d8cb57-d3c1-43fe-a9a6-e4590ecf1865",
   "metadata": {},
   "outputs": [
    {
     "name": "stdout",
     "output_type": "stream",
     "text": [
      "[[7. 7. 7. 7.]\n",
      " [7. 7. 7. 7.]\n",
      " [7. 7. 7. 7.]\n",
      " [7. 7. 7. 7.]]\n"
     ]
    }
   ],
   "source": [
    "B=np.eye(4)\n",
    "B.fill(7)\n",
    "print(B)        #Fills an array with values 7 by overwriting"
   ]
  },
  {
   "cell_type": "code",
   "execution_count": 50,
   "id": "9cbdd491-5c32-4d59-a2c6-c8fb892cf582",
   "metadata": {},
   "outputs": [
    {
     "name": "stdout",
     "output_type": "stream",
     "text": [
      "[[2 2 2]\n",
      " [2 2 2]]\n"
     ]
    }
   ],
   "source": [
    "A=np.full((2,3),2)\n",
    "print(A)        #Fills an array with values 2 of 2×3 order"
   ]
  },
  {
   "cell_type": "markdown",
   "id": "b044d13d-f91c-47c4-86b0-9bc73e55b562",
   "metadata": {},
   "source": [
    "# Editing an array"
   ]
  },
  {
   "cell_type": "code",
   "execution_count": 59,
   "id": "b6efb11e-bc0a-4f42-91c2-e2dfb2734d5e",
   "metadata": {},
   "outputs": [
    {
     "name": "stdout",
     "output_type": "stream",
     "text": [
      "Original Array: \n",
      " [[3. 3. 3.]\n",
      " [3. 3. 3.]]\n",
      "Reshaped Array: \n",
      " [[3. 3.]\n",
      " [3. 3.]\n",
      " [3. 3.]]\n"
     ]
    }
   ],
   "source": [
    "#Change dimension/shape\n",
    "A=np.empty((2,3))\n",
    "A.fill(3)\n",
    "print('Original Array: \\n',A)\n",
    "A=A.reshape((3,2))                    #can add dtype if required\n",
    "print('Reshaped Array: \\n',A)         #Dimension of previously made array is changed"
   ]
  },
  {
   "cell_type": "code",
   "execution_count": 58,
   "id": "54572538-eabb-4803-a05a-8bec6f9bad43",
   "metadata": {},
   "outputs": [
    {
     "name": "stdout",
     "output_type": "stream",
     "text": [
      "[3. 3. 3. 3. 3. 3.]\n"
     ]
    }
   ],
   "source": [
    "#Change any array to a 1D array\n",
    "A=np.empty((2,3))\n",
    "A.fill(3)\n",
    "A=A.flatten()\n",
    "print(A)              "
   ]
  },
  {
   "cell_type": "code",
   "execution_count": 57,
   "id": "89b6f2f3-2629-4ef9-ac6d-3b5b8e2afd28",
   "metadata": {},
   "outputs": [
    {
     "name": "stdout",
     "output_type": "stream",
     "text": [
      "[1 2 3 4] [5 6 7 8]\n",
      "[[1 2 3 4]\n",
      " [5 6 7 8]]\n"
     ]
    }
   ],
   "source": [
    "#Combine two arrays vertcally\n",
    "A=np.array([1,2,3,4])\n",
    "B=np.array([5,6,7,8])\n",
    "print(A,B)\n",
    "C=np.vstack((A,B))\n",
    "print(C)          "
   ]
  },
  {
   "cell_type": "code",
   "execution_count": 60,
   "id": "c86bbf75-2beb-4407-9cc7-43bfac91e310",
   "metadata": {},
   "outputs": [
    {
     "name": "stdout",
     "output_type": "stream",
     "text": [
      "[1 2 3 4] [5 6 7 8]\n",
      "[1 2 3 4 5 6 7 8]\n"
     ]
    }
   ],
   "source": [
    "#Combine two arrays horizontally\n",
    "A=np.array([1,2,3,4])\n",
    "B=np.array([5,6,7,8])\n",
    "print(A,B)\n",
    "C=np.hstack((A,B))\n",
    "print(C)"
   ]
  },
  {
   "cell_type": "code",
   "execution_count": 66,
   "id": "9fbad048-75c7-4454-bfb9-293308c49332",
   "metadata": {},
   "outputs": [
    {
     "name": "stdout",
     "output_type": "stream",
     "text": [
      "[[1. 0. 0. 0.]\n",
      " [0. 1. 0. 0.]\n",
      " [0. 0. 1. 0.]\n",
      " [0. 0. 0. 1.]]\n",
      "The diagonal elements are : [1. 1. 1. 1.]\n"
     ]
    }
   ],
   "source": [
    "#Extract Diagonal Elements from 2D array\n",
    "A=np.eye(4)\n",
    "print(A)\n",
    "C=np.diagonal(A)\n",
    "print(\"The diagonal elements are :\",C)"
   ]
  },
  {
   "cell_type": "markdown",
   "id": "d1fb9411-82e1-4584-9106-88fe8ab41a3c",
   "metadata": {},
   "source": [
    "# Attributes of array"
   ]
  },
  {
   "cell_type": "code",
   "execution_count": 68,
   "id": "e203129b-f596-4442-917b-17b17e347411",
   "metadata": {},
   "outputs": [
    {
     "name": "stdout",
     "output_type": "stream",
     "text": [
      "[[1 2 3]\n",
      " [4 5 6]\n",
      " [7 8 9]]\n",
      "Dimension : 2\n",
      "Size : 9\n",
      "Shape : (3, 3)\n",
      "Data type : int32\n",
      "Itemsize : 4\n"
     ]
    }
   ],
   "source": [
    "A=np.empty((3,3),dtype=int)\n",
    "print(A)\n",
    "Dimension=A.ndim\n",
    "print('Dimension :',Dimension)\n",
    "Size=A.size\n",
    "print('Size :',Size)\n",
    "Shape=A.shape\n",
    "print('Shape :',Shape)\n",
    "Type=A.dtype\n",
    "print('Data type :',Type)\n",
    "Itemsize=A.itemsize\n",
    "print('Itemsize :',Itemsize)        #memory used by elements in bits"
   ]
  },
  {
   "cell_type": "code",
   "execution_count": 69,
   "id": "31b0846e-f801-49f2-b782-b95d86d60a62",
   "metadata": {},
   "outputs": [
    {
     "name": "stdout",
     "output_type": "stream",
     "text": [
      "minimum element:  0.0\n",
      "maximum element:  1.0\n",
      "index of minimum element:  1\n",
      "index of maximum element:  0\n",
      "mean of array elements:  0.25\n",
      "median of array elements:  0.0\n",
      "variance of array elements:  0.1875\n",
      "standard deviation of array elements:  0.4330127018922193\n"
     ]
    }
   ],
   "source": [
    "A=np.eye(4)\n",
    "Min=np.min(A)\n",
    "Max=np.max(A)\n",
    "Minindex=np.argmin(A)\n",
    "Maxindex=np.argmax(A)\n",
    "Mean=np.mean(A)\n",
    "Median=np.median(A)\n",
    "Var=np.var(A)\n",
    "SD=np.std(A)\n",
    "\n",
    "\n",
    "print('minimum element: ',Min)\n",
    "print('maximum element: ',Max)\n",
    "print('index of minimum element: ',Minindex)\n",
    "print('index of maximum element: ',Maxindex)\n",
    "print('mean of array elements: ',Mean)\n",
    "print('median of array elements: ',Median)\n",
    "print('variance of array elements: ',Var)\n",
    "print('standard deviation of array elements: ',SD)"
   ]
  },
  {
   "cell_type": "markdown",
   "id": "01c1659a-4db2-4a99-8e36-fd3921bb240b",
   "metadata": {},
   "source": [
    "# Dot product of two 1D array as vectors\n",
    "multiplies same length arrays pairwise and adds them"
   ]
  },
  {
   "cell_type": "code",
   "execution_count": 70,
   "id": "23e37a39-219b-4e15-829c-3666a3d8b40f",
   "metadata": {},
   "outputs": [
    {
     "name": "stdout",
     "output_type": "stream",
     "text": [
      "70\n"
     ]
    }
   ],
   "source": [
    "a=np.array([1,2,3,4])\n",
    "b=np.array([3,5,7,9])\n",
    "print(np.dot(a,b))"
   ]
  },
  {
   "cell_type": "markdown",
   "id": "30532c73-efad-4a70-9594-5359454845ce",
   "metadata": {},
   "source": [
    "# Product of two 2D arrays as matrix\n",
    "proper dimension required for the matrices"
   ]
  },
  {
   "cell_type": "code",
   "execution_count": 6,
   "id": "837f658a-7e24-411e-b9d9-699902610216",
   "metadata": {},
   "outputs": [
    {
     "name": "stdout",
     "output_type": "stream",
     "text": [
      "[[23 18]\n",
      " [67 62]]\n"
     ]
    }
   ],
   "source": [
    "a=np.array([[1,2,3],[5,6,7]])\n",
    "b=np.array([[4,7],[2,1],[5,3]])\n",
    "print(np.dot(a,b))"
   ]
  },
  {
   "cell_type": "code",
   "execution_count": 8,
   "id": "658a0e82-2730-4625-9079-ef81e62982d6",
   "metadata": {},
   "outputs": [
    {
     "name": "stdout",
     "output_type": "stream",
     "text": [
      "[[23 18]\n",
      " [67 62]]\n"
     ]
    }
   ],
   "source": [
    "a=np.array([[1,2,3],[5,6,7]])\n",
    "b=np.array([[4,7],[2,1],[5,3]])\n",
    "print(a@b)"
   ]
  },
  {
   "cell_type": "code",
   "execution_count": 9,
   "id": "4bee2de4-a992-4354-a5df-eaec58529952",
   "metadata": {},
   "outputs": [
    {
     "name": "stdout",
     "output_type": "stream",
     "text": [
      "[[23 18]\n",
      " [67 62]]\n"
     ]
    }
   ],
   "source": [
    "a=np.array([[1,2,3],[5,6,7]])\n",
    "b=np.array([[4,7],[2,1],[5,3]])\n",
    "print(np.matmul(a,b))"
   ]
  },
  {
   "cell_type": "markdown",
   "id": "36463b58-8a42-40a6-b0c0-02e78da1f563",
   "metadata": {},
   "source": [
    "# Scalar multiply element wise with an array"
   ]
  },
  {
   "cell_type": "code",
   "execution_count": 7,
   "id": "77996886-758a-4bc3-9f3d-9b3a06c0b300",
   "metadata": {},
   "outputs": [
    {
     "name": "stdout",
     "output_type": "stream",
     "text": [
      "[ 6 10 14 18]\n"
     ]
    }
   ],
   "source": [
    "a=2\n",
    "b=np.array([3,5,7,9])\n",
    "print(np.dot(a,b))"
   ]
  },
  {
   "cell_type": "code",
   "execution_count": 10,
   "id": "77d147f0-1570-4ca2-b996-857a5049d3e5",
   "metadata": {},
   "outputs": [
    {
     "name": "stdout",
     "output_type": "stream",
     "text": [
      "[[ 8 14]\n",
      " [ 4  2]\n",
      " [10  6]]\n"
     ]
    }
   ],
   "source": [
    "a=2\n",
    "b=np.array([[4,7],[2,1],[5,3]])\n",
    "print(np.dot(a,b))"
   ]
  },
  {
   "cell_type": "markdown",
   "id": "b33a15c6-3a48-4891-9d3d-e7017819c20c",
   "metadata": {},
   "source": [
    "# Linear Algebra using array"
   ]
  },
  {
   "cell_type": "code",
   "execution_count": 74,
   "id": "c3c4361e-4f1f-4613-bc46-d62560ecef60",
   "metadata": {},
   "outputs": [
    {
     "name": "stdout",
     "output_type": "stream",
     "text": [
      "[[0 1]\n",
      " [1 0]]\n",
      "-1.0\n"
     ]
    }
   ],
   "source": [
    "#Determinant\n",
    "a=np.array([[0, 1], [1,0]])\n",
    "print(a)\n",
    "determinant=np.linalg.det(a)\n",
    "print(determinant)"
   ]
  },
  {
   "cell_type": "code",
   "execution_count": 80,
   "id": "5e367e23-b00a-4f67-a5db-1895e3ffadb1",
   "metadata": {},
   "outputs": [
    {
     "name": "stdout",
     "output_type": "stream",
     "text": [
      "[[0 1]\n",
      " [1 0]]\n",
      "[ 1. -1.]\n",
      "[[ 0.70710678 -0.70710678]\n",
      " [ 0.70710678  0.70710678]]\n",
      "\n",
      "EigResult(eigenvalues=array([ 1., -1.]), eigenvectors=array([[ 0.70710678, -0.70710678],\n",
      "       [ 0.70710678,  0.70710678]]))\n"
     ]
    }
   ],
   "source": [
    "#Eigenvalue and Eigenvector\n",
    "a=np.array([[0, 1], [1,0]])\n",
    "print(a)\n",
    "eigenvalues,eigenvectors=np.linalg.eig(a)\n",
    "eig=np.linalg.eig(a)\n",
    "print(eigenvalues)\n",
    "print(eigenvectors)     #prints a n/n array with each column denoting eigenvector\n",
    "print()\n",
    "print(eig)"
   ]
  },
  {
   "cell_type": "code",
   "execution_count": 83,
   "id": "f7be2c71-b3ea-4d19-95f8-b0e895853ad4",
   "metadata": {},
   "outputs": [
    {
     "name": "stdout",
     "output_type": "stream",
     "text": [
      "[[ 6 -2]\n",
      " [-2  6]]\n",
      "[[-3  5]\n",
      " [ 0  2]]\n"
     ]
    }
   ],
   "source": [
    "#Matrix Multiplication\n",
    "A=np.array([[1,3],[2,4]])\n",
    "B=np.array([[4,-2],[-3,1]])\n",
    "C=np.array([[1,2],[2,1]])\n",
    "print(A*B+2*C)              #A*B performs elementwise multiplication\n",
    "print(np.dot(A,B)+2*C)      #dot product of two square matrix is matrix multiplication"
   ]
  },
  {
   "cell_type": "code",
   "execution_count": 87,
   "id": "9a4f82cb-b056-42da-af04-3dc53dfd9b88",
   "metadata": {},
   "outputs": [
    {
     "name": "stdout",
     "output_type": "stream",
     "text": [
      "For vectorised case, time required = 0:00:00.572323\n"
     ]
    }
   ],
   "source": [
    "#Vectorization\n",
    "from datetime import datetime\n",
    "x=np.random.rand(10**8)\n",
    "y=np.random.rand(10**8)\n",
    "t1=datetime.now()\n",
    "z=x*y\n",
    "t2=datetime.now()\n",
    "print(\"For vectorised case, time required =\", t2-t1)"
   ]
  },
  {
   "cell_type": "code",
   "execution_count": 89,
   "id": "a50b60bf-bab5-4607-81a2-9002d70314c2",
   "metadata": {},
   "outputs": [
    {
     "name": "stdout",
     "output_type": "stream",
     "text": [
      "For manual elementwise multiplication, time required = 0:01:21.163513\n"
     ]
    }
   ],
   "source": [
    "x=np.random.rand(10**8)\n",
    "y=np.random.rand(10**8)\n",
    "z=np.random.rand(10**8)\n",
    "t1_loop = datetime.now()\n",
    "for i in range(10**8):\n",
    "    z[i]=x[i]*y[i]\n",
    "t2_loop=datetime.now()\n",
    "print(\"For manual elementwise multiplication, time required =\", t2_loop-t1_loop)"
   ]
  },
  {
   "cell_type": "markdown",
   "id": "3ab8d400-1faf-47c4-bd9c-15eae4580c50",
   "metadata": {},
   "source": [
    "# Assigning variable to an another array"
   ]
  },
  {
   "cell_type": "code",
   "execution_count": 90,
   "id": "516f80d1-d249-4f40-84ad-25219d9f6895",
   "metadata": {},
   "outputs": [
    {
     "name": "stdout",
     "output_type": "stream",
     "text": [
      "[5 1] [1 1]\n"
     ]
    }
   ],
   "source": [
    "from numpy import copy\n",
    "x=np.array([1,1])\n",
    "y=copy(x)\n",
    "x[0]=5\n",
    "print(x,y)"
   ]
  },
  {
   "cell_type": "markdown",
   "id": "265008bc-1f90-42a5-b5e1-3b072611e7ac",
   "metadata": {},
   "source": [
    "# Slicing in 1D Array"
   ]
  },
  {
   "cell_type": "code",
   "execution_count": 4,
   "id": "39137a76-0d16-4b3a-883d-9952afbe3966",
   "metadata": {},
   "outputs": [
    {
     "name": "stdout",
     "output_type": "stream",
     "text": [
      "2\n",
      "4\n",
      "[2 5 7 6 3 4]\n",
      "[2 5]\n",
      "[5 7 6]\n",
      "[5 6]\n",
      "[2 5 7 6 3 4]\n",
      "[2 5 7 6 3 4]\n",
      "[4 3 6 7 5]\n"
     ]
    }
   ],
   "source": [
    "A=np.array([2,5,7,6,3,4])\n",
    "print(A[0])\n",
    "print(A[-1])\n",
    "print(A[0:])\n",
    "print(A[:2])\n",
    "print(A[1:4])\n",
    "print(A[1:4:2])    #start(include element of this index), stop(dont include element of this index), step\n",
    "print(A[:])\n",
    "print(A[::])\n",
    "print(A[5:0:-1])   #slicing from end"
   ]
  },
  {
   "cell_type": "markdown",
   "id": "b198c92d-e8fa-4986-8882-41a18bcc373f",
   "metadata": {},
   "source": [
    "# Slicing in 2D Array"
   ]
  },
  {
   "cell_type": "code",
   "execution_count": 12,
   "id": "df22e8bc-65ed-43d7-bd07-b6e07cc97c80",
   "metadata": {},
   "outputs": [
    {
     "name": "stdout",
     "output_type": "stream",
     "text": [
      "[[ 1  2  3]\n",
      " [ 4  5  6]\n",
      " [ 7  8  9]\n",
      " [10 11 12]]\n",
      "[[4 5 6]\n",
      " [7 8 9]]\n",
      "[[ 2  3]\n",
      " [ 5  6]\n",
      " [ 8  9]\n",
      " [11 12]]\n",
      "[[5 6]\n",
      " [8 9]]\n"
     ]
    }
   ],
   "source": [
    "A=np.array([[1,2,3],[4,5,6],[7,8,9],[10,11,12]])\n",
    "print(A[:])\n",
    "print(A[1:3,:])     #extracts rows from start to stop-1 A[start:stop,:]\n",
    "print(A[:,1:3])     #extracts columns from start to stop-1 A[start:stop,:]\n",
    "print(A[1:3,1:3])   #create sub-matrix"
   ]
  }
 ],
 "metadata": {
  "kernelspec": {
   "display_name": "Python 3 (ipykernel)",
   "language": "python",
   "name": "python3"
  },
  "language_info": {
   "codemirror_mode": {
    "name": "ipython",
    "version": 3
   },
   "file_extension": ".py",
   "mimetype": "text/x-python",
   "name": "python",
   "nbconvert_exporter": "python",
   "pygments_lexer": "ipython3",
   "version": "3.13.2"
  }
 },
 "nbformat": 4,
 "nbformat_minor": 5
}
