{
 "cells": [
  {
   "cell_type": "markdown",
   "id": "1008f071-984b-4704-89d6-ccbe246edbba",
   "metadata": {},
   "source": [
    "# Creating Tuple \n",
    "A tuple is immutable"
   ]
  },
  {
   "cell_type": "code",
   "execution_count": 12,
   "id": "3c6ddf18-26c7-4f9c-838d-ca84b2416b2a",
   "metadata": {},
   "outputs": [
    {
     "name": "stdout",
     "output_type": "stream",
     "text": [
      "() ()\n"
     ]
    }
   ],
   "source": [
    "T1=( )          #empty tuple\n",
    "T2=tuple()\n",
    "print(T1,T2)"
   ]
  },
  {
   "cell_type": "code",
   "execution_count": 13,
   "id": "8e9c80c9-48dd-47c1-8e46-364e990002c1",
   "metadata": {},
   "outputs": [
    {
     "name": "stdout",
     "output_type": "stream",
     "text": [
      "(20, 30, 50)\n"
     ]
    }
   ],
   "source": [
    "T=(20, 30, 50)  #Constructor call with parameters to create a tuple T2\n",
    "print(T)"
   ]
  },
  {
   "cell_type": "code",
   "execution_count": 18,
   "id": "83692421-dd70-45df-b30b-be023a704a9b",
   "metadata": {},
   "outputs": [
    {
     "name": "stdout",
     "output_type": "stream",
     "text": [
      "('Red', 'Blue', 'Green')\n"
     ]
    }
   ],
   "source": [
    "T=('Red','Blue','Green')\n",
    "print(T)"
   ]
  },
  {
   "cell_type": "markdown",
   "id": "57343a61-240c-41a9-8ad3-62571dd4e306",
   "metadata": {},
   "source": [
    "# Unpacking Tuple"
   ]
  },
  {
   "cell_type": "code",
   "execution_count": 21,
   "id": "26b55cf9-f115-4d90-8b6e-f65434e3f8d3",
   "metadata": {},
   "outputs": [
    {
     "name": "stdout",
     "output_type": "stream",
     "text": [
      "Red Blue Green\n"
     ]
    }
   ],
   "source": [
    "T=('Red', 'Blue', 'Green')\n",
    "(colour1, colour2, colour3)=T\n",
    "print(colour1, colour2, colour3)"
   ]
  },
  {
   "cell_type": "code",
   "execution_count": 22,
   "id": "7f48f821-777a-471f-be8d-916757c256e4",
   "metadata": {},
   "outputs": [
    {
     "name": "stdout",
     "output_type": "stream",
     "text": [
      "Red ['Blue', 'Green', 'Yellow'] Cyan\n"
     ]
    }
   ],
   "source": [
    "T=('Red', 'Blue', 'Green','Yellow','Cyan')\n",
    "(colour1, *colour2, colour3)=T\n",
    "print(colour1, colour2, colour3)"
   ]
  },
  {
   "cell_type": "markdown",
   "id": "685eb21d-dee9-452d-8627-dcfda51971ca",
   "metadata": {},
   "source": [
    "# Built-in methods for tuple"
   ]
  },
  {
   "cell_type": "code",
   "execution_count": 25,
   "id": "4041f2a3-a9fa-45b3-aa8a-473c64bc3355",
   "metadata": {},
   "outputs": [
    {
     "name": "stdout",
     "output_type": "stream",
     "text": [
      "Tuple length : 16\n",
      "Tuple max element : 10\n",
      "Tuple min element : 1\n",
      "Tuple sorted : [1, 2, 3, 4, 4, 4, 5, 5, 7, 7, 7, 7, 7, 9, 9, 10]\n"
     ]
    }
   ],
   "source": [
    "T=(1,5,7,3,7,9,2,4,7,5,7,4,7,9,10,4)\n",
    "print('Tuple length :',len(T))\n",
    "print('Tuple max element :',max(T))\n",
    "print('Tuple min element :',min(T))\n",
    "print('Tuple sorted :',sorted(T))"
   ]
  },
  {
   "cell_type": "markdown",
   "id": "1bf06ec3-9d23-49c0-928d-2692519cd521",
   "metadata": {},
   "source": [
    "# Index Operator and Slicing"
   ]
  },
  {
   "cell_type": "code",
   "execution_count": 32,
   "id": "7098d1ef-4258-496d-b999-2269554a317f",
   "metadata": {},
   "outputs": [
    {
     "name": "stdout",
     "output_type": "stream",
     "text": [
      "P\n",
      "N\n",
      "('P', 'Y', 'T', 'H', 'O', 'N')\n",
      "('Y', 'T', 'H')\n"
     ]
    }
   ],
   "source": [
    "T=('P','Y','T','H','O','N')\n",
    "print(T[0])\n",
    "print(T[-1])\n",
    "print(T[0:])\n",
    "print(T[1:4])"
   ]
  },
  {
   "cell_type": "markdown",
   "id": "b2f89c5a-96a0-403c-b8b3-dbdeecc4e517",
   "metadata": {},
   "source": [
    "# Method of tuple class"
   ]
  },
  {
   "cell_type": "code",
   "execution_count": 35,
   "id": "df2cb122-5755-4999-8d1f-a17f5244708d",
   "metadata": {},
   "outputs": [
    {
     "name": "stdout",
     "output_type": "stream",
     "text": [
      "No. of 7 in the tupple : 5\n",
      "Position of 7 in the tupple : 2\n"
     ]
    }
   ],
   "source": [
    "T=(1,5,7,3,7,9,2,4,7,5,7,4,7,9,10,4)\n",
    "print('No. of 7 in the tupple :',T.count(7))\n",
    "print('Position of 7 in the tupple :',T.index(7))"
   ]
  },
  {
   "cell_type": "markdown",
   "id": "97d8b8cd-0fec-4ee3-91aa-a4a8ee87321a",
   "metadata": {},
   "source": [
    "# Zipping tuple\n",
    "zip() is an inbuilt special function/method of Python that takes two or more sequences and forms list of tuples by taking one element from each sequence. Each sequence may be of same length or variable length."
   ]
  },
  {
   "cell_type": "code",
   "execution_count": 39,
   "id": "6b43915f-cabe-4669-ad74-2a5843035907",
   "metadata": {},
   "outputs": [
    {
     "name": "stdout",
     "output_type": "stream",
     "text": [
      "[('a', 1), ('b', 2), ('c', 3)]\n"
     ]
    }
   ],
   "source": [
    "L1=['a','b','c']\n",
    "T1=(1, 2, 3)\n",
    "print(list(zip(L1, T1)))"
   ]
  },
  {
   "cell_type": "code",
   "execution_count": 41,
   "id": "9762dc7a-670b-4889-b1ab-49cff012024b",
   "metadata": {},
   "outputs": [
    {
     "name": "stdout",
     "output_type": "stream",
     "text": [
      "((2.5, 'x'), (5.6, 'y'), (10.1, 'z'))\n"
     ]
    }
   ],
   "source": [
    "L2=[2.5, 5.6, 10.1, 11.2]\n",
    "S2='xyz'\n",
    "print(tuple(zip(L2, S2)))"
   ]
  },
  {
   "cell_type": "markdown",
   "id": "cf5313c9-4d0c-43a3-a9f1-195f35e6fc69",
   "metadata": {},
   "source": [
    "# Unzipping tuple"
   ]
  },
  {
   "cell_type": "code",
   "execution_count": 47,
   "id": "e59bcaee-7e10-46f7-aba3-efa135fd367c",
   "metadata": {},
   "outputs": [
    {
     "name": "stdout",
     "output_type": "stream",
     "text": [
      "('India',)\n",
      "('New-Delhi',)\n",
      "[('India',), ('New-Delhi',)]\n"
     ]
    }
   ],
   "source": [
    "X=[('India','New-Delhi')]\n",
    "Country,Capital=zip(*X)\n",
    "print(Country)\n",
    "print(Capital)"
   ]
  },
  {
   "cell_type": "code",
   "execution_count": 48,
   "id": "f7dd56cb-79a4-4b0f-bbda-8afad6fb91b9",
   "metadata": {},
   "outputs": [
    {
     "name": "stdout",
     "output_type": "stream",
     "text": [
      "[(1, 2, 3), ('a', 'b', 'c')]\n"
     ]
    }
   ],
   "source": [
    "zipped=[(1, 'a'), (2, 'b'), (3, 'c')]\n",
    "\n",
    "unzipped=zip(*zipped)\n",
    "print(list(unzipped))  "
   ]
  },
  {
   "cell_type": "code",
   "execution_count": null,
   "id": "d83d6441-c3b8-4470-943d-8598f9f469a7",
   "metadata": {},
   "outputs": [],
   "source": []
  }
 ],
 "metadata": {
  "kernelspec": {
   "display_name": "Python 3 (ipykernel)",
   "language": "python",
   "name": "python3"
  },
  "language_info": {
   "codemirror_mode": {
    "name": "ipython",
    "version": 3
   },
   "file_extension": ".py",
   "mimetype": "text/x-python",
   "name": "python",
   "nbconvert_exporter": "python",
   "pygments_lexer": "ipython3",
   "version": "3.12.3"
  }
 },
 "nbformat": 4,
 "nbformat_minor": 5
}
