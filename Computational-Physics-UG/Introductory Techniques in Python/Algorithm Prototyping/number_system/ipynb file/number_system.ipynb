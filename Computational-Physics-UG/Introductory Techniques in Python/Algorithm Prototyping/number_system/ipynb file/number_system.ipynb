{
 "cells": [
  {
   "cell_type": "markdown",
   "id": "387e0ea2-67df-4fb4-823b-b140a1ca388c",
   "metadata": {},
   "source": [
    "# Convertion of binary to decimal"
   ]
  },
  {
   "cell_type": "code",
   "execution_count": 2,
   "id": "9679c74f-7fc0-45ac-9ff6-4f4384e09ed1",
   "metadata": {},
   "outputs": [
    {
     "name": "stdin",
     "output_type": "stream",
     "text": [
      "Enter the binary number :  101101.01101\n"
     ]
    },
    {
     "name": "stdout",
     "output_type": "stream",
     "text": [
      "The decimal equivalent is (approximated) : 45.40625\n"
     ]
    }
   ],
   "source": [
    "import numpy as np\n",
    "import time\n",
    "\n",
    "choice='Y'\n",
    "while choice=='Y' or choice=='y':\n",
    "\tbinary=eval(input('Enter the binary number : '))\n",
    "\t#start=time.time()\n",
    "\tinteger=str(int(binary//1))\n",
    "\tlenint=len(integer)\n",
    "\tfraction=str(np.round(binary%1,len(str(binary))-lenint-1))\n",
    "\tinarray=np.array([int(x) for x in integer])\n",
    "\tdigits='0123456789'\n",
    "\tfrarray=np.array([int(i) for i in fraction if i in digits])\n",
    "\t#print(inarray)\n",
    "\t#print(frarray)\n",
    "\tcounterin,counterfr=0,0\n",
    "\tfor i in inarray:\n",
    "\t\tif i > 1:\n",
    "\t\t\tcounterin+=1\t\n",
    "\tfor i in frarray:\n",
    "\t\tif i > 1:\n",
    "\t\t\tcounterfr+=1 \n",
    "\t#print(counterin,counterfr)\n",
    "\tif counterin==0 and counterfr==0:\n",
    "\t\tbreak\n",
    "\tprint('Invalid binary number!')\n",
    "\tchoice=input('Try Again ?(Y,N) : ')\n",
    "\n",
    "if choice=='Y' or choice=='y':\n",
    "\tfrarray=frarray[1:]\t\t\t\n",
    "\tdecimalint,decimalfrac=0,0\n",
    "\tfor i in range(int(len(inarray))):  \n",
    "\t\tdecimalint+=inarray[-i-1]*2**i\n",
    "\n",
    "\tfor i in range(int(len(frarray))):\n",
    "\t\tdecimalfrac+=frarray[i]*2**(-(i+1))\n",
    "\n",
    "\tdecimal=decimalint+decimalfrac\n",
    "\t#end=time.time()\n",
    "\tprint('The decimal equivalent is (approximated) :',decimal)\n",
    "\t#print(end-start)"
   ]
  },
  {
   "cell_type": "markdown",
   "id": "30063ee5-8142-43ae-a4dd-495ea1e28146",
   "metadata": {},
   "source": [
    "# Convertion of octal to decimal"
   ]
  },
  {
   "cell_type": "code",
   "execution_count": 3,
   "id": "9383802d-7467-46e0-b86c-4fbf84fba7d7",
   "metadata": {},
   "outputs": [
    {
     "name": "stdin",
     "output_type": "stream",
     "text": [
      "Enter the octal number :  725.34\n"
     ]
    },
    {
     "name": "stdout",
     "output_type": "stream",
     "text": [
      "The decimal equivalent is (approximated) : 469.4375\n"
     ]
    }
   ],
   "source": [
    "import numpy as np\n",
    "import time\n",
    "\n",
    "choice='Y'\n",
    "while choice=='Y' or choice=='y':\n",
    "\toctal=eval(input('Enter the octal number : '))\n",
    "\t#start=time.time()\n",
    "\tinteger=str(int(octal//1))\n",
    "\tlenint=len(integer)\n",
    "\tfraction=str(np.round(octal%1,len(str(octal))-lenint-1))\n",
    "\tinarray=np.array([int(x) for x in integer])\n",
    "\tdigits='0123456789'\n",
    "\tfrarray=np.array([int(i) for i in fraction if i in digits])\n",
    "\t#print(inarray)\n",
    "\t#print(frarray)\n",
    "\tcounterin,counterfr=0,0\n",
    "\tfor i in inarray:\n",
    "\t\tif i > 7:\n",
    "\t\t\tcounterin+=1\t\n",
    "\tfor i in frarray:\n",
    "\t\tif i > 7:\n",
    "\t\t\tcounterfr+=1 \n",
    "\tif counterin==0 and counterfr==0:\n",
    "\t\tbreak\n",
    "\tprint('Invalid octal number!')\n",
    "\tchoice=input('Try Again ?(Y,N) : ')\n",
    "\n",
    "if choice=='Y' or choice=='y':\n",
    "\tfrarray=frarray[1:]\t\t\t\n",
    "\tdecimalint,decimalfrac=0,0\n",
    "\tfor i in range(int(len(inarray))):  \n",
    "\t\tdecimalint+=inarray[-i-1]*8**i\n",
    "\n",
    "\tfor i in range(int(len(frarray))):\n",
    "\t\tdecimalfrac+=frarray[i]*8**(-(i+1))\n",
    "\n",
    "\tdecimal=decimalint+decimalfrac\n",
    "\t#end=time.time()\n",
    "\tprint('The decimal equivalent is (approximated) :',decimal)\n",
    "\t#print(end-start)"
   ]
  }
 ],
 "metadata": {
  "kernelspec": {
   "display_name": "Python 3 (ipykernel)",
   "language": "python",
   "name": "python3"
  },
  "language_info": {
   "codemirror_mode": {
    "name": "ipython",
    "version": 3
   },
   "file_extension": ".py",
   "mimetype": "text/x-python",
   "name": "python",
   "nbconvert_exporter": "python",
   "pygments_lexer": "ipython3",
   "version": "3.12.3"
  }
 },
 "nbformat": 4,
 "nbformat_minor": 5
}
