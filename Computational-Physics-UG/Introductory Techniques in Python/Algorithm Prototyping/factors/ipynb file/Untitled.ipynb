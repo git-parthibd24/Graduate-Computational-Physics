{
 "cells": [
  {
   "cell_type": "markdown",
   "id": "b6053255-1752-4267-801b-e00f038174fb",
   "metadata": {},
   "source": [
    "# Factors of a number"
   ]
  },
  {
   "cell_type": "code",
   "execution_count": 1,
   "id": "0ff2c1af-37d2-40f0-9ea3-a4a99df46a34",
   "metadata": {},
   "outputs": [
    {
     "name": "stdin",
     "output_type": "stream",
     "text": [
      "Enter the number :  20\n"
     ]
    },
    {
     "name": "stdout",
     "output_type": "stream",
     "text": [
      "factors are 1\n",
      "factors are 2\n",
      "factors are 4\n",
      "factors are 5\n",
      "factors are 10\n",
      "factors are 20\n"
     ]
    }
   ],
   "source": [
    "n=eval(input('Enter the number : '))\n",
    "i=1\n",
    "while i<=n:\n",
    "    if n%i==0:\n",
    "        print('factors are',i)\n",
    "    i+=1"
   ]
  }
 ],
 "metadata": {
  "kernelspec": {
   "display_name": "Python 3 (ipykernel)",
   "language": "python",
   "name": "python3"
  },
  "language_info": {
   "codemirror_mode": {
    "name": "ipython",
    "version": 3
   },
   "file_extension": ".py",
   "mimetype": "text/x-python",
   "name": "python",
   "nbconvert_exporter": "python",
   "pygments_lexer": "ipython3",
   "version": "3.12.3"
  }
 },
 "nbformat": 4,
 "nbformat_minor": 5
}
