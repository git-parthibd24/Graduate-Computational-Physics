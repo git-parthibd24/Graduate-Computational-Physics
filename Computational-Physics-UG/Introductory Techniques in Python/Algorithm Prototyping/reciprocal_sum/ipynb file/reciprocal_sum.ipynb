{
 "cells": [
  {
   "cell_type": "markdown",
   "id": "36d6c17b-0bb4-43a4-8858-b7999c75c91a",
   "metadata": {},
   "source": [
    "# Sum of reciprocal of numbers from -4 to 4"
   ]
  },
  {
   "cell_type": "code",
   "execution_count": 8,
   "id": "c168d2d5-7312-47d3-af1d-fd8581c3e31f",
   "metadata": {},
   "outputs": [
    {
     "name": "stdout",
     "output_type": "stream",
     "text": [
      "Sum of reciprocal of numbers is : 2.7755575615628914e-16\n"
     ]
    }
   ],
   "source": [
    "sum=0.0\n",
    "i=-5\n",
    "while i<=3:\n",
    "    i+=1\n",
    "    if i==0:\n",
    "        continue\n",
    "    sum+=1/i\n",
    "    \n",
    "print('Sum of reciprocal of numbers is :',sum)"
   ]
  },
  {
   "cell_type": "code",
   "execution_count": 5,
   "id": "66fb264c-1b27-4df9-ba04-ffaf7244228c",
   "metadata": {},
   "outputs": [
    {
     "name": "stdout",
     "output_type": "stream",
     "text": [
      "Sum of reciprocal of numbers is : 2.7755575615628914e-16\n"
     ]
    }
   ],
   "source": [
    "sum=0.0\n",
    "i=-4\n",
    "while i<=4:\n",
    "    if i==0:\n",
    "        i+=1  # Increment i to avoid infinite loop\n",
    "        continue\n",
    "    sum+=1/i\n",
    "    i+=1\n",
    "    \n",
    "print('Sum of reciprocal of numbers is :',sum)"
   ]
  },
  {
   "cell_type": "code",
   "execution_count": null,
   "id": "6f93f2bd-bc1c-41e6-aea2-c7e5840bac2f",
   "metadata": {},
   "outputs": [],
   "source": []
  }
 ],
 "metadata": {
  "kernelspec": {
   "display_name": "Python 3 (ipykernel)",
   "language": "python",
   "name": "python3"
  },
  "language_info": {
   "codemirror_mode": {
    "name": "ipython",
    "version": 3
   },
   "file_extension": ".py",
   "mimetype": "text/x-python",
   "name": "python",
   "nbconvert_exporter": "python",
   "pygments_lexer": "ipython3",
   "version": "3.12.3"
  }
 },
 "nbformat": 4,
 "nbformat_minor": 5
}
