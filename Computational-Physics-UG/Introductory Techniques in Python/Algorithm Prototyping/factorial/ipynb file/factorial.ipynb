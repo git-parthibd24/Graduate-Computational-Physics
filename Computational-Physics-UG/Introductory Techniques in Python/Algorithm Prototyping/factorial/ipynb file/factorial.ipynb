{
 "cells": [
  {
   "cell_type": "markdown",
   "id": "d35eed3f-a2da-4ad5-8c67-defc747790df",
   "metadata": {},
   "source": [
    "# Check if a number is factorial of a number or not"
   ]
  },
  {
   "cell_type": "code",
   "execution_count": 1,
   "id": "a5b877e7-19f9-4d72-83f2-b6f859ad95e8",
   "metadata": {},
   "outputs": [
    {
     "name": "stdin",
     "output_type": "stream",
     "text": [
      "Enter number to check : 120\n"
     ]
    },
    {
     "name": "stdout",
     "output_type": "stream",
     "text": [
      "120 is factorial of some number\n"
     ]
    }
   ],
   "source": [
    "def factorial(n):\n",
    "    i=1\n",
    "    f=1\n",
    "    while f<n:        \n",
    "        i+=1\n",
    "        f*=i\n",
    "    if f==n:\n",
    "        print(n,'is factorial of some number')\n",
    "    else:\n",
    "        print(n,'is not a factorial of any number')\n",
    "        \n",
    "N=int(input('Enter number to check :'))\n",
    "factorial(N)"
   ]
  },
  {
   "cell_type": "markdown",
   "id": "04bf2503-8a95-4597-b97a-9e4591efbad0",
   "metadata": {},
   "source": [
    "# Find factorial of a number"
   ]
  },
  {
   "cell_type": "code",
   "execution_count": 2,
   "id": "ff10f3e7-6582-48e1-9e6c-958830f6a009",
   "metadata": {},
   "outputs": [
    {
     "name": "stdin",
     "output_type": "stream",
     "text": [
      "Enter a number : 5\n"
     ]
    },
    {
     "name": "stdout",
     "output_type": "stream",
     "text": [
      "The factorial of 5 is 120\n"
     ]
    }
   ],
   "source": [
    "def factorial(n):\n",
    "    result=1\n",
    "    for i in range(2,n+1):\n",
    "        result*=i\n",
    "    return result\n",
    "\n",
    "num=int(input(\"Enter a number :\"))\n",
    "print(f\"The factorial of {num} is {factorial(num)}\")"
   ]
  }
 ],
 "metadata": {
  "kernelspec": {
   "display_name": "Python 3 (ipykernel)",
   "language": "python",
   "name": "python3"
  },
  "language_info": {
   "codemirror_mode": {
    "name": "ipython",
    "version": 3
   },
   "file_extension": ".py",
   "mimetype": "text/x-python",
   "name": "python",
   "nbconvert_exporter": "python",
   "pygments_lexer": "ipython3",
   "version": "3.12.3"
  }
 },
 "nbformat": 4,
 "nbformat_minor": 5
}
