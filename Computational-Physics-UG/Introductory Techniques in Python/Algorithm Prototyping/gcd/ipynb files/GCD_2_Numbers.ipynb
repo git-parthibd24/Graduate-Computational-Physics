{
 "cells": [
  {
   "cell_type": "code",
   "execution_count": null,
   "id": "e5a902b6-9690-4095-9e41-f861cadde919",
   "metadata": {},
   "outputs": [],
   "source": [
    "# Method 1: Greatest Common Divisor of 2 numbers"
   ]
  },
  {
   "cell_type": "code",
   "execution_count": 1,
   "id": "69e7e025-f398-4f35-85c0-59770fd8b71e",
   "metadata": {},
   "outputs": [
    {
     "name": "stdin",
     "output_type": "stream",
     "text": [
      "Enter 1st number:  14\n",
      "Enter 2nd number:  63\n"
     ]
    },
    {
     "name": "stdout",
     "output_type": "stream",
     "text": [
      "The GCD of two numbers is : 7\n"
     ]
    }
   ],
   "source": [
    "m=int(input('Enter 1st number: '))\n",
    "n=int(input('Enter 2nd number: '))\n",
    "fm=[]\n",
    "fn=[]\n",
    "cf=[]\n",
    "for i in range(1,m+1):\n",
    "    if m%i==0:\n",
    "        fm.append(i)\n",
    "for j in range (1,n+1):\n",
    "    if n%j==0:\n",
    "        fn.append(j)\n",
    "for f in fm:\n",
    "    if f in fn:\n",
    "        cf.append(f)\n",
    "print('The GCD of two numbers is :',cf[-1])"
   ]
  },
  {
   "cell_type": "code",
   "execution_count": null,
   "id": "1eea9d65-8891-4c43-b3f8-23a78dcbf8b6",
   "metadata": {},
   "outputs": [],
   "source": [
    "# Method 2: Greatest Common Divisor of 2 numbers"
   ]
  },
  {
   "cell_type": "code",
   "execution_count": 2,
   "id": "4f60e387-302d-41a1-ac31-84ab4504d43c",
   "metadata": {},
   "outputs": [
    {
     "name": "stdin",
     "output_type": "stream",
     "text": [
      "Enter 1st number:  63\n",
      "Enter 2nd number:  14\n"
     ]
    },
    {
     "name": "stdout",
     "output_type": "stream",
     "text": [
      "The GCD of two numbers is : 7\n"
     ]
    }
   ],
   "source": [
    "m=int(input('Enter 1st number: '))\n",
    "n=int(input('Enter 2nd number: '))\n",
    "fm=[]\n",
    "cf=[]\n",
    "for i in range(1,min(m,n)+1):\n",
    "    if m%i==0 and n%i==0:\n",
    "        cf.append(i)\n",
    "print('The GCD of two numbers is :',cf[-1])"
   ]
  },
  {
   "cell_type": "code",
   "execution_count": null,
   "id": "279dfa54-9046-4ecd-a468-87931221d314",
   "metadata": {},
   "outputs": [],
   "source": [
    "# Method 3: Greatest Common Divisor of 2 numbers"
   ]
  },
  {
   "cell_type": "code",
   "execution_count": 4,
   "id": "6ce2c6d7-50a7-442c-ba93-c4b445232a3c",
   "metadata": {},
   "outputs": [
    {
     "name": "stdin",
     "output_type": "stream",
     "text": [
      "Enter 1st number:  81\n",
      "Enter 2nd number:  18\n"
     ]
    },
    {
     "name": "stdout",
     "output_type": "stream",
     "text": [
      "The GCD of two numbers is : 9\n"
     ]
    }
   ],
   "source": [
    "m=int(input('Enter 1st number: '))\n",
    "n=int(input('Enter 2nd number: '))\n",
    "i=min(m,n)\n",
    "while i>0:\n",
    "    if m%i==0 and n%i==0:\n",
    "        print('The GCD of two numbers is :',i)\n",
    "        break\n",
    "    else:\n",
    "        i=i-1"
   ]
  },
  {
   "cell_type": "code",
   "execution_count": null,
   "id": "66b7b7e5-2364-4a3e-ad7b-0f9f5811e71c",
   "metadata": {},
   "outputs": [],
   "source": [
    "# Method 4: Greatest Common Divisor of 2 numbers using Euclid's Algorithm"
   ]
  },
  {
   "cell_type": "code",
   "execution_count": 5,
   "id": "5d84a07a-913c-4439-b7ad-597cd012077a",
   "metadata": {},
   "outputs": [
    {
     "name": "stdin",
     "output_type": "stream",
     "text": [
      "Enter 1st number:  14\n",
      "Enter 2nd number:  63\n"
     ]
    },
    {
     "name": "stdout",
     "output_type": "stream",
     "text": [
      "The GCD of two numbers is : 7\n"
     ]
    }
   ],
   "source": [
    "m=int(input('Enter 1st number: '))\n",
    "n=int(input('Enter 2nd number: '))\n",
    "while n>0:\n",
    "    if m<n:\n",
    "        (m,n)=(n,m)\n",
    "    if (m%n)==0:\n",
    "        print('The GCD of two numbers is :',n)\n",
    "        break\n",
    "    else:\n",
    "        m=m-n\n",
    "        "
   ]
  },
  {
   "cell_type": "code",
   "execution_count": null,
   "id": "10909257-91d6-471b-8970-b4b32a06885f",
   "metadata": {},
   "outputs": [],
   "source": [
    "# Method 5: Greatest Common Divisor of 2 numbers using Euclid's Algorithm"
   ]
  },
  {
   "cell_type": "code",
   "execution_count": 6,
   "id": "a5d60337-bbd5-4103-b3e5-b420e43a3959",
   "metadata": {},
   "outputs": [
    {
     "name": "stdin",
     "output_type": "stream",
     "text": [
      "Enter 1st number:  63\n",
      "Enter 2nd number:  14\n"
     ]
    },
    {
     "name": "stdout",
     "output_type": "stream",
     "text": [
      "The GCD of two numbers is : 7\n"
     ]
    }
   ],
   "source": [
    "m=int(input('Enter 1st number: '))\n",
    "n=int(input('Enter 2nd number: '))\n",
    "\n",
    "if m<n:\n",
    "    (m,n)=(n,m)\n",
    "while (m%n)!=0:\n",
    "    diff=m-n    \n",
    "    (m,n)=(max(n,diff),min(n,diff))\n",
    "print('The GCD of two numbers is :',n)\n",
    "         "
   ]
  },
  {
   "cell_type": "code",
   "execution_count": null,
   "id": "3164017d-d650-45e0-a2d9-c96275648ff8",
   "metadata": {},
   "outputs": [],
   "source": []
  }
 ],
 "metadata": {
  "kernelspec": {
   "display_name": "Python 3 (ipykernel)",
   "language": "python",
   "name": "python3"
  },
  "language_info": {
   "codemirror_mode": {
    "name": "ipython",
    "version": 3
   },
   "file_extension": ".py",
   "mimetype": "text/x-python",
   "name": "python",
   "nbconvert_exporter": "python",
   "pygments_lexer": "ipython3",
   "version": "3.12.3"
  }
 },
 "nbformat": 4,
 "nbformat_minor": 5
}
