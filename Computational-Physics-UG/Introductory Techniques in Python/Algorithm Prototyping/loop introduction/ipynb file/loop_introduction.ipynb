{
 "cells": [
  {
   "cell_type": "markdown",
   "id": "47de759d-f52a-44fd-b349-e5a65b13b0b0",
   "metadata": {},
   "source": [
    "# while loop introduction"
   ]
  },
  {
   "cell_type": "code",
   "execution_count": 1,
   "id": "b8cdd36c-6e6e-479b-b0cf-1fecfa74eb64",
   "metadata": {},
   "outputs": [
    {
     "name": "stdout",
     "output_type": "stream",
     "text": [
      "welcome to python\n",
      "welcome to python\n",
      "welcome to python\n",
      "welcome to python\n",
      "welcome to python\n",
      "welcome to python\n",
      "welcome to python\n",
      "welcome to python\n",
      "welcome to python\n",
      "welcome to python\n"
     ]
    }
   ],
   "source": [
    "i=1\n",
    "while i<=10:\n",
    "    print('welcome to python')\n",
    "    i+=1"
   ]
  },
  {
   "cell_type": "markdown",
   "id": "b9d84212-8426-42c7-96b6-7f59bfaa99ed",
   "metadata": {},
   "source": [
    "# 1st 10 odd numbers"
   ]
  },
  {
   "cell_type": "code",
   "execution_count": 2,
   "id": "261308ab-d966-4c54-9c8b-fce7f4ee4614",
   "metadata": {},
   "outputs": [
    {
     "name": "stdout",
     "output_type": "stream",
     "text": [
      "1 3 5 7 9 11 13 15 17 19 "
     ]
    }
   ],
   "source": [
    "i=1\n",
    "while i<=10:\n",
    "    print(2*i-1,end=' ')\n",
    "    i+=1"
   ]
  },
  {
   "cell_type": "markdown",
   "id": "b7e6a867-fa3e-4922-9d77-d5fe1af8d2cd",
   "metadata": {},
   "source": [
    "# Odd numbers in a range"
   ]
  },
  {
   "cell_type": "code",
   "execution_count": 3,
   "id": "83ae69fc-2408-4733-ac55-972e6d7d19cb",
   "metadata": {},
   "outputs": [
    {
     "name": "stdin",
     "output_type": "stream",
     "text": [
      "enter maximum limit :  15\n"
     ]
    },
    {
     "name": "stdout",
     "output_type": "stream",
     "text": [
      "1 3 5 7 9 11 13 15 "
     ]
    }
   ],
   "source": [
    "n=int(input('enter maximum limit : '))\n",
    "i=1\n",
    "while i<=n:\n",
    "    if i%2!=0:\n",
    "        print(i,end=' ')\n",
    "    i=i+1"
   ]
  },
  {
   "cell_type": "markdown",
   "id": "6eeced42-c538-4bfb-acad-d722b45f041c",
   "metadata": {},
   "source": [
    "# Odd numbers in a range"
   ]
  },
  {
   "cell_type": "code",
   "execution_count": 4,
   "id": "5125e69b-742e-4c50-903c-21d9af877779",
   "metadata": {},
   "outputs": [
    {
     "name": "stdin",
     "output_type": "stream",
     "text": [
      "enter maximum limit :  17\n"
     ]
    },
    {
     "name": "stdout",
     "output_type": "stream",
     "text": [
      "1 3 5 7 9 11 13 15 17 "
     ]
    }
   ],
   "source": [
    "n=int(input('enter maximum limit : '))\n",
    "for i in range(1,n+1,2):\n",
    "    print(i,end=' ')"
   ]
  },
  {
   "cell_type": "markdown",
   "id": "423c2f63-0563-4fed-9e6e-f4f57b9be9c3",
   "metadata": {},
   "source": [
    "# odd numbers within 10  "
   ]
  },
  {
   "cell_type": "code",
   "execution_count": 5,
   "id": "f60c4a1d-2aff-467e-ba65-fdd5bcc0cf86",
   "metadata": {},
   "outputs": [
    {
     "name": "stdout",
     "output_type": "stream",
     "text": [
      "1 3 5 7 9 "
     ]
    }
   ],
   "source": [
    "i=1\n",
    "while i<=10:\n",
    "    print(i,end=' ')\n",
    "    i+=2"
   ]
  },
  {
   "cell_type": "markdown",
   "id": "1f019bae-08cc-4dbd-8570-6dad7c9a0880",
   "metadata": {},
   "source": [
    "# for loop introduction"
   ]
  },
  {
   "cell_type": "code",
   "execution_count": 6,
   "id": "ebf84d6f-602e-4721-ac3f-46b6d0636701",
   "metadata": {},
   "outputs": [
    {
     "name": "stdout",
     "output_type": "stream",
     "text": [
      "welcome to python\n",
      "welcome to python\n",
      "welcome to python\n",
      "welcome to python\n",
      "welcome to python\n",
      "welcome to python\n",
      "welcome to python\n",
      "welcome to python\n",
      "welcome to python\n",
      "welcome to python\n"
     ]
    }
   ],
   "source": [
    "for i in range(10):\n",
    "    print('welcome to python')"
   ]
  },
  {
   "cell_type": "markdown",
   "id": "2c73e62d-d4a8-4a95-953e-57c890db3d6c",
   "metadata": {},
   "source": [
    "# 1st 10 odd numbers"
   ]
  },
  {
   "cell_type": "code",
   "execution_count": 7,
   "id": "f908f6fd-2021-485d-a0c0-4d9c7f83373a",
   "metadata": {},
   "outputs": [
    {
     "name": "stdout",
     "output_type": "stream",
     "text": [
      "1 3 5 7 9 11 13 15 17 19 "
     ]
    }
   ],
   "source": [
    "for i in range(1,11):\n",
    "    print(2*i-1,end=' ')"
   ]
  },
  {
   "cell_type": "markdown",
   "id": "f2b22524-ad81-4d12-be28-0c05d7008cc0",
   "metadata": {},
   "source": [
    "# odd numbers within 10"
   ]
  },
  {
   "cell_type": "code",
   "execution_count": 8,
   "id": "3b191266-5215-4ff3-a84e-2291e75c95b3",
   "metadata": {},
   "outputs": [
    {
     "name": "stdout",
     "output_type": "stream",
     "text": [
      "1 3 5 7 9 "
     ]
    }
   ],
   "source": [
    "for i in range (1,11,2):\n",
    "    print(i,end=' ')"
   ]
  }
 ],
 "metadata": {
  "kernelspec": {
   "display_name": "Python 3 (ipykernel)",
   "language": "python",
   "name": "python3"
  },
  "language_info": {
   "codemirror_mode": {
    "name": "ipython",
    "version": 3
   },
   "file_extension": ".py",
   "mimetype": "text/x-python",
   "name": "python",
   "nbconvert_exporter": "python",
   "pygments_lexer": "ipython3",
   "version": "3.12.3"
  }
 },
 "nbformat": 4,
 "nbformat_minor": 5
}
