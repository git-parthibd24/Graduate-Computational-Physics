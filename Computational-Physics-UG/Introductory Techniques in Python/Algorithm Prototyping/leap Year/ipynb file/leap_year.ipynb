{
 "cells": [
  {
   "cell_type": "markdown",
   "id": "a14c5d96-7e5f-4575-8b2c-85b7d72d5ce5",
   "metadata": {},
   "source": [
    "# Check a year is leap year or not"
   ]
  },
  {
   "cell_type": "code",
   "execution_count": 1,
   "id": "155dac3c-0589-4d36-a5d7-3e83d1afba1c",
   "metadata": {},
   "outputs": [
    {
     "name": "stdin",
     "output_type": "stream",
     "text": [
      "enter a year :  2024\n"
     ]
    },
    {
     "name": "stdout",
     "output_type": "stream",
     "text": [
      "2024 is leap year\n"
     ]
    }
   ],
   "source": [
    "y=eval(input('enter a year : '))\n",
    "if y%100==0:\n",
    "    if y%400==0:\n",
    "        print(y,'is leap year')\n",
    "    else:\n",
    "        print(y,'is not a leap year')\n",
    "else:\n",
    "    if y%4==0:\n",
    "        print(y,'is leap year')\n",
    "    else:\n",
    "        print(y,'is not a leap year')"
   ]
  },
  {
   "cell_type": "markdown",
   "id": "c85cf700-de42-4bda-b78d-b09f2b4ff157",
   "metadata": {},
   "source": [
    "# Check a year is leap year or not"
   ]
  },
  {
   "cell_type": "code",
   "execution_count": 2,
   "id": "82952f1e-6cb1-4599-b85b-728d6343f8d8",
   "metadata": {},
   "outputs": [
    {
     "name": "stdin",
     "output_type": "stream",
     "text": [
      "enter a year :  2024\n"
     ]
    },
    {
     "name": "stdout",
     "output_type": "stream",
     "text": [
      "2024 is a leap year\n"
     ]
    }
   ],
   "source": [
    "y=eval(input('enter a year : '))\n",
    "if y%400==0 or y%100!=0 and y%4==0:\n",
    "    print(y,'is a leap year')\n",
    "else:\n",
    "    print(y,'is not a leap year')"
   ]
  }
 ],
 "metadata": {
  "kernelspec": {
   "display_name": "Python 3 (ipykernel)",
   "language": "python",
   "name": "python3"
  },
  "language_info": {
   "codemirror_mode": {
    "name": "ipython",
    "version": 3
   },
   "file_extension": ".py",
   "mimetype": "text/x-python",
   "name": "python",
   "nbconvert_exporter": "python",
   "pygments_lexer": "ipython3",
   "version": "3.12.3"
  }
 },
 "nbformat": 4,
 "nbformat_minor": 5
}
