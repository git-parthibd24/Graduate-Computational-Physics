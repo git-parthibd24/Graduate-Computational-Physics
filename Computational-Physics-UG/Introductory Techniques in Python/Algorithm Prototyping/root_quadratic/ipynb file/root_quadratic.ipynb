{
 "cells": [
  {
   "cell_type": "markdown",
   "id": "553b324c-2acd-4a6d-a280-efef92f31fca",
   "metadata": {},
   "source": [
    "# Find the roots of a quadratic equation from math import sqrt"
   ]
  },
  {
   "cell_type": "code",
   "execution_count": 2,
   "id": "698eec40-01bd-4472-8de6-1ab33aed0197",
   "metadata": {},
   "outputs": [
    {
     "name": "stdin",
     "output_type": "stream",
     "text": [
      "enter coeficient of x^2 :  2\n",
      "enter coefficient of x :  8\n",
      "enter constant :  3\n"
     ]
    },
    {
     "name": "stdout",
     "output_type": "stream",
     "text": [
      "roots are real and unequal\n",
      "one root is -0.41886116991581024\n",
      "other root is -3.58113883008419\n"
     ]
    }
   ],
   "source": [
    "import math as m\n",
    "import cmath as cm\n",
    "a=eval(input('enter coeficient of x^2 : '))\n",
    "b=eval(input('enter coefficient of x : '))\n",
    "c=eval(input('enter constant : '))\n",
    "if a!=0:\n",
    "    d=b**2-4*a*c\n",
    "    if d==0:\n",
    "       print('roots are real and equal')\n",
    "       r=-b/2*a\n",
    "       print(r)\n",
    "    elif d>0:\n",
    "        print('roots are real and unequal')\n",
    "        p=(-b+m.sqrt(d))/(2*a)\n",
    "        q=(-b-m.sqrt(d))/(2*a)\n",
    "        print('one root is', p)\n",
    "        print('other root is',q)\n",
    "    else:\n",
    "        print('roots are complex')\n",
    "        p=(-b+cm.sqrt(d))/(2*a)\n",
    "        q=(-b-cm.sqrt(d))/(2*a)\n",
    "        print('one root is',p)\n",
    "        print('other root is',q)\n",
    "else:\n",
    "    print('not a quadratic equation')"
   ]
  },
  {
   "cell_type": "code",
   "execution_count": null,
   "id": "0d7338cd-41ca-4c93-8d63-d86c97249da4",
   "metadata": {},
   "outputs": [],
   "source": []
  }
 ],
 "metadata": {
  "kernelspec": {
   "display_name": "Python 3 (ipykernel)",
   "language": "python",
   "name": "python3"
  },
  "language_info": {
   "codemirror_mode": {
    "name": "ipython",
    "version": 3
   },
   "file_extension": ".py",
   "mimetype": "text/x-python",
   "name": "python",
   "nbconvert_exporter": "python",
   "pygments_lexer": "ipython3",
   "version": "3.12.3"
  }
 },
 "nbformat": 4,
 "nbformat_minor": 5
}
