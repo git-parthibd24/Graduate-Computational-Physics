{
 "cells": [
  {
   "cell_type": "markdown",
   "id": "7c01cd2b-a773-480f-a78f-e95f57ffa97f",
   "metadata": {},
   "source": [
    "# Count the digits in a number"
   ]
  },
  {
   "cell_type": "code",
   "execution_count": 1,
   "id": "98f2024b-28b5-4805-839a-e6e3d06f071c",
   "metadata": {},
   "outputs": [
    {
     "name": "stdin",
     "output_type": "stream",
     "text": [
      "Enter a number :  136547\n"
     ]
    },
    {
     "name": "stdout",
     "output_type": "stream",
     "text": [
      "The number of digits in the number are:  6\n"
     ]
    }
   ],
   "source": [
    "num=eval(input('Enter a number : '))\n",
    "count=0\n",
    "while num!=0:\n",
    "    count+=1\n",
    "    num=num//10\n",
    "print('The number of digits in the number are: ',count)"
   ]
  }
 ],
 "metadata": {
  "kernelspec": {
   "display_name": "Python 3 (ipykernel)",
   "language": "python",
   "name": "python3"
  },
  "language_info": {
   "codemirror_mode": {
    "name": "ipython",
    "version": 3
   },
   "file_extension": ".py",
   "mimetype": "text/x-python",
   "name": "python",
   "nbconvert_exporter": "python",
   "pygments_lexer": "ipython3",
   "version": "3.12.3"
  }
 },
 "nbformat": 4,
 "nbformat_minor": 5
}
