{
 "cells": [
  {
   "cell_type": "markdown",
   "id": "5f417460-5ef8-45a5-bf67-b5b2ba9173dc",
   "metadata": {},
   "source": [
    "# Taylor series of cosx"
   ]
  },
  {
   "cell_type": "code",
   "execution_count": 1,
   "id": "83452a6b-948a-4b49-94b0-69751dbe99ca",
   "metadata": {},
   "outputs": [
    {
     "name": "stdin",
     "output_type": "stream",
     "text": [
      "Enter x-coordinate in radian :  2\n"
     ]
    },
    {
     "name": "stdout",
     "output_type": "stream",
     "text": [
      "The value of Taylor series at x = 2 radian is -0.41587301587301595\n"
     ]
    }
   ],
   "source": [
    "import math\n",
    "s1=0.0\n",
    "s2=0.0\n",
    "x=eval(input('Enter x-coordinate in radian : '))\n",
    "i=0\n",
    "while True:\n",
    "    s1=s1+(pow(x,2*i)/math.factorial(2*i))*pow(-1,i)\n",
    "    i=i+1\n",
    "    if abs(s1-s2)<=0.01:\n",
    "        break\n",
    "    s2=s1\n",
    "print('The value of Taylor series at x =',x,'radian is',s1)"
   ]
  },
  {
   "cell_type": "code",
   "execution_count": null,
   "id": "9b04c1f4-ada4-47bf-80c2-f09ef60c29a4",
   "metadata": {},
   "outputs": [],
   "source": []
  }
 ],
 "metadata": {
  "kernelspec": {
   "display_name": "Python 3 (ipykernel)",
   "language": "python",
   "name": "python3"
  },
  "language_info": {
   "codemirror_mode": {
    "name": "ipython",
    "version": 3
   },
   "file_extension": ".py",
   "mimetype": "text/x-python",
   "name": "python",
   "nbconvert_exporter": "python",
   "pygments_lexer": "ipython3",
   "version": "3.12.3"
  }
 },
 "nbformat": 4,
 "nbformat_minor": 5
}
