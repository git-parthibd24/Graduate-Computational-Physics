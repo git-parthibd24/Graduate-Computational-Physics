{
 "cells": [
  {
   "cell_type": "markdown",
   "id": "7981d3df-2d5f-487c-a683-f2a2e4877bdd",
   "metadata": {},
   "source": [
    "# Pattern left end"
   ]
  },
  {
   "cell_type": "code",
   "execution_count": 3,
   "id": "50155f30-bdb5-49aa-9050-e737bbac6980",
   "metadata": {},
   "outputs": [
    {
     "name": "stdin",
     "output_type": "stream",
     "text": [
      "enter line no :  5\n"
     ]
    },
    {
     "name": "stdout",
     "output_type": "stream",
     "text": [
      "* \n",
      "* * \n",
      "* * * \n",
      "* * * * \n",
      "* * * * * \n"
     ]
    }
   ],
   "source": [
    "n=eval(input('enter line no : '))\n",
    "i=1\n",
    "while i<=n:\n",
    "    j=1\n",
    "    while j<=i:\n",
    "        print('*',end=' ')\n",
    "        j=j+1\n",
    "    print()\n",
    "    i=i+1"
   ]
  },
  {
   "cell_type": "markdown",
   "id": "d78accff-ed3a-46b5-b5a6-944d5053bf3a",
   "metadata": {},
   "source": [
    "# Pattern odd (left end)"
   ]
  },
  {
   "cell_type": "code",
   "execution_count": 4,
   "id": "81959684-109f-4b46-8192-cd96bbd9cba8",
   "metadata": {},
   "outputs": [
    {
     "name": "stdin",
     "output_type": "stream",
     "text": [
      "enter line no :  4\n"
     ]
    },
    {
     "name": "stdout",
     "output_type": "stream",
     "text": [
      "* \n",
      "* * * \n",
      "* * * * * \n",
      "* * * * * * * \n"
     ]
    }
   ],
   "source": [
    "n=eval(input('enter line no : '))\n",
    "i=1\n",
    "while i<=n:\n",
    "    j=1\n",
    "    while j<=2*i-1:\n",
    "        print('*',end=' ')\n",
    "        j=j+1\n",
    "    print()\n",
    "    i=i+1"
   ]
  },
  {
   "cell_type": "markdown",
   "id": "19f0c3da-6420-4360-9ec2-87d169389410",
   "metadata": {},
   "source": [
    "#  Pattern numbers 1"
   ]
  },
  {
   "cell_type": "code",
   "execution_count": 5,
   "id": "9413c80f-337c-4fe4-b991-f35b8d724489",
   "metadata": {},
   "outputs": [
    {
     "name": "stdin",
     "output_type": "stream",
     "text": [
      "enter line no :  6\n"
     ]
    },
    {
     "name": "stdout",
     "output_type": "stream",
     "text": [
      "1 \n",
      "2 3 \n",
      "4 5 6 \n",
      "7 8 9 10 \n",
      "11 12 13 14 15 \n",
      "16 17 18 19 20 21 \n"
     ]
    }
   ],
   "source": [
    "n=eval(input('enter line no : '))\n",
    "i=1\n",
    "a=1\n",
    "while i<=n:\n",
    "    j=1\n",
    "    while j<=i:\n",
    "        print(a,end=' ')\n",
    "        a=a+1\n",
    "        j=j+1\n",
    "    print()\n",
    "    i=i+1"
   ]
  },
  {
   "cell_type": "markdown",
   "id": "ea1c64ad-43ef-427d-9936-a33ee26ab417",
   "metadata": {},
   "source": [
    "# Pattern numbers 2"
   ]
  },
  {
   "cell_type": "code",
   "execution_count": 14,
   "id": "1ff0463f-3691-4422-ae55-ad06d0624ec3",
   "metadata": {},
   "outputs": [
    {
     "name": "stdin",
     "output_type": "stream",
     "text": [
      "enter line no :  5\n"
     ]
    },
    {
     "name": "stdout",
     "output_type": "stream",
     "text": [
      "1 \n",
      "1 2 \n",
      "1 2 3 \n",
      "1 2 3 4 \n",
      "1 2 3 4 5 \n"
     ]
    }
   ],
   "source": [
    "n=eval(input('enter line no : '))\n",
    "i=1\n",
    "while i<=n:\n",
    "    j=1\n",
    "    while j<=i:\n",
    "        print(j,end=' ')\n",
    "        j=j+1\n",
    "    print()\n",
    "    i=i+1"
   ]
  },
  {
   "cell_type": "markdown",
   "id": "d58b6943-72c8-47d7-8304-b7773bc6eb18",
   "metadata": {},
   "source": [
    "# Pattern Alphabet"
   ]
  },
  {
   "cell_type": "code",
   "execution_count": 15,
   "id": "918f6541-9dd7-4def-8c07-2062d90893d8",
   "metadata": {},
   "outputs": [
    {
     "name": "stdin",
     "output_type": "stream",
     "text": [
      "enter line no :  5\n"
     ]
    },
    {
     "name": "stdout",
     "output_type": "stream",
     "text": [
      "A \n",
      "A B \n",
      "A B C \n",
      "A B C D \n",
      "A B C D E \n"
     ]
    }
   ],
   "source": [
    "n=eval(input('enter line no : '))\n",
    "i=1\n",
    "while i<=n:\n",
    "    j=1\n",
    "    a=65\n",
    "    while j<=i:\n",
    "        print(chr(a),end=' ')\n",
    "        a=a+1\n",
    "        j=j+1\n",
    "    print()\n",
    "    i=i+1"
   ]
  },
  {
   "cell_type": "markdown",
   "id": "54f3e36e-453f-44b2-badc-804072fe2a1b",
   "metadata": {},
   "source": [
    "# Pattern reverse triangle"
   ]
  },
  {
   "cell_type": "code",
   "execution_count": 31,
   "id": "ecaa973f-e3fa-4949-a971-9ce812b84b0e",
   "metadata": {},
   "outputs": [
    {
     "name": "stdin",
     "output_type": "stream",
     "text": [
      "enter line no :  6\n"
     ]
    },
    {
     "name": "stdout",
     "output_type": "stream",
     "text": [
      "* * * * * * * * * * * \n",
      "  * * * * * * * * * \n",
      "    * * * * * * * \n",
      "      * * * * * \n",
      "        * * * \n",
      "          * \n"
     ]
    }
   ],
   "source": [
    "n=eval(input('enter line no : '))\n",
    "i=1\n",
    "while i<=n:\n",
    "    j=1\n",
    "    while j<=2*(i-1):\n",
    "        print(' ',end='')\n",
    "        j=j+1\n",
    "    j=2*(n-i)+1\n",
    "    while j>=1:\n",
    "    \tprint('*',end=' ')\n",
    "    \tj=j-1\n",
    "    print()\n",
    "    i=i+1"
   ]
  },
  {
   "cell_type": "markdown",
   "id": "20a729fc-7da6-4997-9b9c-b78a03b43d7b",
   "metadata": {},
   "source": [
    "# Pattern triangle "
   ]
  },
  {
   "cell_type": "code",
   "execution_count": 24,
   "id": "b4ac14d0-a991-4207-9a63-28418d1f3777",
   "metadata": {},
   "outputs": [
    {
     "name": "stdin",
     "output_type": "stream",
     "text": [
      "enter line number :  8\n"
     ]
    },
    {
     "name": "stdout",
     "output_type": "stream",
     "text": [
      "       * \n",
      "      * * \n",
      "     * * * \n",
      "    * * * * \n",
      "   * * * * * \n",
      "  * * * * * * \n",
      " * * * * * * * \n",
      "* * * * * * * * \n"
     ]
    }
   ],
   "source": [
    "n=eval(input('enter line number : '))\n",
    "i=0\n",
    "while i<n:\n",
    "    j=n-i-1\n",
    "    while j>0:\n",
    "        print(end=' ')\n",
    "        j=j-1\n",
    "    k=i+1\n",
    "    while k>0:\n",
    "        print('*',end=' ')\n",
    "        k=k-1\n",
    "    i=i+1\n",
    "    print()"
   ]
  },
  {
   "cell_type": "markdown",
   "id": "20d3d33b-7d54-4d5b-9ed7-532c46b47a2a",
   "metadata": {},
   "source": [
    "# Pattern triangle (odd)"
   ]
  },
  {
   "cell_type": "code",
   "execution_count": 25,
   "id": "574eabbf-840b-4e96-a1dc-8abbf0501b19",
   "metadata": {},
   "outputs": [
    {
     "name": "stdin",
     "output_type": "stream",
     "text": [
      "enter a number :  8\n"
     ]
    },
    {
     "name": "stdout",
     "output_type": "stream",
     "text": [
      "                              * \n",
      "                            * * * \n",
      "                          * * * * * \n",
      "                        * * * * * * * \n",
      "                      * * * * * * * * * \n",
      "                    * * * * * * * * * * * \n",
      "                  * * * * * * * * * * * * * \n",
      "                * * * * * * * * * * * * * * * \n"
     ]
    }
   ],
   "source": [
    "n=eval(input('enter a number : '))\n",
    "i=1\n",
    "while i<=n:\n",
    "    j=1\n",
    "    while j<=2*n-i:\n",
    "        print(' ',end=' ')\n",
    "        j=j+1\n",
    "    j=1\n",
    "    while j<=2*i-1:\n",
    "        print('*',end=' ')\n",
    "        j=j+1\n",
    "    print()\n",
    "    i=i+1"
   ]
  },
  {
   "cell_type": "markdown",
   "id": "82cf7b78-8f27-4f08-87bc-66f633628532",
   "metadata": {},
   "source": [
    "# Pattern right end"
   ]
  },
  {
   "cell_type": "code",
   "execution_count": 19,
   "id": "f9f3c8b1-6f84-4ea6-a726-bf0c78b34b16",
   "metadata": {},
   "outputs": [
    {
     "name": "stdin",
     "output_type": "stream",
     "text": [
      "enter a number :  8\n"
     ]
    },
    {
     "name": "stdout",
     "output_type": "stream",
     "text": [
      "              * \n",
      "            * * \n",
      "          * * * \n",
      "        * * * * \n",
      "      * * * * * \n",
      "    * * * * * * \n",
      "  * * * * * * * \n",
      "* * * * * * * * \n"
     ]
    }
   ],
   "source": [
    "n=eval(input('enter a number : '))\n",
    "i=1\n",
    "while i<=n:\n",
    "    j=1\n",
    "    while j<=n-i:\n",
    "        print(' ',end=' ')\n",
    "        j=j+1\n",
    "    j=1\n",
    "    while j<=i:\n",
    "        print('*',end=' ')\n",
    "        j=j+1\n",
    "    print()\n",
    "    i=i+1"
   ]
  },
  {
   "cell_type": "code",
   "execution_count": null,
   "id": "0d154825-9219-409b-adcd-21782cbf21d8",
   "metadata": {},
   "outputs": [],
   "source": []
  }
 ],
 "metadata": {
  "kernelspec": {
   "display_name": "Python 3 (ipykernel)",
   "language": "python",
   "name": "python3"
  },
  "language_info": {
   "codemirror_mode": {
    "name": "ipython",
    "version": 3
   },
   "file_extension": ".py",
   "mimetype": "text/x-python",
   "name": "python",
   "nbconvert_exporter": "python",
   "pygments_lexer": "ipython3",
   "version": "3.12.3"
  }
 },
 "nbformat": 4,
 "nbformat_minor": 5
}
