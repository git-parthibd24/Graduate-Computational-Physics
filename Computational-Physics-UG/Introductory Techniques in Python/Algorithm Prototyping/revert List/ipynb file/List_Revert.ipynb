{
 "cells": [
  {
   "cell_type": "markdown",
   "id": "82131ab1-ad3b-477d-862e-c764da3a5a00",
   "metadata": {},
   "source": [
    "# Revert list"
   ]
  },
  {
   "cell_type": "code",
   "execution_count": 1,
   "id": "c95de84d-dc16-4fa7-b35d-b1b9c96fcf79",
   "metadata": {},
   "outputs": [
    {
     "name": "stdin",
     "output_type": "stream",
     "text": [
      "Enter no. of list elements :  5\n"
     ]
    },
    {
     "name": "stdout",
     "output_type": "stream",
     "text": [
      "Enter list elements : \n"
     ]
    },
    {
     "name": "stdin",
     "output_type": "stream",
     "text": [
      " 1\n",
      " 2\n",
      " 3\n",
      " 4\n",
      " 5\n"
     ]
    },
    {
     "name": "stdout",
     "output_type": "stream",
     "text": [
      "The list is  [1, 2, 3, 4, 5]\n",
      "Reverted list is:  [5, 4, 3, 2, 1]\n"
     ]
    }
   ],
   "source": [
    "n=eval(input(\"Enter no. of list elements : \"))\n",
    "print(\"Enter list elements : \")\n",
    "a=[]\n",
    "for i in range(n):\n",
    "    digit=int(input())\n",
    "    a.append(digit)\n",
    "print(\"The list is \",a)\n",
    "i=0\n",
    "j=len(a)-1    #Counting starts from zero in list\n",
    "while i<j:\n",
    "    t=a[i]\n",
    "    a[i]=a[j] #swapping\n",
    "    a[j]=t\n",
    "    i=i+1\n",
    "    j=j-1\n",
    "print(\"Reverted list is: \",a)"
   ]
  },
  {
   "cell_type": "markdown",
   "id": "5459bfeb-4245-4e42-acbb-816495645d7e",
   "metadata": {},
   "source": [
    "# Revert list by conversion to integer"
   ]
  },
  {
   "cell_type": "code",
   "execution_count": 2,
   "id": "9d92a835-dc5c-4a51-8494-2de0415776f4",
   "metadata": {},
   "outputs": [
    {
     "name": "stdin",
     "output_type": "stream",
     "text": [
      "Enter no. of list elements :  5\n"
     ]
    },
    {
     "name": "stdout",
     "output_type": "stream",
     "text": [
      "Enter list elements : \n"
     ]
    },
    {
     "name": "stdin",
     "output_type": "stream",
     "text": [
      " 1\n",
      " 2\n",
      " 3\n",
      " 4\n",
      " 5\n"
     ]
    },
    {
     "name": "stdout",
     "output_type": "stream",
     "text": [
      "The list is  [1, 2, 3, 4, 5]\n",
      "Reverted number is : 54321\n"
     ]
    }
   ],
   "source": [
    "n=eval(input(\"Enter no. of list elements : \"))\n",
    "print(\"Enter list elements : \")\n",
    "a=[]\n",
    "for i in range(n):\n",
    "    digit=int(input())\n",
    "    a.append(digit)\n",
    "print(\"The list is \",a)\n",
    "m=''.join(str(k) for k in a)\n",
    "a=int(m)\n",
    "x=0\n",
    "while a>0:\n",
    "    b=a%10     #gives last digit of a\n",
    "    x=x*10+b   #x*10 Creates numbers with 0 at last which can be replaced with new b\n",
    "    a=a//10    #removes remainder i.e last digit\n",
    "print(\"Reverted number is :\",x)"
   ]
  },
  {
   "cell_type": "code",
   "execution_count": null,
   "id": "40b95c3e-0e1f-473f-8df6-325cf26750d7",
   "metadata": {},
   "outputs": [],
   "source": []
  }
 ],
 "metadata": {
  "kernelspec": {
   "display_name": "Python 3 (ipykernel)",
   "language": "python",
   "name": "python3"
  },
  "language_info": {
   "codemirror_mode": {
    "name": "ipython",
    "version": 3
   },
   "file_extension": ".py",
   "mimetype": "text/x-python",
   "name": "python",
   "nbconvert_exporter": "python",
   "pygments_lexer": "ipython3",
   "version": "3.12.3"
  }
 },
 "nbformat": 4,
 "nbformat_minor": 5
}
