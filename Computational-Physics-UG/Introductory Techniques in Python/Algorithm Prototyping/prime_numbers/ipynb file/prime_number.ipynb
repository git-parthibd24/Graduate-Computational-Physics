{
 "cells": [
  {
   "cell_type": "markdown",
   "id": "3e11f52e-9830-43ee-a80b-6e1dcdfcd298",
   "metadata": {},
   "source": [
    "# Check number is prime or not"
   ]
  },
  {
   "cell_type": "code",
   "execution_count": 2,
   "id": "681b6b39-952f-4522-871d-6b26546f692b",
   "metadata": {},
   "outputs": [
    {
     "name": "stdin",
     "output_type": "stream",
     "text": [
      "Enter a number : 13\n"
     ]
    },
    {
     "name": "stdout",
     "output_type": "stream",
     "text": [
      "13 is a prime number\n"
     ]
    }
   ],
   "source": [
    "num=int(input(\"Enter a number :\"))\n",
    "flag=False\n",
    "if num>1:\n",
    "    for i in range(2,num):\n",
    "        if num%i==0:\n",
    "            flag=True\n",
    "            break\n",
    "if flag==True:\n",
    "    print(num,\"is not a prime number\")\n",
    "else:\n",
    "    print(num,\"is a prime number\")"
   ]
  },
  {
   "cell_type": "markdown",
   "id": "3bcddfc9-29e0-44f4-ab2f-3a6ec755fd17",
   "metadata": {},
   "source": [
    "# Prime numbers within a range"
   ]
  },
  {
   "cell_type": "code",
   "execution_count": 4,
   "id": "758a48d8-1130-4e5e-ab63-3ef9ccb16544",
   "metadata": {},
   "outputs": [
    {
     "name": "stdin",
     "output_type": "stream",
     "text": [
      "Enter lower range : 5\n",
      "Enter upper range : 20\n"
     ]
    },
    {
     "name": "stdout",
     "output_type": "stream",
     "text": [
      "The prime number is : 5\n",
      "The prime number is : 7\n",
      "The prime number is : 11\n",
      "The prime number is : 13\n",
      "The prime number is : 17\n",
      "The prime number is : 19\n"
     ]
    }
   ],
   "source": [
    "lower=int(input(\"Enter lower range :\"))  \n",
    "upper=int(input(\"Enter upper range :\"))  \n",
    "for num in range(lower,upper+1):  \n",
    "   if num>1:  \n",
    "       for i in range(2,num):  \n",
    "           if num%i==0:  \n",
    "               break  \n",
    "       else:  \n",
    "           print('The prime number is :',num) "
   ]
  },
  {
   "cell_type": "markdown",
   "id": "895a184e-928d-48f7-93dc-fd8e6bb95a25",
   "metadata": {},
   "source": [
    "# Prime factors of a number"
   ]
  },
  {
   "cell_type": "code",
   "execution_count": 5,
   "id": "2a476e9e-0eb4-44b8-8a10-01bf54e9f72d",
   "metadata": {},
   "outputs": [
    {
     "name": "stdin",
     "output_type": "stream",
     "text": [
      "Enter the number :  35\n"
     ]
    },
    {
     "name": "stdout",
     "output_type": "stream",
     "text": [
      "The prime factors are :\n",
      "5\n",
      "7\n"
     ]
    }
   ],
   "source": [
    "n=eval(input('Enter the number : '))\n",
    "i=1\n",
    "\n",
    "l=[]\n",
    "while i<=n:\n",
    "    if n%i==0:\n",
    "        flag=False\n",
    "        if i>1:\n",
    "            for j in range(2,i):\n",
    "                if i%j==0:\n",
    "                    flag=True\n",
    "                    break\n",
    "            if flag==False:\n",
    "                l.append(i)\n",
    "                #print('prime factors are :',i)\n",
    "    i+=1\n",
    "if len(l)>0:\n",
    "    print('The prime factors are :')\n",
    "    for i in range(len(l)):\n",
    "        print(l[i])\n",
    "else:\n",
    "    print('There are no prime factors')"
   ]
  },
  {
   "cell_type": "code",
   "execution_count": null,
   "id": "26f9c572-5085-42ce-9939-51a03595a71a",
   "metadata": {},
   "outputs": [],
   "source": []
  }
 ],
 "metadata": {
  "kernelspec": {
   "display_name": "Python 3 (ipykernel)",
   "language": "python",
   "name": "python3"
  },
  "language_info": {
   "codemirror_mode": {
    "name": "ipython",
    "version": 3
   },
   "file_extension": ".py",
   "mimetype": "text/x-python",
   "name": "python",
   "nbconvert_exporter": "python",
   "pygments_lexer": "ipython3",
   "version": "3.12.3"
  }
 },
 "nbformat": 4,
 "nbformat_minor": 5
}
