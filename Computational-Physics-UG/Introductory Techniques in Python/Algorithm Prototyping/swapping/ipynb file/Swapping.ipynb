{
 "cells": [
  {
   "cell_type": "code",
   "execution_count": null,
   "id": "471f7bae-f606-42e1-9cdc-810cb2480a29",
   "metadata": {},
   "outputs": [],
   "source": [
    "#Swapping of two numbers"
   ]
  },
  {
   "cell_type": "code",
   "execution_count": 4,
   "id": "12e993d2-9c7b-4d85-8000-c3be5cf7b263",
   "metadata": {},
   "outputs": [
    {
     "name": "stdin",
     "output_type": "stream",
     "text": [
      "Enter number 1 :  2\n",
      "Enter number 2 :  5\n"
     ]
    },
    {
     "name": "stdout",
     "output_type": "stream",
     "text": [
      "before swapping num1 : 2 before swapping num2 : 5 after swapping num1 :  5 before swapping num2 :  2 "
     ]
    }
   ],
   "source": [
    "a=int(input('Enter number 1 : '))\n",
    "b=int(input('Enter number 2 : '))\n",
    "print('before swapping num1 :',a,'before swapping num2 :',b,end=' ')\n",
    "c=a\n",
    "a=b\n",
    "b=c\n",
    "print('after swapping num1 : ',a,'before swapping num2 : ',b,end=' ')"
   ]
  },
  {
   "cell_type": "code",
   "execution_count": null,
   "id": "f9615989-6672-4135-b2e4-b793fb1cc762",
   "metadata": {},
   "outputs": [],
   "source": [
    "#Swapping of two numbers"
   ]
  },
  {
   "cell_type": "code",
   "execution_count": 3,
   "id": "d4acd7d8-f820-48bb-8385-5e4d0760f7fd",
   "metadata": {},
   "outputs": [
    {
     "name": "stdin",
     "output_type": "stream",
     "text": [
      "Enter a :  2\n",
      "Enter b :  5\n"
     ]
    },
    {
     "name": "stdout",
     "output_type": "stream",
     "text": [
      "before swapping a = 2 b = 5\n",
      "after swapping a = 5 b = 2\n"
     ]
    }
   ],
   "source": [
    "a=eval(input('Enter a : ')) #Or write a,b=eval(input('enter a and b: '))\n",
    "b=eval(input('Enter b : '))\n",
    "print('before swapping a =',a,'b =',b)\n",
    "a,b=b,a\n",
    "print('after swapping a =',a,'b =',b)"
   ]
  },
  {
   "cell_type": "code",
   "execution_count": null,
   "id": "7053ab2e-f733-4ee7-884e-e2e040058efd",
   "metadata": {},
   "outputs": [],
   "source": []
  }
 ],
 "metadata": {
  "kernelspec": {
   "display_name": "Python 3 (ipykernel)",
   "language": "python",
   "name": "python3"
  },
  "language_info": {
   "codemirror_mode": {
    "name": "ipython",
    "version": 3
   },
   "file_extension": ".py",
   "mimetype": "text/x-python",
   "name": "python",
   "nbconvert_exporter": "python",
   "pygments_lexer": "ipython3",
   "version": "3.12.3"
  }
 },
 "nbformat": 4,
 "nbformat_minor": 5
}
