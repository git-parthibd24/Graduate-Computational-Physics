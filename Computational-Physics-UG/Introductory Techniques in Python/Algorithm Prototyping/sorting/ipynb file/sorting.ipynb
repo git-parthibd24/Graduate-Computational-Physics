{
 "cells": [
  {
   "cell_type": "markdown",
   "id": "a639287b-9270-40ff-b654-cc41e77b3f78",
   "metadata": {},
   "source": [
    "# Bubble Sort 1"
   ]
  },
  {
   "cell_type": "code",
   "execution_count": 1,
   "id": "322b9c14-1250-4c91-9235-200186798c7f",
   "metadata": {},
   "outputs": [
    {
     "name": "stdin",
     "output_type": "stream",
     "text": [
      "How many elements :  5\n"
     ]
    },
    {
     "name": "stdout",
     "output_type": "stream",
     "text": [
      "Enter elements : \n"
     ]
    },
    {
     "name": "stdin",
     "output_type": "stream",
     "text": [
      " 2\n",
      " 4\n",
      " 6\n",
      " 1\n",
      " 5\n"
     ]
    },
    {
     "name": "stdout",
     "output_type": "stream",
     "text": [
      "The list before sorting :  [2, 4, 6, 1, 5]\n",
      "The sorted list is : [1, 2, 4, 5, 6]\n"
     ]
    }
   ],
   "source": [
    "n=eval(input('How many elements : '))\n",
    "print('Enter elements : ')\n",
    "l=[]\n",
    "for i in range(n):            \n",
    "    item=eval(input())\n",
    "    l.append(item)\n",
    "print('The list before sorting : ',l)\n",
    "for i in range(n-1):                       #In each iteration, successive bigger numbers are send at last. Since there are n elements in list, this loop must run n times\n",
    "    flag=True\n",
    "    for j in range(n-i-1):                 #Sorting the unsorted portion remaining. So decrease the count of iteration i.e position of elements who are needed to be sorted\n",
    "       if l[j]>l[j+1]:\n",
    "           l[j],l[j+1]=l[j+1],l[j]\n",
    "           flag=False\n",
    "    if flag==True:\n",
    "       break\n",
    "print('The sorted list is :',l)"
   ]
  },
  {
   "cell_type": "markdown",
   "id": "37b90f49-b961-4a76-95ac-0702db8e1e1f",
   "metadata": {},
   "source": [
    "# Bubble Sort 2"
   ]
  },
  {
   "cell_type": "code",
   "execution_count": 2,
   "id": "02476db2-240a-4422-99e1-1e029db31e98",
   "metadata": {},
   "outputs": [
    {
     "name": "stdin",
     "output_type": "stream",
     "text": [
      "Number of elements to be entered :  6\n"
     ]
    },
    {
     "name": "stdout",
     "output_type": "stream",
     "text": [
      "Enter the elements of unsorted list : \n"
     ]
    },
    {
     "name": "stdin",
     "output_type": "stream",
     "text": [
      " 10\n",
      " 70\n",
      " 65\n",
      " 24\n",
      " 97\n",
      " 50\n"
     ]
    },
    {
     "name": "stdout",
     "output_type": "stream",
     "text": [
      "Unsorted list is : [10, 70, 65, 24, 97, 50]\n"
     ]
    },
    {
     "name": "stdin",
     "output_type": "stream",
     "text": [
      "For ascending enter 6 and for descending enter 9 :  6\n"
     ]
    },
    {
     "name": "stdout",
     "output_type": "stream",
     "text": [
      "sorted list in ascending order : [10, 24, 50, 65, 70, 97]\n"
     ]
    }
   ],
   "source": [
    "#Taking value for list\n",
    "n=int(input(\"Number of elements to be entered : \"))\n",
    "p=[]\n",
    "print(\"Enter the elements of unsorted list : \")\n",
    "for i in range(n):\n",
    "    temp=int(input())\n",
    "    p.append(temp)\n",
    "print(\"Unsorted list is :\",p)\n",
    "ask=int(input(\"For ascending enter 6 and for descending enter 9 : \"))\n",
    "if ask==6:\n",
    "    #loop for sorting in ascending order\n",
    "    for x in range(len(p)-1):\n",
    "        for y in range(len(p)-1-x):\n",
    "            if p[y]>p[y+1]:\n",
    "                p[y],p[y+1]=p[y+1],p[y]\n",
    "    print(\"sorted list in ascending order :\",p)\n",
    "elif ask==9:\n",
    "\n",
    "    #loop for sorting in descending order\n",
    "    for x in range(len(p)-1):\n",
    "        for y in range(len(p)-1-x):\n",
    "            if p[y]<p[y+1]:\n",
    "                p[y],p[y+1]=p[y+1],p[y]\n",
    "    print(\"sorted list in descending order :\",p)\n",
    "else:\n",
    "    print(\"error\")"
   ]
  },
  {
   "cell_type": "markdown",
   "id": "775a157e-f03a-41e6-a531-b9e397972c01",
   "metadata": {},
   "source": [
    "# Selection Sort"
   ]
  },
  {
   "cell_type": "code",
   "execution_count": 2,
   "id": "a96e4752-e0c1-4d40-8cc2-ec3e432d8dca",
   "metadata": {},
   "outputs": [
    {
     "name": "stdin",
     "output_type": "stream",
     "text": [
      "How many elements to sort :  6\n"
     ]
    },
    {
     "name": "stdout",
     "output_type": "stream",
     "text": [
      "Enter list elements : \n"
     ]
    },
    {
     "name": "stdin",
     "output_type": "stream",
     "text": [
      " 5\n",
      " 3\n",
      " 7\n",
      " 6\n",
      " 2\n",
      " 9\n"
     ]
    },
    {
     "name": "stdout",
     "output_type": "stream",
     "text": [
      "Unsorted list is : [5, 3, 7, 6, 2, 9]\n",
      "list sorted in ascending order : [2, 3, 5, 6, 7, 9]\n"
     ]
    }
   ],
   "source": [
    "n=eval(input(\"How many elements to sort : \"))\n",
    "print(\"Enter list elements : \")\n",
    "l=[]\n",
    "for i in range(n):\n",
    "    item=int(input())\n",
    "    l.append(item)\n",
    "print(\"Unsorted list is :\",l)\n",
    "for i in range(n-1):                      #Outer loop for passes. Each iteration brings successive smaller numbers at beginning\n",
    "    index=i                               #Assume the first element of the unsorted list for comparison with next elements\n",
    "    for j in range(i+1,n):                #Inner loop to find the smallest element\n",
    "        if l[j]<l[index]:                 #If a smaller element is found\n",
    "            index=j                       #Update the index of the smallest element\n",
    "        if l[i]>l[index]:\n",
    "            l[i],l[index]=l[index],l[i]   #Replace the smallest element with element at 1st position\n",
    "print(\"list sorted in ascending order :\",l)"
   ]
  },
  {
   "cell_type": "markdown",
   "id": "87132c7f-34e6-424b-9a7e-711ef954c201",
   "metadata": {},
   "source": [
    "# Insertion Sort"
   ]
  },
  {
   "cell_type": "code",
   "execution_count": 3,
   "id": "1b167d62-a11a-4e36-96ed-0228976323cb",
   "metadata": {},
   "outputs": [
    {
     "name": "stdin",
     "output_type": "stream",
     "text": [
      "Enter no. of elements :  6\n"
     ]
    },
    {
     "name": "stdout",
     "output_type": "stream",
     "text": [
      "Enter the numbers :\n"
     ]
    },
    {
     "name": "stdin",
     "output_type": "stream",
     "text": [
      " 5\n",
      " 9\n",
      " 6\n",
      " 4\n",
      " 3\n",
      " 7\n"
     ]
    },
    {
     "name": "stdout",
     "output_type": "stream",
     "text": [
      "Unsorted List :\n",
      "[5.0, 9.0, 6.0, 4.0, 3.0, 7.0]\n",
      " \n",
      "Sorted List :\n",
      "[3.0, 4.0, 5.0, 6.0, 7.0, 9.0]\n"
     ]
    }
   ],
   "source": [
    "#Insertion Sort\n",
    "\n",
    "def insertion_sort(arr):\n",
    "    for i in range(1,len(arr)):                       #Loop starts from 1 (2nd element)\n",
    "        key=arr[i]                                    #Current element flagged as key and start comparing with previous elements                                       \n",
    "        while i>=1 and key<arr[i-1]:                  #Condition to check greater number\n",
    "            arr[i]=arr[i-1]                           #Shift element to the right (update right element with left element)     \n",
    "            arr[i-1]=key                              #Insert the old key at left position. This key works only inside the while loop. If the while loop breaks, new key is assigned in main the for loop\n",
    "            i=i-1                                     #Repeat same for lower indices\n",
    "\n",
    "arr=[]\n",
    "n=int(input(\"Enter no. of elements : \"))\n",
    "print('Enter the numbers :')\n",
    "for i in range(0,n):\n",
    "    a=float(input())\n",
    "    arr.append(a)\n",
    "\n",
    "print(\"Unsorted List :\")\n",
    "print(arr)\n",
    "insertion_sort(arr)\n",
    "print(\" \")\n",
    "print(\"Sorted List :\")\n",
    "print(arr)"
   ]
  }
 ],
 "metadata": {
  "kernelspec": {
   "display_name": "Python 3 (ipykernel)",
   "language": "python",
   "name": "python3"
  },
  "language_info": {
   "codemirror_mode": {
    "name": "ipython",
    "version": 3
   },
   "file_extension": ".py",
   "mimetype": "text/x-python",
   "name": "python",
   "nbconvert_exporter": "python",
   "pygments_lexer": "ipython3",
   "version": "3.12.3"
  }
 },
 "nbformat": 4,
 "nbformat_minor": 5
}
