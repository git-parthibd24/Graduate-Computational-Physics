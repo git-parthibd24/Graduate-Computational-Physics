{
 "cells": [
  {
   "cell_type": "markdown",
   "id": "d85f63b2-0ba0-41cf-9f98-03e557535fba",
   "metadata": {},
   "source": [
    "# Sum of digits of a number with string input"
   ]
  },
  {
   "cell_type": "code",
   "execution_count": 1,
   "id": "e4af5322-420f-4f0b-81da-fd9f8a668dce",
   "metadata": {},
   "outputs": [
    {
     "name": "stdin",
     "output_type": "stream",
     "text": [
      "Enter a number:  1234\n"
     ]
    },
    {
     "name": "stdout",
     "output_type": "stream",
     "text": [
      "Sum of the digits of 1234 = 10\n"
     ]
    }
   ],
   "source": [
    "a=str(input('Enter a number: '))\n",
    "s=0\n",
    "for i in range(len(a)):\n",
    "    s=s+int(a[i])\n",
    "print('Sum of the digits of',a,'=',s)"
   ]
  }
 ],
 "metadata": {
  "kernelspec": {
   "display_name": "Python 3 (ipykernel)",
   "language": "python",
   "name": "python3"
  },
  "language_info": {
   "codemirror_mode": {
    "name": "ipython",
    "version": 3
   },
   "file_extension": ".py",
   "mimetype": "text/x-python",
   "name": "python",
   "nbconvert_exporter": "python",
   "pygments_lexer": "ipython3",
   "version": "3.12.3"
  }
 },
 "nbformat": 4,
 "nbformat_minor": 5
}
