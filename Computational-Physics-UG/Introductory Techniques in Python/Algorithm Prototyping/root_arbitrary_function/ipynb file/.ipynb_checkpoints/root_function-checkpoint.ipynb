{
 "cells": [
  {
   "cell_type": "markdown",
   "id": "e3dbad29-391e-4e9b-9450-9f26738b5afc",
   "metadata": {},
   "source": [
    "# Newton Raphson Method"
   ]
  },
  {
   "cell_type": "code",
   "execution_count": 1,
   "id": "6661bf1b-a9d2-4476-a21f-daac520dc7dd",
   "metadata": {},
   "outputs": [
    {
     "name": "stdin",
     "output_type": "stream",
     "text": [
      "Enter initial assumption of root:  2\n",
      "Enter tolerance:  0.0001\n"
     ]
    },
    {
     "name": "stdout",
     "output_type": "stream",
     "text": [
      "The value of the root is:  1.4142\n"
     ]
    }
   ],
   "source": [
    "def function(x):\n",
    "    return (x**2)-2    \n",
    "def derivative(x):\n",
    "    return 2*x\n",
    "x=eval(input(\"Enter initial assumption of root: \"))\n",
    "error=eval(input(\"Enter tolerance: \"))\n",
    "while True:\n",
    "    k=-function(x)/derivative(x)\n",
    "    x=x+k\n",
    "    if abs(k)<=error:\n",
    "        break\n",
    "print(\"The value of the root is :\",format(x,\"0.4f\"))"
   ]
  },
  {
   "cell_type": "markdown",
   "id": "08cf429d-acb1-495b-860c-541a54b21ca9",
   "metadata": {},
   "source": [
    "# Bisection Method (Without new inputs)"
   ]
  },
  {
   "cell_type": "code",
   "execution_count": 3,
   "id": "230df002-05dc-42b2-9f0d-2286443446da",
   "metadata": {},
   "outputs": [
    {
     "name": "stdin",
     "output_type": "stream",
     "text": [
      "Enter lower limit :  -200\n",
      "Enter upper limit :  300\n",
      "Enter error :  0.000001\n"
     ]
    },
    {
     "name": "stdout",
     "output_type": "stream",
     "text": [
      "The value of root is : -0.9999999776482582\n"
     ]
    }
   ],
   "source": [
    "def f(x):\n",
    "    return (x**3)-(x**2)+2   \n",
    "def bisection_method(a,b,error):\n",
    "    if (f(a)*f(b)>=0):\n",
    "        print(\"Incorrect assumption of a and b\")\n",
    "    else:\n",
    "        while abs(a-b)>=error:\n",
    "            c=(a+b)/2           \n",
    "            if f(c)*f(a)<0: #true if sign of function evaluated at midpoint c and a are opposite\n",
    "                b=c\n",
    "            else:\n",
    "                a=c\n",
    "            if f(c)==0.0 or abs(a-b)<=error:\n",
    "                break\n",
    "        print(\"The value of root is :\",c)\n",
    "A=eval(input('Enter lower limit : '))\n",
    "B=eval(input('Enter upper limit : '))\n",
    "Error=eval(input('Enter error : '))\n",
    "bisection_method(A,B,Error)"
   ]
  },
  {
   "cell_type": "markdown",
   "id": "8ce24a42-8a45-4761-ac83-054ddd5d8625",
   "metadata": {},
   "source": [
    "# Bisection Method (With new inputs)"
   ]
  },
  {
   "cell_type": "code",
   "execution_count": 1,
   "id": "d71ef607-5221-4fdf-8691-8fbb33cda7fe",
   "metadata": {},
   "outputs": [
    {
     "name": "stdin",
     "output_type": "stream",
     "text": [
      "enter lower limit :  -200\n",
      "enter upper limit :  300\n",
      "enter error value :  0.000001\n"
     ]
    },
    {
     "name": "stdout",
     "output_type": "stream",
     "text": [
      "The value of real root is in that interval : -1.0000\n"
     ]
    }
   ],
   "source": [
    "def f(x):\n",
    "    return x**3-x**2+2\n",
    "while True:\n",
    "    a=eval(input('enter lower limit : '))\n",
    "    b=eval(input('enter upper limit : '))\n",
    "    if f(a)*f(b)<0:\n",
    "        break\n",
    "    print(\"No real roots found in the interval\\nEnter new interval\")\n",
    "error=eval(input('enter error value : '))\n",
    "while True:\n",
    "    x=(a+b)/2\n",
    "    if f(a)*f(x)<0:\n",
    "        b=x\n",
    "    else:\n",
    "        a=x\n",
    "    if f(x)==0 or abs(a-b)<=error:\n",
    "        break\n",
    "print('The value of real root is in that interval :',format(x,\"0.4f\"))"
   ]
  }
 ],
 "metadata": {
  "kernelspec": {
   "display_name": "Python 3 (ipykernel)",
   "language": "python",
   "name": "python3"
  },
  "language_info": {
   "codemirror_mode": {
    "name": "ipython",
    "version": 3
   },
   "file_extension": ".py",
   "mimetype": "text/x-python",
   "name": "python",
   "nbconvert_exporter": "python",
   "pygments_lexer": "ipython3",
   "version": "3.12.3"
  }
 },
 "nbformat": 4,
 "nbformat_minor": 5
}
