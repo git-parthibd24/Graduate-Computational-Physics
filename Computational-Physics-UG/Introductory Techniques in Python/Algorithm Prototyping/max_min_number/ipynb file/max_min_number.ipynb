{
 "cells": [
  {
   "cell_type": "markdown",
   "id": "94cb3169-8163-47bb-85cb-3a1e75392674",
   "metadata": {},
   "source": [
    "# Find maximum of three numbers"
   ]
  },
  {
   "cell_type": "code",
   "execution_count": 3,
   "id": "c1829e11-ec62-4864-8c9b-360fa1c61c71",
   "metadata": {},
   "outputs": [
    {
     "name": "stdin",
     "output_type": "stream",
     "text": [
      "enter num1 :  5\n",
      "enter num2 :  9\n",
      "enter num3 :  6\n"
     ]
    },
    {
     "name": "stdout",
     "output_type": "stream",
     "text": [
      "9 is max\n"
     ]
    }
   ],
   "source": [
    "x=eval(input('enter num1 : '))\n",
    "y=eval(input('enter num2 : '))\n",
    "z=eval(input('enter num3 : '))\n",
    "if x>y and x>z:\n",
    "    print(x,'is max')\n",
    "elif y>x or y>z:\n",
    "    print(y,'is max')\n",
    "else:\n",
    "    print(z,'is max')"
   ]
  },
  {
   "cell_type": "markdown",
   "id": "0e81e177-7ab0-4fd5-96a7-cefc8c35f94d",
   "metadata": {},
   "source": [
    "# Find minimum of three numbers"
   ]
  },
  {
   "cell_type": "code",
   "execution_count": 2,
   "id": "f33e33ba-114e-4a24-ab30-1ebcc05cd0e5",
   "metadata": {},
   "outputs": [
    {
     "name": "stdin",
     "output_type": "stream",
     "text": [
      "enter num1 :  5\n",
      "enter num2 :  9\n",
      "enter num3 :  4\n"
     ]
    },
    {
     "name": "stdout",
     "output_type": "stream",
     "text": [
      "4 is min\n"
     ]
    }
   ],
   "source": [
    "x=eval(input('enter num1 : '))\n",
    "y=eval(input('enter num2 : '))\n",
    "z=eval(input('enter num3 : '))\n",
    "if x<y and x<z:\n",
    "    print(x,'is min')\n",
    "elif y<x or y<z:\n",
    "    print(y,'is min')\n",
    "else:\n",
    "    print(z,'is min')"
   ]
  },
  {
   "cell_type": "markdown",
   "id": "64bbcc8a-6438-4e8d-a29a-0ab05b3ac169",
   "metadata": {},
   "source": [
    "# Find maximum and minimum of numbers"
   ]
  },
  {
   "cell_type": "code",
   "execution_count": 5,
   "id": "c5c1bec1-287f-4154-8c88-3aacbfb80362",
   "metadata": {},
   "outputs": [
    {
     "name": "stdin",
     "output_type": "stream",
     "text": [
      "enter num1 :  4\n",
      "enter num2 :  3\n",
      "enter num3 :  8\n"
     ]
    },
    {
     "name": "stdout",
     "output_type": "stream",
     "text": [
      "maximum is 8\n",
      "minimum is 3\n"
     ]
    }
   ],
   "source": [
    "x=eval(input('enter num1 : '))\n",
    "y=eval(input('enter num2 : '))\n",
    "z=eval(input('enter num3 : '))\n",
    "print('maximum is',max(x,y,z))\n",
    "print('minimum is',min(x,y,z))"
   ]
  }
 ],
 "metadata": {
  "kernelspec": {
   "display_name": "Python 3 (ipykernel)",
   "language": "python",
   "name": "python3"
  },
  "language_info": {
   "codemirror_mode": {
    "name": "ipython",
    "version": 3
   },
   "file_extension": ".py",
   "mimetype": "text/x-python",
   "name": "python",
   "nbconvert_exporter": "python",
   "pygments_lexer": "ipython3",
   "version": "3.12.3"
  }
 },
 "nbformat": 4,
 "nbformat_minor": 5
}
