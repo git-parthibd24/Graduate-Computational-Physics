{
 "cells": [
  {
   "cell_type": "markdown",
   "id": "3711bf7e-2a7a-4e13-ac63-d0da8714a760",
   "metadata": {},
   "source": [
    "# Binary Search using recurssion\n",
    "Works iff dataset is sorted\n",
    "high and low are decremented or incremented by 1 from low to prevent getting stuck in a loop"
   ]
  },
  {
   "cell_type": "code",
   "execution_count": 9,
   "id": "097c9c39-51c7-4cbd-abb9-0b98fca62fcd",
   "metadata": {},
   "outputs": [
    {
     "name": "stdin",
     "output_type": "stream",
     "text": [
      "Enter the number of elements of the list :  6\n"
     ]
    },
    {
     "name": "stdout",
     "output_type": "stream",
     "text": [
      "Enter the elements\n"
     ]
    },
    {
     "name": "stdin",
     "output_type": "stream",
     "text": [
      " 1\n",
      " 3\n",
      " 4\n",
      " 5\n",
      " 7\n",
      " 9\n",
      "Enter the element to search :  3\n"
     ]
    },
    {
     "name": "stdout",
     "output_type": "stream",
     "text": [
      "element present in index 2\n"
     ]
    }
   ],
   "source": [
    "def b_search(l,key,low,high):\n",
    "    if high>=low:\n",
    "        mid=(high+low)//2\n",
    "        if l[mid]==key:\n",
    "            return mid\n",
    "        elif l[mid]>key:\n",
    "            return b_search(l,key,low,mid-1)\n",
    "        else:\n",
    "            return b_search(l,key,mid+1,high)\n",
    "    else:\n",
    "        return -1\n",
    "n1=int(input(\"Enter the number of elements of the list : \"))\n",
    "print(\"Enter the elements\")   #Only in sorted order\n",
    "L1=[]\n",
    "for i in range(0,n1):\n",
    "    L1.append(eval(input()))\n",
    "x=eval(input(\"Enter the element to search : \"))\n",
    "pos=b_search(L1,x,0,len(L1)-1)\n",
    "if pos!=-1:\n",
    "    print(\"element present in index\",pos+1)\n",
    "else:\n",
    "    print(\"element not present\")"
   ]
  },
  {
   "cell_type": "markdown",
   "id": "ea35d6b8-606a-4846-80d7-b85657437a96",
   "metadata": {},
   "source": [
    "# Binary Search (2nd Method)\n",
    "Works iff dataset is sorted\n",
    "high and low are decremented or incremented by 1 from low to prevent getting stuck in a loop"
   ]
  },
  {
   "cell_type": "code",
   "execution_count": 10,
   "id": "3da7007a-4176-4e7b-858b-bd2c8278667d",
   "metadata": {},
   "outputs": [
    {
     "name": "stdin",
     "output_type": "stream",
     "text": [
      "no. of elements to be inserted :  6\n"
     ]
    },
    {
     "name": "stdout",
     "output_type": "stream",
     "text": [
      "Enter elemnts to insert in the list : \n"
     ]
    },
    {
     "name": "stdin",
     "output_type": "stream",
     "text": [
      " 4\n",
      " 14\n",
      " 20\n",
      " 26\n",
      " 42\n",
      " 65\n",
      "Enter the element to search :  42\n"
     ]
    },
    {
     "name": "stdout",
     "output_type": "stream",
     "text": [
      "42 found in position : 5\n"
     ]
    }
   ],
   "source": [
    "def read_data(n):\n",
    "    l=[]\n",
    "    print('Enter elemnts to insert in the list : ')\n",
    "    for i in range(n):\n",
    "        l.append(eval(input()))\n",
    "    return l\n",
    "def b_search(key,L):\n",
    "    high=len(L)-1\n",
    "    low=0\n",
    "    while low<=high:\n",
    "        mid=(low+high)//2\n",
    "        if key==L[mid]:\n",
    "            return mid\n",
    "        elif key<L[mid]:\n",
    "            high=mid-1\n",
    "        else:\n",
    "            low=mid+1\n",
    "    return False\n",
    "#main part\n",
    "n1=eval(input('no. of elements to be inserted : '))\n",
    "l1=[]\n",
    "l1=read_data(n1)\n",
    "k=eval(input('Enter the element to search : ')) #Only in sorted order\n",
    "val=b_search(k,l1)\n",
    "if val!=False:\n",
    "    print(k,'found in position :',val+1)\n",
    "else:\n",
    "    print(k,'not found in the list')"
   ]
  },
  {
   "cell_type": "markdown",
   "id": "97a9e61e-f775-4bd6-be80-77c2ee3517fd",
   "metadata": {},
   "source": [
    "# Linear Search 1"
   ]
  },
  {
   "cell_type": "code",
   "execution_count": 2,
   "id": "10ada922-7f02-4e31-944f-67ce0d3e99e5",
   "metadata": {},
   "outputs": [
    {
     "name": "stdin",
     "output_type": "stream",
     "text": [
      "Enter the number of elements of the list :  5\n"
     ]
    },
    {
     "name": "stdout",
     "output_type": "stream",
     "text": [
      "Enter elements to insert in the list : \n"
     ]
    },
    {
     "name": "stdin",
     "output_type": "stream",
     "text": [
      " 4\n",
      " 8\n",
      " 2\n",
      " 4\n",
      " 6\n",
      "Enter the number to search :  8\n"
     ]
    },
    {
     "name": "stdout",
     "output_type": "stream",
     "text": [
      "8 found in position : 2\n"
     ]
    }
   ],
   "source": [
    "def linear_search(l,x):\n",
    "    for i in range(0,len(l)):\n",
    "        if x==l[i]:            \n",
    "            return i\n",
    "L=[]\n",
    "n=int(input('Enter the number of elements of the list : '))\n",
    "print('Enter elements to insert in the list : ')\n",
    "for i in range(n):\n",
    "    L.append(eval(input()))\n",
    "n1=len(L)\n",
    "x1=eval(input('Enter the number to search : '))\n",
    "pos=linear_search(L,x1)\n",
    "if pos==n1:\n",
    "    print('Element not found')\n",
    "else:\n",
    "    print(x1,'found in position :',pos+1)"
   ]
  },
  {
   "cell_type": "markdown",
   "id": "a854307b-6072-4a4e-a079-beda437532d4",
   "metadata": {},
   "source": [
    "# Linear Search 2"
   ]
  },
  {
   "cell_type": "code",
   "execution_count": 1,
   "id": "97d3da44-2143-4021-b826-76c723d5e640",
   "metadata": {},
   "outputs": [
    {
     "name": "stdin",
     "output_type": "stream",
     "text": [
      "Enter the number of elements to be inserted :  6\n"
     ]
    },
    {
     "name": "stdout",
     "output_type": "stream",
     "text": [
      "Enter elements in the list : \n"
     ]
    },
    {
     "name": "stdin",
     "output_type": "stream",
     "text": [
      " 2\n",
      " 4\n",
      " 9\n",
      " 7\n",
      " 6\n",
      " 2\n",
      "enter element to search in the list :  7\n"
     ]
    },
    {
     "name": "stdout",
     "output_type": "stream",
     "text": [
      "7 found in position : 4\n"
     ]
    }
   ],
   "source": [
    "def linear_search(x,l):\n",
    "    n=len(l)    \n",
    "    i=0\n",
    "    while i<n:\n",
    "        if x==l[i]:\n",
    "            break\n",
    "        i+=1\n",
    "    return i\n",
    "n1=int(input('Enter the number of elements to be inserted : '))\n",
    "print('Enter elements in the list : ')\n",
    "l1=[]\n",
    "for i in range(0,n1):\n",
    "    l1.append(eval(input()))\n",
    "x1=eval(input('enter element to search in the list : '))\n",
    "pos=linear_search(x1,l1)\n",
    "if pos==n1:                             #or pos>n1-1\n",
    "    print(x1,'not found in the list')\n",
    "else:    \n",
    "    print(x1,'found in position :',pos+1)"
   ]
  },
  {
   "cell_type": "code",
   "execution_count": null,
   "id": "6975ebde-d5eb-49ba-ad53-1e98d589b750",
   "metadata": {},
   "outputs": [],
   "source": []
  }
 ],
 "metadata": {
  "kernelspec": {
   "display_name": "Python 3 (ipykernel)",
   "language": "python",
   "name": "python3"
  },
  "language_info": {
   "codemirror_mode": {
    "name": "ipython",
    "version": 3
   },
   "file_extension": ".py",
   "mimetype": "text/x-python",
   "name": "python",
   "nbconvert_exporter": "python",
   "pygments_lexer": "ipython3",
   "version": "3.12.3"
  }
 },
 "nbformat": 4,
 "nbformat_minor": 5
}
