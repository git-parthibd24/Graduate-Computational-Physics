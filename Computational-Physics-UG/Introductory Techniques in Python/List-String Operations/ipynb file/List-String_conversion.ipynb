{
 "cells": [
  {
   "cell_type": "markdown",
   "id": "6ef44f84-070c-44d9-9de7-75766f380032",
   "metadata": {},
   "source": [
    "# Conversion of list into string"
   ]
  },
  {
   "cell_type": "code",
   "execution_count": 7,
   "id": "f07fbbd6-3739-4871-80e8-43655e23b8b8",
   "metadata": {},
   "outputs": [
    {
     "name": "stdout",
     "output_type": "stream",
     "text": [
      "python3\n"
     ]
    }
   ],
   "source": [
    "list1=['p', 'y', 't', 'h', 'o', 'n', 3]\n",
    "str1=''.join(map(str, list1))              # Convert non-string elements to strings and then join\n",
    "print(str1)"
   ]
  },
  {
   "cell_type": "code",
   "execution_count": 8,
   "id": "52157d8d-b110-4462-8976-6640b31c4d13",
   "metadata": {},
   "outputs": [
    {
     "name": "stdout",
     "output_type": "stream",
     "text": [
      "p, y, t, h, o, n, 3\n"
     ]
    }
   ],
   "source": [
    "list1=['p', 'y', 't', 'h', 'o', 'n', 3]\n",
    "str1=', '.join(map(str, list1))\n",
    "print(str1)"
   ]
  },
  {
   "cell_type": "code",
   "execution_count": 2,
   "id": "e314bd4b-0821-44db-b58a-7d48513bb0f9",
   "metadata": {},
   "outputs": [
    {
     "name": "stdout",
     "output_type": "stream",
     "text": [
      "python3\n"
     ]
    }
   ],
   "source": [
    "list1=['p', 'y', 't', 'h', 'o', 'n', 3]\n",
    "str1=''.join(str(k) for k in list1)\n",
    "print(str1)             "
   ]
  },
  {
   "cell_type": "markdown",
   "id": "73e7f539-034b-4b8b-a026-db0fc672b786",
   "metadata": {},
   "source": [
    "# Conversion of string into list"
   ]
  },
  {
   "cell_type": "code",
   "execution_count": 9,
   "id": "14a33158-274c-434a-ac71-f2dc8bba7e76",
   "metadata": {},
   "outputs": [
    {
     "name": "stdout",
     "output_type": "stream",
     "text": [
      "['p', 'y', 't', 'h', 'o', 'n', '3']\n"
     ]
    }
   ],
   "source": [
    "str1='python3'\n",
    "list1=list(str1)\n",
    "print(list1)"
   ]
  },
  {
   "cell_type": "code",
   "execution_count": 10,
   "id": "2ce49f7f-e9e6-4e5c-b3da-3323eed699e1",
   "metadata": {},
   "outputs": [
    {
     "name": "stdout",
     "output_type": "stream",
     "text": [
      "['p', 'y', 't', 'h', 'o', 'n', 1, 2, 3]\n"
     ]
    }
   ],
   "source": [
    "str1='python123'\n",
    "list1=list(str1)\n",
    "\n",
    "converted_list = [int(x) if x.isdigit() else x for x in list1]\n",
    "print(converted_list)"
   ]
  }
 ],
 "metadata": {
  "kernelspec": {
   "display_name": "Python 3 (ipykernel)",
   "language": "python",
   "name": "python3"
  },
  "language_info": {
   "codemirror_mode": {
    "name": "ipython",
    "version": 3
   },
   "file_extension": ".py",
   "mimetype": "text/x-python",
   "name": "python",
   "nbconvert_exporter": "python",
   "pygments_lexer": "ipython3",
   "version": "3.12.3"
  }
 },
 "nbformat": 4,
 "nbformat_minor": 5
}
