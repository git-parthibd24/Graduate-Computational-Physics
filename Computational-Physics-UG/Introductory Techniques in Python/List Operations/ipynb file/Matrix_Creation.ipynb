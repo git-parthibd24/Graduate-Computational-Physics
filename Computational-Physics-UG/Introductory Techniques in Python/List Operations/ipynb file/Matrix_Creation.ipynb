{
 "cells": [
  {
   "cell_type": "markdown",
   "id": "122780aa-b0ff-4955-b4dd-a7bba3b20c09",
   "metadata": {},
   "source": [
    "# Read numbers and create a matrix using list"
   ]
  },
  {
   "cell_type": "code",
   "execution_count": 2,
   "id": "77524fb0-1990-47ce-a51a-10da5ce10c3b",
   "metadata": {},
   "outputs": [
    {
     "name": "stdin",
     "output_type": "stream",
     "text": [
      "Enter the number of row:  3\n",
      "Enter the number of column:  3\n"
     ]
    },
    {
     "name": "stdout",
     "output_type": "stream",
     "text": [
      "Enter the elements rowwise: \n"
     ]
    },
    {
     "name": "stdin",
     "output_type": "stream",
     "text": [
      " 1\n",
      " 2\n",
      " 3\n",
      " 4\n",
      " 5\n",
      " 6\n",
      " 7\n",
      " 8\n",
      " 9\n"
     ]
    },
    {
     "name": "stdout",
     "output_type": "stream",
     "text": [
      "The matrix is :\n",
      "1 2 3 \n",
      "4 5 6 \n",
      "7 8 9 \n"
     ]
    }
   ],
   "source": [
    "m=eval(input('Enter the number of row: '))\n",
    "n=eval(input('Enter the number of column: '))\n",
    "print('Enter the elements rowwise: ')\n",
    "A=[]\n",
    "for i in range(m):              #Reading elements in matrix by following code\n",
    "    B=[]\n",
    "    for j in range(n):\n",
    "        item=input()\n",
    "        B.append(item)\n",
    "    A.append(B)\n",
    "\n",
    "print('The matrix is :')\n",
    "for i in A:                     #print the elements in matrix form\n",
    "    for j in i:\n",
    "        print(j,end=' ')\n",
    "    print()"
   ]
  }
 ],
 "metadata": {
  "kernelspec": {
   "display_name": "Python 3 (ipykernel)",
   "language": "python",
   "name": "python3"
  },
  "language_info": {
   "codemirror_mode": {
    "name": "ipython",
    "version": 3
   },
   "file_extension": ".py",
   "mimetype": "text/x-python",
   "name": "python",
   "nbconvert_exporter": "python",
   "pygments_lexer": "ipython3",
   "version": "3.12.3"
  }
 },
 "nbformat": 4,
 "nbformat_minor": 5
}
