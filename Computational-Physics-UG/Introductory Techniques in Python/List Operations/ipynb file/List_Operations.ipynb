{
 "cells": [
  {
   "cell_type": "markdown",
   "id": "c2ad5448-4b3c-446a-a08a-435e0fa0053a",
   "metadata": {},
   "source": [
    "# Creating list\n",
    "List is mutable. It is an inbuilt class of python. Any list object is collection of different data type in continuous memory allocation also known as structure of python."
   ]
  },
  {
   "cell_type": "code",
   "execution_count": 1,
   "id": "6ae367a8-3bfc-4359-b067-732d4b89c6a1",
   "metadata": {},
   "outputs": [
    {
     "name": "stdout",
     "output_type": "stream",
     "text": [
      "[]\n"
     ]
    }
   ],
   "source": [
    "fl=[]       #empty list\n",
    "print(fl)"
   ]
  },
  {
   "cell_type": "code",
   "execution_count": 2,
   "id": "6904a1a8-f394-40f8-8f76-04fd773ebca2",
   "metadata": {},
   "outputs": [
    {
     "name": "stdout",
     "output_type": "stream",
     "text": [
      "[12, 2.3, (8+9j), 'string']\n"
     ]
    }
   ],
   "source": [
    "fl=[12,2.3,8+9j,'string']\n",
    "print(fl)"
   ]
  },
  {
   "cell_type": "markdown",
   "id": "a14f5096-deeb-4e8c-a3b3-55be8754a8ac",
   "metadata": {},
   "source": [
    "# Indexing Operator and Slicing"
   ]
  },
  {
   "cell_type": "code",
   "execution_count": 2,
   "id": "e7350ef9-d709-4369-a5ad-cc774b7fe7bc",
   "metadata": {},
   "outputs": [
    {
     "name": "stdout",
     "output_type": "stream",
     "text": [
      "3\n",
      "3\n",
      "2\n"
     ]
    }
   ],
   "source": [
    "s=[2,3]\n",
    "print(s[1])\n",
    "print(s[-1])\n",
    "print(s[0])"
   ]
  },
  {
   "cell_type": "code",
   "execution_count": 17,
   "id": "569cfa04-e557-4e21-95eb-66e7cce46352",
   "metadata": {},
   "outputs": [
    {
     "name": "stdout",
     "output_type": "stream",
     "text": [
      "2\n"
     ]
    }
   ],
   "source": [
    "s=[2,3,4,5,]\n",
    "print(s.index(4))"
   ]
  },
  {
   "cell_type": "code",
   "execution_count": 9,
   "id": "8698c468-cde6-47f8-a813-6d1be207d250",
   "metadata": {},
   "outputs": [
    {
     "name": "stdout",
     "output_type": "stream",
     "text": [
      "P\n",
      "N\n",
      "['P', 'Y', 'T', 'H', 'O', 'N']\n",
      "['P', 'Y']\n",
      "['Y', 'T', 'H']\n",
      "['Y', 'H']\n",
      "['P', 'Y', 'T', 'H', 'O', 'N']\n",
      "['P', 'Y', 'T', 'H', 'O', 'N']\n",
      "['N', 'O', 'H', 'T', 'Y']\n"
     ]
    }
   ],
   "source": [
    "L=['P','Y','T','H','O','N']\n",
    "print(L[0])\n",
    "print(L[-1])\n",
    "print(L[0:])\n",
    "print(L[:2])\n",
    "print(L[1:4])\n",
    "print(L[1:4:2])    #start(include element of this index), stop(dont include element of this index), step\n",
    "print(L[:])\n",
    "print(L[::])\n",
    "print(L[5:0:-1])   #slicing from end"
   ]
  },
  {
   "cell_type": "markdown",
   "id": "a4155a78-a268-4e94-b95d-7287f4e82d6c",
   "metadata": {},
   "source": [
    "# Adding two or more list\n",
    "Concatenation of lists"
   ]
  },
  {
   "cell_type": "code",
   "execution_count": 7,
   "id": "d9ed6108-f344-4a95-aa82-dbb12d4284c5",
   "metadata": {},
   "outputs": [
    {
     "name": "stdout",
     "output_type": "stream",
     "text": [
      "['P', 'Y', 'T', 'H', 'O', 'N', 12, 2.3, (8+9j), 'string']\n"
     ]
    }
   ],
   "source": [
    "L=['P','Y','T','H','O','N']\n",
    "fl=[12,2.3,8+9j,'string']\n",
    "print(L+fl)"
   ]
  },
  {
   "cell_type": "markdown",
   "id": "8159f863-6fcc-4b80-aa3f-f78575f3be05",
   "metadata": {},
   "source": [
    "# Repeating elements of list"
   ]
  },
  {
   "cell_type": "code",
   "execution_count": 8,
   "id": "7e652c4b-ee9f-407c-99a8-fdd76a5ea150",
   "metadata": {},
   "outputs": [
    {
     "name": "stdout",
     "output_type": "stream",
     "text": [
      "[1, 2, 3, 4, 5, 1, 2, 3, 4, 5, 1, 2, 3, 4, 5]\n"
     ]
    }
   ],
   "source": [
    "L=[1,2,3,4,5]\n",
    "X=L*3\n",
    "print(X)"
   ]
  },
  {
   "cell_type": "markdown",
   "id": "6dfda863-8729-461e-8347-416e03cbc8c0",
   "metadata": {},
   "source": [
    "# Appending to list\n",
    "Appends at last"
   ]
  },
  {
   "cell_type": "code",
   "execution_count": 10,
   "id": "760f1434-695d-4ad1-ac96-3fcdb7fb5355",
   "metadata": {},
   "outputs": [
    {
     "name": "stdout",
     "output_type": "stream",
     "text": [
      "['cat']\n",
      "['cat', 'dog']\n"
     ]
    }
   ],
   "source": [
    "fl=[]\n",
    "fl.append('cat')\n",
    "print(fl)\n",
    "fl.append('dog')\n",
    "print(fl)"
   ]
  },
  {
   "cell_type": "markdown",
   "id": "caf112c5-6ca7-4357-b2fa-aaacfcedd072",
   "metadata": {},
   "source": [
    "# List inside list"
   ]
  },
  {
   "cell_type": "code",
   "execution_count": 15,
   "id": "0ac9e4df-248c-4fa9-a1f7-bc672f504190",
   "metadata": {},
   "outputs": [
    {
     "name": "stdout",
     "output_type": "stream",
     "text": [
      "3\n",
      "dog\n",
      "2\n",
      "[5, 6]\n",
      "6\n"
     ]
    }
   ],
   "source": [
    "f=[[1,2,3],[4,[5,6]],7]\n",
    "print(len(f))\n",
    "print(fl[1])\n",
    "print(len(f[1]))\n",
    "print(f[1][1])\n",
    "print(f[1][1][1])\n"
   ]
  },
  {
   "cell_type": "markdown",
   "id": "edb9c325-fe49-4ada-8afc-7c96008a8686",
   "metadata": {},
   "source": [
    "# Removing element from list"
   ]
  },
  {
   "cell_type": "code",
   "execution_count": 17,
   "id": "a572e5c3-aa7b-421e-b79c-7b1d9eb7ac3e",
   "metadata": {},
   "outputs": [
    {
     "name": "stdout",
     "output_type": "stream",
     "text": [
      "['P', 'Y', 'H', 'O', 'N']\n"
     ]
    }
   ],
   "source": [
    "L=['P','Y','T','H','O','N']\n",
    "L.remove('T')\n",
    "print(L)"
   ]
  },
  {
   "cell_type": "markdown",
   "id": "30186914-295e-42b3-93b6-b76b7af1297b",
   "metadata": {},
   "source": [
    "# Deleting index element from list"
   ]
  },
  {
   "cell_type": "code",
   "execution_count": 12,
   "id": "798e1798-fc70-45ab-b9c8-747462a7be02",
   "metadata": {},
   "outputs": [
    {
     "name": "stdout",
     "output_type": "stream",
     "text": [
      "['Y', 'T', 'H', 'O', 'N']\n"
     ]
    }
   ],
   "source": [
    "L=['P','Y','T','H','O','N']\n",
    "del L[0]\n",
    "print(L)"
   ]
  },
  {
   "cell_type": "markdown",
   "id": "7f5706da-d44f-4499-a3a0-3d7949582eea",
   "metadata": {},
   "source": [
    "# Replacing element at index position of list"
   ]
  },
  {
   "cell_type": "code",
   "execution_count": 18,
   "id": "d4dc6971-3d3a-4e1d-8853-7e0b8f774595",
   "metadata": {},
   "outputs": [
    {
     "name": "stdout",
     "output_type": "stream",
     "text": [
      "[[2, 3], 'Y', 'T', 'H', 'O', 'N']\n"
     ]
    }
   ],
   "source": [
    "L=['P','Y','T','H','O','N']\n",
    "L[0]=[2,3]\n",
    "print(L)"
   ]
  },
  {
   "cell_type": "markdown",
   "id": "f36b00ac-859f-4449-9f46-0a900f83bf34",
   "metadata": {},
   "source": [
    "# Reversing list"
   ]
  },
  {
   "cell_type": "code",
   "execution_count": 27,
   "id": "b48d4908-01f1-456d-a643-762710d4b8dc",
   "metadata": {},
   "outputs": [
    {
     "name": "stdout",
     "output_type": "stream",
     "text": [
      "[9, 8, 7, 6, 5, 4, 3, 2, 1, 0]\n",
      "[10, 9, 8, 7, 6, 5, 4]\n"
     ]
    }
   ],
   "source": [
    "L1=[0,1,2,3,4,5,6,7,8,9]\n",
    "L1.reverse()\n",
    "print(L1)\n",
    "L2=[4,5,6,7,8,9,10]\n",
    "print(L2[::-1])    #This is same as slicing. It includes 1st and last elements and moves from end"
   ]
  },
  {
   "cell_type": "markdown",
   "id": "ffc0bf4b-f88e-4d9b-a9f7-de97648a63da",
   "metadata": {},
   "source": [
    "# Counting no of same elements in list"
   ]
  },
  {
   "cell_type": "code",
   "execution_count": 20,
   "id": "63480f6b-a1b0-4c23-8e14-689b3c70796e",
   "metadata": {},
   "outputs": [
    {
     "name": "stdout",
     "output_type": "stream",
     "text": [
      "2\n"
     ]
    }
   ],
   "source": [
    "L=[5,7,1,6,9,4,6,9]\n",
    "print(L.count(9))"
   ]
  },
  {
   "cell_type": "markdown",
   "id": "36114f35-ecb5-41d7-a91e-7afcf17e7b2d",
   "metadata": {},
   "source": [
    "# Sorting list"
   ]
  },
  {
   "cell_type": "code",
   "execution_count": 24,
   "id": "a9cd1a37-a3dd-471a-9957-ff7ebd090fd1",
   "metadata": {},
   "outputs": [
    {
     "name": "stdout",
     "output_type": "stream",
     "text": [
      "[1, 2, 3, 4, 4, 6, 6, 7, 8, 9]\n",
      "[9, 8, 7, 6, 6, 4, 4, 3, 2, 1]\n"
     ]
    }
   ],
   "source": [
    "L=[4,7,3,6,8,2,4,6,9,1]\n",
    "L.sort()\n",
    "print(L)\n",
    "L.sort(reverse=True)\n",
    "print(L)"
   ]
  },
  {
   "cell_type": "markdown",
   "id": "3c1758f6-7e57-4bd1-892d-1c340a282a5f",
   "metadata": {},
   "source": [
    "# Inserting element in list"
   ]
  },
  {
   "cell_type": "code",
   "execution_count": 25,
   "id": "7c4c8287-7b16-4344-9eb8-a060ad6b33bc",
   "metadata": {},
   "outputs": [
    {
     "name": "stdout",
     "output_type": "stream",
     "text": [
      "[0, 1, 23, 2, 3, 4, 5, 6, 7, 8, 9]\n"
     ]
    }
   ],
   "source": [
    "L=[0,1,2,3,4,5,6,7,8,9]\n",
    "L.insert(2,23)    #Position, element to be inserted\n",
    "print(L)"
   ]
  },
  {
   "cell_type": "markdown",
   "id": "55f1f341-15b2-41bf-8078-736cda59d628",
   "metadata": {},
   "source": [
    "# Deleting and Extracting element from list"
   ]
  },
  {
   "cell_type": "code",
   "execution_count": 28,
   "id": "b57952c1-db40-46d9-aec6-48ccde9ad54c",
   "metadata": {},
   "outputs": [
    {
     "name": "stdout",
     "output_type": "stream",
     "text": [
      "[1, 2, 3, 4, 5, 6, 7, 8, 9]\n",
      "0\n",
      "[1, 2, 3, 4, 5, 6, 7, 8]\n"
     ]
    }
   ],
   "source": [
    "L=[0,1,2,3,4,5,6,7,8,9]\n",
    "element=L.pop(0)\n",
    "print(L)\n",
    "print(element)\n",
    "L.pop()\n",
    "print(L)"
   ]
  },
  {
   "cell_type": "markdown",
   "id": "f69f448a-1d36-4059-b21c-7e4722397a32",
   "metadata": {},
   "source": [
    "# Assigning variable to another list\n",
    "This is list aliasing"
   ]
  },
  {
   "cell_type": "code",
   "execution_count": 5,
   "id": "2c549f9b-78da-46cd-b33a-67f6bb5300d6",
   "metadata": {},
   "outputs": [
    {
     "name": "stdout",
     "output_type": "stream",
     "text": [
      "[5, 2]\n",
      "[5, 2]\n"
     ]
    }
   ],
   "source": [
    "L=[1,2]\n",
    "#L is not stored in P but P becomes reference to old list\n",
    "P=L\n",
    "L[0]=5\n",
    "print(L)\n",
    "print(P)"
   ]
  },
  {
   "cell_type": "code",
   "execution_count": 7,
   "id": "a8327c43-ca62-4a84-9d7c-eba0042cc37e",
   "metadata": {},
   "outputs": [
    {
     "name": "stdout",
     "output_type": "stream",
     "text": [
      "[5, 2]\n",
      "[1, 2]\n"
     ]
    }
   ],
   "source": [
    "L=[1,2]\n",
    "P=L.copy()   #cloning list\n",
    "L[0]=5\n",
    "print(L)\n",
    "print(P)"
   ]
  },
  {
   "cell_type": "code",
   "execution_count": 6,
   "id": "b987e5e5-1dcd-4b35-a9e5-b3c857b46a02",
   "metadata": {},
   "outputs": [
    {
     "name": "stdout",
     "output_type": "stream",
     "text": [
      "[5, 2]\n",
      "[1, 2]\n"
     ]
    }
   ],
   "source": [
    "L=[1,2]\n",
    "P=list(L)\n",
    "L[0]=5\n",
    "print(L)\n",
    "print(P)"
   ]
  },
  {
   "cell_type": "code",
   "execution_count": 7,
   "id": "5f54b7fd-b8e6-4fb9-9724-9be0b5a5c61e",
   "metadata": {},
   "outputs": [
    {
     "name": "stdout",
     "output_type": "stream",
     "text": [
      "[5, 2]\n",
      "[1, 2]\n"
     ]
    }
   ],
   "source": [
    "L=[1,2]\n",
    "P=L[:]\n",
    "L[0]=5\n",
    "print(L)\n",
    "print(P)"
   ]
  },
  {
   "cell_type": "code",
   "execution_count": 14,
   "id": "8555a9bb-1bed-406c-80e2-283f8950cb15",
   "metadata": {},
   "outputs": [
    {
     "name": "stdout",
     "output_type": "stream",
     "text": [
      "[[1, 2, 5], [3, 4]]\n",
      "[[1, 2], [3, 4]]\n",
      "[[1, 2, 5], [3, 4]]\n"
     ]
    }
   ],
   "source": [
    "import copy\n",
    "old_list=[[1, 2], [3, 4]]\n",
    "new_list1=copy.deepcopy(old_list)\n",
    "new_list2=old_list.copy()\n",
    "\n",
    "old_list[0].append(5)\n",
    "print(old_list)  \n",
    "print(new_list1)\n",
    "print(new_list2)"
   ]
  },
  {
   "cell_type": "markdown",
   "id": "688144cc-e1df-4212-8e13-1792d4738696",
   "metadata": {},
   "source": [
    "# List Comprehension\n",
    "List comprehension is a technique by which a new list can be created by writing corresponding statement using suitable condition in a list. It is a compact and single line statement"
   ]
  },
  {
   "cell_type": "code",
   "execution_count": 30,
   "id": "f35d11cc-c4b2-49d0-bc0d-1f57bf10a433",
   "metadata": {},
   "outputs": [
    {
     "name": "stdout",
     "output_type": "stream",
     "text": [
      "[8, 27, 64, 125, 216]\n"
     ]
    }
   ],
   "source": [
    "L=[2,3,4,5,6]\n",
    "B=[L[x]**3 for x in range(len(L))]\n",
    "print(B)"
   ]
  },
  {
   "cell_type": "code",
   "execution_count": 33,
   "id": "19c60758-5feb-47be-91dd-9e92f535b24a",
   "metadata": {},
   "outputs": [
    {
     "name": "stdout",
     "output_type": "stream",
     "text": [
      "[[1, 6, 9], [4, 13, 7], [10, 3, 16]]\n"
     ]
    }
   ],
   "source": [
    "A=[[1,2,3],[3,5,4],[3,2,7]]\n",
    "B=[[0,4,6],[1,8,3],[7,1,9]]\n",
    "C=[[A[i][j]+B[i][j] for j in range(len(A[0]))] for i in range(len(A))]\n",
    "print(C)"
   ]
  }
 ],
 "metadata": {
  "kernelspec": {
   "display_name": "Python 3 (ipykernel)",
   "language": "python",
   "name": "python3"
  },
  "language_info": {
   "codemirror_mode": {
    "name": "ipython",
    "version": 3
   },
   "file_extension": ".py",
   "mimetype": "text/x-python",
   "name": "python",
   "nbconvert_exporter": "python",
   "pygments_lexer": "ipython3",
   "version": "3.12.3"
  }
 },
 "nbformat": 4,
 "nbformat_minor": 5
}
