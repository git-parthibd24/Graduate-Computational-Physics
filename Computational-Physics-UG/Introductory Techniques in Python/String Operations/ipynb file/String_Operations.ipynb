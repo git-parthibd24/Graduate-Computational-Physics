{
 "cells": [
  {
   "cell_type": "markdown",
   "id": "677ded66-d464-4224-aa1d-e80eb6069cdf",
   "metadata": {},
   "source": [
    "# Define string\n",
    "String is immutable"
   ]
  },
  {
   "cell_type": "code",
   "execution_count": 5,
   "id": "592fff1b-c7a5-473d-bd39-212837409306",
   "metadata": {},
   "outputs": [
    {
     "name": "stdout",
     "output_type": "stream",
     "text": [
      "11\n"
     ]
    }
   ],
   "source": [
    "s='hello world'\n",
    "print(len(s))"
   ]
  },
  {
   "cell_type": "markdown",
   "id": "8642d58a-4b54-4632-9fa4-7feb85e32a16",
   "metadata": {},
   "source": [
    "# Indexing Operator and Slicing"
   ]
  },
  {
   "cell_type": "code",
   "execution_count": 17,
   "id": "5b4be803-0941-4610-a2c7-36822aa70692",
   "metadata": {},
   "outputs": [
    {
     "name": "stdout",
     "output_type": "stream",
     "text": [
      "o\n",
      " \n",
      "d\n",
      "l\n",
      "ello \n",
      "o world\n",
      "hello w\n",
      "hello world\n"
     ]
    }
   ],
   "source": [
    "s='hello world'\n",
    "print(s[4])\n",
    "print(s[5])\n",
    "print(s[-1])\n",
    "print(s[-2])\n",
    "a=s[1:6]\n",
    "print(a)\n",
    "b=s[4:]\n",
    "print(b)\n",
    "c=s[:7]\n",
    "print(c)\n",
    "d=s[:]\n",
    "print(d)"
   ]
  },
  {
   "cell_type": "markdown",
   "id": "246e84e3-9a61-4c7b-80d9-0ea8f2f0200e",
   "metadata": {},
   "source": [
    "# Splitting string based on position of ' ' character and storing in a list"
   ]
  },
  {
   "cell_type": "code",
   "execution_count": 16,
   "id": "1fc3adcf-a7c3-47c8-b822-fa215a868803",
   "metadata": {},
   "outputs": [
    {
     "name": "stdout",
     "output_type": "stream",
     "text": [
      "['hello', 'world']\n"
     ]
    }
   ],
   "source": [
    "s='hello world'\n",
    "a=s.split()\n",
    "print(a)"
   ]
  },
  {
   "cell_type": "markdown",
   "id": "4fd96621-0dfc-454f-85fb-a66690278d33",
   "metadata": {},
   "source": [
    "# Adding two or more strings"
   ]
  },
  {
   "cell_type": "code",
   "execution_count": 12,
   "id": "af364f39-34bb-41d5-a32e-9e6515971c43",
   "metadata": {},
   "outputs": [
    {
     "name": "stdout",
     "output_type": "stream",
     "text": [
      "hello worldhelp world\n"
     ]
    }
   ],
   "source": [
    "s='hello world'\n",
    "d='help world'\n",
    "print(s+d)"
   ]
  },
  {
   "cell_type": "markdown",
   "id": "9ef3f63c-f9a9-4c4b-90c7-622079d22805",
   "metadata": {},
   "source": [
    "# Replace string object "
   ]
  },
  {
   "cell_type": "code",
   "execution_count": 14,
   "id": "ab39ca20-abcf-4680-b297-0e2ebff85ca4",
   "metadata": {},
   "outputs": [
    {
     "name": "stdout",
     "output_type": "stream",
     "text": [
      "helpworld\n"
     ]
    }
   ],
   "source": [
    "s='helloworld'\n",
    "a=s.replace('hello','help')\n",
    "print(a)"
   ]
  },
  {
   "cell_type": "code",
   "execution_count": null,
   "id": "bf095e06-7cf1-4e78-994c-b632cc2efdda",
   "metadata": {},
   "outputs": [],
   "source": []
  }
 ],
 "metadata": {
  "kernelspec": {
   "display_name": "Python 3 (ipykernel)",
   "language": "python",
   "name": "python3"
  },
  "language_info": {
   "codemirror_mode": {
    "name": "ipython",
    "version": 3
   },
   "file_extension": ".py",
   "mimetype": "text/x-python",
   "name": "python",
   "nbconvert_exporter": "python",
   "pygments_lexer": "ipython3",
   "version": "3.12.3"
  }
 },
 "nbformat": 4,
 "nbformat_minor": 5
}
