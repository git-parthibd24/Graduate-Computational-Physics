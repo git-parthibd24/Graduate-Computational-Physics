{
 "cells": [
  {
   "cell_type": "markdown",
   "id": "b3958599-c3c3-45f5-adfa-244429ab2179",
   "metadata": {},
   "source": [
    "# Accept a string and count the total number of lower case and upper case alphabets"
   ]
  },
  {
   "cell_type": "code",
   "execution_count": 1,
   "id": "71b1728d-a89b-4aac-ac3d-f8ef6a4f4bca",
   "metadata": {},
   "outputs": [
    {
     "name": "stdin",
     "output_type": "stream",
     "text": [
      "Enter a string:  abDGHg\n"
     ]
    },
    {
     "name": "stdout",
     "output_type": "stream",
     "text": [
      "Number of uppercase letters is : 3\n",
      "Number of lowercase letters is : 3\n"
     ]
    }
   ],
   "source": [
    "st=input(\"Enter a string: \")\n",
    "c1=0  # Counter for uppercase letters\n",
    "c2=0  # Counter for lowercase letters\n",
    "\n",
    "#Iterate through each character in the string\n",
    "for char in st:\n",
    "    if 'A'<=char<='Z':    #Check if the character is uppercase (ASCII range for uppercase letters)\n",
    "        c1 += 1\n",
    "    elif 'a'<=char<='z':  # Check if the character is lowercase (ASCII range for lowercase letters)\n",
    "        c2 += 1\n",
    "\n",
    "print(\"Number of uppercase letters is :\", c1)\n",
    "print(\"Number of lowercase letters is :\", c2)"
   ]
  },
  {
   "cell_type": "markdown",
   "id": "d9a76748-8708-4f40-bc08-205f2f108c8c",
   "metadata": {},
   "source": [
    "# Accept a line of text that counts total no. of vowels,consonants,digits and ther special characters"
   ]
  },
  {
   "cell_type": "code",
   "execution_count": 1,
   "id": "8f9d6591-5e5d-4c29-a165-da4f67ea354d",
   "metadata": {},
   "outputs": [
    {
     "name": "stdin",
     "output_type": "stream",
     "text": [
      "Enter a line of text :  235AekoP#$@\n"
     ]
    },
    {
     "name": "stdout",
     "output_type": "stream",
     "text": [
      "no. of vowels is  3\n",
      "no. of consonents is  2\n",
      "no. of digits is  3\n",
      "no. of special characters is  3\n"
     ]
    }
   ],
   "source": [
    "st=input('Enter a line of text : ')\n",
    "c1=0\n",
    "c2=0\n",
    "c3=0\n",
    "c4=0\n",
    "st=st.lower()  #makes every alphabet in lower case\n",
    "for var in st:\n",
    "    #if var in 'aeiou':\n",
    "    if var=='a' or var=='e' or var=='i' or var=='o' or var=='u':\n",
    "        c1+=1\n",
    "    #if 'a'<=var<='z' and var not in 'aeiou':\n",
    "    elif var!='a' and var!='e' and var!='i' and var!='o' and var!='u' and 'a'<=var<='z':\n",
    "        c2+=1\n",
    "    elif '0'<=var<='9':\n",
    "        c3+=1\n",
    "    else:\n",
    "        c4+=1\n",
    "print('no. of vowels is ',c1)\n",
    "print('no. of consonents is ',c2)\n",
    "print('no. of digits is ',c3)        \n",
    "print('no. of special characters is ',c4)"
   ]
  },
  {
   "cell_type": "markdown",
   "id": "abd35ef2-75fe-4b03-affb-5f9d63df327f",
   "metadata": {},
   "source": [
    "# Accept a string containing binary digits and convert it to corresponding decimal number"
   ]
  },
  {
   "cell_type": "code",
   "execution_count": 3,
   "id": "c9d4ea7d-e654-4666-bcbc-e61bce157879",
   "metadata": {},
   "outputs": [
    {
     "name": "stdin",
     "output_type": "stream",
     "text": [
      "Enter a string with binary digits :  110\n"
     ]
    },
    {
     "name": "stdout",
     "output_type": "stream",
     "text": [
      "6\n"
     ]
    }
   ],
   "source": [
    "s=input('Enter a string with binary digits : ')\n",
    "n=len(s)\n",
    "k=n-1\n",
    "sum1=0\n",
    "for i in s:\n",
    "    num=int(i)\n",
    "    sum1=sum1+(pow(2,k))*num\n",
    "    k=k-1\n",
    "print(sum1)"
   ]
  }
 ],
 "metadata": {
  "kernelspec": {
   "display_name": "Python 3 (ipykernel)",
   "language": "python",
   "name": "python3"
  },
  "language_info": {
   "codemirror_mode": {
    "name": "ipython",
    "version": 3
   },
   "file_extension": ".py",
   "mimetype": "text/x-python",
   "name": "python",
   "nbconvert_exporter": "python",
   "pygments_lexer": "ipython3",
   "version": "3.12.3"
  }
 },
 "nbformat": 4,
 "nbformat_minor": 5
}
