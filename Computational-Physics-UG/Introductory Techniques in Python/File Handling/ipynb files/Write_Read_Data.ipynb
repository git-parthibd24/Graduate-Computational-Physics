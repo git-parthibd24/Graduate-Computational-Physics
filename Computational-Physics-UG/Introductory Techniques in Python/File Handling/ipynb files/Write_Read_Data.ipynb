{
 "cells": [
  {
   "cell_type": "markdown",
   "id": "727c4f15-9ed3-4306-8ba8-489f2c8a76bc",
   "metadata": {},
   "source": [
    "# Creation of a file and writting/reading contents to that created file"
   ]
  },
  {
   "cell_type": "code",
   "execution_count": 1,
   "id": "55c6fb91-9ac2-4d88-83e7-1a965fe60d3a",
   "metadata": {},
   "outputs": [
    {
     "name": "stdout",
     "output_type": "stream",
     "text": [
      "Content Appended and will be overwritten on next execution of the script on same file\n",
      "\n",
      "Current pointer offset : 454\n",
      "\n",
      "The file is read as :\n",
      "Lorem ipsum dolor sit amet,\n",
      "consectetur adipiscing elit.\n",
      "Sed do eiusmod tempor incididunt ut labore et dolore magna aliqua.\n",
      "Ut enim ad minim veniam,\n",
      "quis nostrud exercitation ullamco laboris nisi ut aliquip ex ea commodo consequat.\n",
      "Duis aute irure dolor in reprehenderit in voluptate velit esse cillum dolore eu fugiat nulla pariatur.\n",
      "Excepteur sint occaecat cupidatat non proident,\n",
      "sunt in culpa qui officia deserunt mollit anim id est laborum.\n",
      "\n"
     ]
    }
   ],
   "source": [
    "buffer=4095\n",
    "\n",
    "#Creation of file object\n",
    "fp=open('S:\\\\Documents\\\\Github\\\\Computational-Physics-UG\\\\Introductory Techniques in Python\\\\File Handling\\\\ipynb files\\\\filecreate_w+.txt','w+',buffer)   #Append mode “w+ or r+”                            \n",
    "\n",
    "lorem_ipsum_lines=[\"Lorem ipsum dolor sit amet,\",\"consectetur adipiscing elit.\",\"Sed do eiusmod tempor incididunt ut labore et dolore magna aliqua.\",\"Ut enim ad minim veniam,\",\"quis nostrud exercitation ullamco laboris nisi ut aliquip ex ea commodo consequat.\",\"Duis aute irure dolor in reprehenderit in voluptate velit esse cillum dolore eu fugiat nulla pariatur.\",\"Excepteur sint occaecat cupidatat non proident,\",\"sunt in culpa qui officia deserunt mollit anim id est laborum.\"]\n",
    "\n",
    "\n",
    "#Writing to the file    \n",
    "\n",
    "for line in lorem_ipsum_lines:\n",
    "        fp.write(line + '\\n')\n",
    "\n",
    "print(\"Content Appended and will be overwritten on next execution of the script on same file\")\n",
    "print()\n",
    "print('Current pointer offset :',fp.tell())\n",
    "print()             #current pointer location\n",
    "\n",
    "fp.seek(0,0)        #moves the pointer to the beggining of file as it was moved to last after creating the file using seek(offset,whence) where seek is position of pointer and whence is 0,1,2 indicating start from beginning, start from current offset position, start relative to end of the file respectively\n",
    "str=fp.read()\n",
    "print('The file is read as :')\n",
    "print(str)\n",
    "\n",
    "fp.close()          #After closing a file, it releases all the corresponding resources"
   ]
  },
  {
   "cell_type": "markdown",
   "id": "812bf98a-b186-4e0a-9228-e548306ffccb",
   "metadata": {},
   "source": [
    "# Creation of a file and appending/reading contents to that created file"
   ]
  },
  {
   "cell_type": "code",
   "execution_count": 2,
   "id": "70151921-606c-4cfb-8e1d-bd6052284517",
   "metadata": {},
   "outputs": [
    {
     "name": "stdout",
     "output_type": "stream",
     "text": [
      "Content updated and will be again appended on next execution of script\n",
      "\n",
      "Current pointer offset : 76\n",
      "\n",
      "The file is read as :\n",
      "Welcome to python\n",
      "Welcome to python\n",
      "Welcome to python\n",
      "Welcome to python\n",
      "\n"
     ]
    }
   ],
   "source": [
    "buffer=4095\n",
    "\n",
    "#Creation of file object\n",
    "fp=open('S:\\\\Documents\\\\Github\\\\Computational-Physics-UG\\\\Introductory Techniques in Python\\\\File Handling\\\\ipynb files\\\\filecreate_a+.txt','a+',buffer)   #Append mode “a+”                            \n",
    "\n",
    "#Writing to the file (This file cant be read)       \n",
    "str='Welcome to python\\n'\n",
    "for i in range(4):\n",
    "    fp.write(str)\n",
    "\n",
    "print(\"Content updated and will be again appended on next execution of script\")\n",
    "print()\n",
    "print('Current pointer offset :',fp.tell())\n",
    "print()            #current pointer location\n",
    "\n",
    "fp.seek(0,0)        #moves the pointer to the beggining of file as it was moved to last after creating the file using seek(offset,whence) where seek is position of pointer and whence is 0,1,2 indicating start from beginning, start from current offset position, start relative to end of the file respectively\n",
    "str=fp.read()\n",
    "print('The file is read as :')\n",
    "print(str)\n",
    "\n",
    "fp.close()                              #After closing a file, it releases all the corresponding resources"
   ]
  },
  {
   "cell_type": "markdown",
   "id": "68c0dcfd-2c6c-46a2-b0d0-a87f2b131b98",
   "metadata": {},
   "source": [
    "# Creation/Reading of a file exclusively and appending contents to that created file"
   ]
  },
  {
   "cell_type": "code",
   "execution_count": 2,
   "id": "4238ab73-b1c2-4590-ad11-7b5ba36f3e2e",
   "metadata": {},
   "outputs": [
    {
     "name": "stdout",
     "output_type": "stream",
     "text": [
      "File created for 1st and last time\n",
      "\n",
      "Current pointer offset : 11\n",
      "\n",
      "The file is read as :\n",
      "Create Mode\n"
     ]
    }
   ],
   "source": [
    "import os\n",
    "\n",
    "dir_file='S:\\\\Documents\\\\Github\\\\Computational-Physics-UG\\\\Introductory Techniques in Python\\\\File Handling\\\\ipynb files\\\\filecreate_x+.txt'\n",
    "buffer=4095                                            #Here buffer denoting the memory location where the set of characters are stored to write to the opened file\n",
    "\n",
    "if not os.path.exists(dir_file):    \n",
    "    #Creation of file object\n",
    "    with open(dir_file, 'x+') as fp:                   #Exclusive create mode “x+”\n",
    "        print(\"File created for 1st and last time\")    #A new file with same name cant be further created in same location\n",
    "        fp.write('Create Mode')\n",
    "        print()\n",
    "        print('Current pointer offset :',fp.tell())\n",
    "        print()                                        #current pointer location\n",
    "\n",
    "        fp.seek(0,0)                                   #moves the pointer to the beggining of file as it was moved to last after creating the file using seek(offset,whence) where seek is position of pointer and whence is 0,1,2 indicating start from beginning, start from current offset position, start relative to end of the file respectively\n",
    "        str=fp.read()\n",
    "        print('The file is read as :')\n",
    "        print(str)\n",
    "\n",
    "        fp.close()\n",
    "else:\n",
    "    with open(dir_file, 'a') as fp:                   #Append mode “a”\n",
    "        str='Welcome to python\\n'\n",
    "        fp.write(str)\n",
    "        fp.close()                                    #After closing a file, it releases all the corresponding resources\n",
    "        print(\"File already exists, content appended\")\n",
    "\n"
   ]
  },
  {
   "cell_type": "code",
   "execution_count": null,
   "id": "708cd8a3-a56d-49bd-931a-db145dfcee5b",
   "metadata": {},
   "outputs": [],
   "source": []
  }
 ],
 "metadata": {
  "kernelspec": {
   "display_name": "Python 3 (ipykernel)",
   "language": "python",
   "name": "python3"
  },
  "language_info": {
   "codemirror_mode": {
    "name": "ipython",
    "version": 3
   },
   "file_extension": ".py",
   "mimetype": "text/x-python",
   "name": "python",
   "nbconvert_exporter": "python",
   "pygments_lexer": "ipython3",
   "version": "3.12.3"
  }
 },
 "nbformat": 4,
 "nbformat_minor": 5
}
