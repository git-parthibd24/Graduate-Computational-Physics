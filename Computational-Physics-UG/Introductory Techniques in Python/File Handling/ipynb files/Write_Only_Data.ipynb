{
 "cells": [
  {
   "cell_type": "markdown",
   "id": "1ead6e12-3a5a-4fb6-8110-696a06f8c9d5",
   "metadata": {},
   "source": [
    "# Creation of a file and writting contents to that created file"
   ]
  },
  {
   "cell_type": "code",
   "execution_count": 2,
   "id": "cfca313c-b8e0-49cd-a1f1-248eb6fa9521",
   "metadata": {},
   "outputs": [
    {
     "name": "stdout",
     "output_type": "stream",
     "text": [
      "Content Appended and will be overwritten on next execution of the script on same file\n"
     ]
    }
   ],
   "source": [
    "buffer=4095\n",
    "\n",
    "#Creation of file object\n",
    "fp=open('S:\\\\Documents\\\\Github\\\\Computational-Physics-UG\\\\Introductory Techniques in Python\\\\File Handling\\\\ipynb files\\\\filecreate_w.txt','w',buffer)   #Append mode “w”                            \n",
    "\n",
    "lorem_ipsum_lines=[\"Lorem ipsum dolor sit amet,\",\"consectetur adipiscing elit.\",\"Sed do eiusmod tempor incididunt ut labore et dolore magna aliqua.\",\"Ut enim ad minim veniam,\",\"quis nostrud exercitation ullamco laboris nisi ut aliquip ex ea commodo consequat.\",\"Duis aute irure dolor in reprehenderit in voluptate velit esse cillum dolore eu fugiat nulla pariatur.\",\"Excepteur sint occaecat cupidatat non proident,\",\"sunt in culpa qui officia deserunt mollit anim id est laborum.\"]\n",
    "\n",
    "\n",
    "#Writing to the file (This file cant be read)    \n",
    "\n",
    "for line in lorem_ipsum_lines:\n",
    "        fp.write(line + '\\n')\n",
    "fp.close()                              #After closing a file, it releases all the corresponding resources\n",
    "print(\"Content Appended and will be overwritten on next execution of the script on same file\")"
   ]
  },
  {
   "cell_type": "markdown",
   "id": "264a9683-f194-48bf-a57c-76edd1c13c5b",
   "metadata": {},
   "source": [
    "# Creation of a file and appending contents to that created file"
   ]
  },
  {
   "cell_type": "code",
   "execution_count": 2,
   "id": "2c1fe894-652d-45ae-9bc5-17f66b93223e",
   "metadata": {},
   "outputs": [
    {
     "name": "stdout",
     "output_type": "stream",
     "text": [
      "Content updated and will be again appended on next execution of script\n"
     ]
    }
   ],
   "source": [
    "buffer=4095\n",
    "\n",
    "#Creation of file object\n",
    "fp=open('S:\\\\Documents\\\\Github\\\\Computational-Physics-UG\\\\Introductory Techniques in Python\\\\File Handling\\\\ipynb files\\\\filecreate_a.txt','a',buffer)   #Append mode “a”                            \n",
    "\n",
    "#Writing to the file (This file cant be read)       \n",
    "str='Welcome to python\\n'\n",
    "for i in range(4):\n",
    "    fp.write(str)\n",
    "fp.close()                              #After closing a file, it releases all the corresponding resources\n",
    "print(\"Content updated and will be again appended on next execution of script\")\n"
   ]
  },
  {
   "cell_type": "markdown",
   "id": "b442c94c-72a0-43cc-b4ba-ff65c4820330",
   "metadata": {},
   "source": [
    "# Creation of a file exclusively and appending contents to that created file"
   ]
  },
  {
   "cell_type": "code",
   "execution_count": 7,
   "id": "d82b1a79-d854-4ef0-a963-37b539589744",
   "metadata": {},
   "outputs": [
    {
     "name": "stdout",
     "output_type": "stream",
     "text": [
      "File created for 1st and last time\n"
     ]
    }
   ],
   "source": [
    "import os\n",
    "\n",
    "dir_file='S:\\\\Documents\\\\Github\\\\Computational-Physics-UG\\\\Introductory Techniques in Python\\\\File Handling\\\\ipynb files\\\\filecreate_x.txt'\n",
    "buffer=4095                                           #Here buffer denoting the memory location where the set of characters are stored to write to the opened file\n",
    "\n",
    "if not os.path.exists(dir_file):    \n",
    "    #Creation of file object\n",
    "    with open(dir_file, 'x') as fp:                   #Exclusive create mode “x”\n",
    "        print(\"File created for 1st and last time\")   #A new file with same name cant be further created in same location\n",
    "        fp.write('Create Mode\\n')\n",
    "else:\n",
    "    with open(dir_file, 'a') as fp:                   #Append mode “a”\n",
    "        str='Welcome to python\\n'\n",
    "        fp.write(str)\n",
    "        fp.close()                                    #After closing a file, it releases all the corresponding resources\n",
    "        print(\"File already exists, content appended\")\n"
   ]
  },
  {
   "cell_type": "code",
   "execution_count": null,
   "id": "9388a765-2411-48dd-9948-24567d080952",
   "metadata": {},
   "outputs": [],
   "source": []
  }
 ],
 "metadata": {
  "kernelspec": {
   "display_name": "Python 3 (ipykernel)",
   "language": "python",
   "name": "python3"
  },
  "language_info": {
   "codemirror_mode": {
    "name": "ipython",
    "version": 3
   },
   "file_extension": ".py",
   "mimetype": "text/x-python",
   "name": "python",
   "nbconvert_exporter": "python",
   "pygments_lexer": "ipython3",
   "version": "3.12.3"
  }
 },
 "nbformat": 4,
 "nbformat_minor": 5
}
