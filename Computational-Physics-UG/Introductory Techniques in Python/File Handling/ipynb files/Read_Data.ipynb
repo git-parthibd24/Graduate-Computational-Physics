{
 "cells": [
  {
   "cell_type": "markdown",
   "id": "7197c61b-9ec9-488c-94bd-9e625cf1831f",
   "metadata": {},
   "source": [
    "# Reading contents from a file"
   ]
  },
  {
   "cell_type": "code",
   "execution_count": 1,
   "id": "e6176215-f9ab-4e5f-9405-4a242f9a1d47",
   "metadata": {},
   "outputs": [
    {
     "name": "stdout",
     "output_type": "stream",
     "text": [
      "Content Read as : \n",
      "Lorem ipsum dolor sit amet,\n",
      "consectetur adipiscing elit.\n",
      "Sed do eiusmod tempor incididunt ut labore et dolore magna aliqua.\n",
      "Ut enim ad minim veniam,\n",
      "quis nostrud exercitation ullamco laboris nisi ut aliquip ex ea commodo consequat.\n",
      "Duis aute irure dolor in reprehenderit in voluptate velit esse cillum dolore eu fugiat nulla pariatur.\n",
      "Excepteur sint occaecat cupidatat non proident,\n",
      "sunt in culpa qui officia deserunt mollit anim id est laborum.\n",
      "\n",
      "\n",
      "The 1st 7 characters is read as : \n",
      "Lorem i\n",
      "\n",
      "The 1st line is read as : \n",
      "Lorem ipsum dolor sit amet,\n",
      "\n",
      "\n",
      "The 1st 5 characters is read as : \n",
      "Lorem\n",
      "\n",
      "Content Read as : \n",
      "['Lorem ipsum dolor sit amet,\\n', 'consectetur adipiscing elit.\\n', 'Sed do eiusmod tempor incididunt ut labore et dolore magna aliqua.\\n', 'Ut enim ad minim veniam,\\n', 'quis nostrud exercitation ullamco laboris nisi ut aliquip ex ea commodo consequat.\\n', 'Duis aute irure dolor in reprehenderit in voluptate velit esse cillum dolore eu fugiat nulla pariatur.\\n', 'Excepteur sint occaecat cupidatat non proident,\\n', 'sunt in culpa qui officia deserunt mollit anim id est laborum.\\n']\n"
     ]
    }
   ],
   "source": [
    "buffer=4095\n",
    "\n",
    "#Creation of file object\n",
    "fp=open('S:\\\\Documents\\\\Github\\\\Computational-Physics-UG\\\\Introductory Techniques in Python\\\\File Handling\\\\ipynb files\\\\filecreate_w.txt','r',buffer)   #Append mode “r”                            \n",
    "\n",
    "#Reading the file (This file cant be written)\n",
    "   \n",
    "str1=fp.read()\n",
    "print(\"Content Read as : \")\n",
    "print(str1)\n",
    "print()\n",
    "\n",
    "fp.seek(0)                    #Bringing the pointer/file offset to beginning of file again\n",
    "\n",
    "str1=fp.read(7)\n",
    "print('The 1st 7 characters is read as : ')\n",
    "print(str1)\n",
    "print()\n",
    "\n",
    "fp.seek(0)\n",
    "\n",
    "str2=fp.readline()\n",
    "print('The 1st line is read as : ')\n",
    "print(str2)\n",
    "print()\n",
    "\n",
    "fp.seek(0)\n",
    "\n",
    "str3=fp.readline(5)\n",
    "print('The 1st 5 characters is read as : ')\n",
    "print(str3)\n",
    "print()\n",
    "\n",
    "fp.seek(0)\n",
    "\n",
    "str3=fp.readlines()          #Returns a list of all lines as strings\n",
    "print(\"Content Read as : \")\n",
    "print(str3)"
   ]
  },
  {
   "cell_type": "code",
   "execution_count": null,
   "id": "a6fa6301-65df-4229-b0e5-a281fcc1d5d0",
   "metadata": {},
   "outputs": [],
   "source": []
  }
 ],
 "metadata": {
  "kernelspec": {
   "display_name": "Python 3 (ipykernel)",
   "language": "python",
   "name": "python3"
  },
  "language_info": {
   "codemirror_mode": {
    "name": "ipython",
    "version": 3
   },
   "file_extension": ".py",
   "mimetype": "text/x-python",
   "name": "python",
   "nbconvert_exporter": "python",
   "pygments_lexer": "ipython3",
   "version": "3.12.3"
  }
 },
 "nbformat": 4,
 "nbformat_minor": 5
}
