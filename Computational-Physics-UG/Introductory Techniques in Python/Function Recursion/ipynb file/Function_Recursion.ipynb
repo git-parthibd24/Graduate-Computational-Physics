{
 "cells": [
  {
   "cell_type": "markdown",
   "id": "e63aab54-10ce-4585-bbab-88261599bcb4",
   "metadata": {},
   "source": [
    "# Finding nth term of a Fibonacci Series using recurssion of function\n",
    "It is a series whose 1st two terms can be anything and next terms will be sum of previous two terms\n",
    "eg:0,1,1,2,3,5,8,13,21,34,55,89..."
   ]
  },
  {
   "cell_type": "code",
   "execution_count": 1,
   "id": "c17d6de1-c650-429e-9b11-c5fcaebded91",
   "metadata": {},
   "outputs": [
    {
     "name": "stdin",
     "output_type": "stream",
     "text": [
      "Enter order of term:  5\n"
     ]
    },
    {
     "name": "stdout",
     "output_type": "stream",
     "text": [
      "Fibonacci number at index 5 is : 3\n"
     ]
    }
   ],
   "source": [
    "def fibo(n):\n",
    "    if n<0:\n",
    "        print('wrong input')\n",
    "    elif n==1:\n",
    "        return 0\n",
    "    elif n==2:\n",
    "        return 1\n",
    "    else:\n",
    "        return fibo(n-1)+fibo(n-2)\n",
    "N=int(input('Enter order of term: '))\n",
    "m=fibo(N)\n",
    "print('Fibonacci number at index',N,'is :',fibo(N))"
   ]
  },
  {
   "cell_type": "markdown",
   "id": "9464aa41-eb48-4211-a2f0-83d37dcb6cfd",
   "metadata": {},
   "source": [
    "# Factorial of a number"
   ]
  },
  {
   "cell_type": "code",
   "execution_count": 2,
   "id": "9beed44e-1115-4c9a-9ae8-59691e583ad2",
   "metadata": {},
   "outputs": [
    {
     "name": "stdin",
     "output_type": "stream",
     "text": [
      "Enter a number :  5\n"
     ]
    },
    {
     "name": "stdout",
     "output_type": "stream",
     "text": [
      "The factorial of 5 is 120\n"
     ]
    }
   ],
   "source": [
    "def factorial(n):\n",
    "    if n==1:\n",
    "        return 1\n",
    "    else:\n",
    "        return n*factorial(n-1)\n",
    "    \n",
    "num=int(input('Enter a number : '))\n",
    "print('The factorial of',num,'is',factorial(num))"
   ]
  }
 ],
 "metadata": {
  "kernelspec": {
   "display_name": "Python 3 (ipykernel)",
   "language": "python",
   "name": "python3"
  },
  "language_info": {
   "codemirror_mode": {
    "name": "ipython",
    "version": 3
   },
   "file_extension": ".py",
   "mimetype": "text/x-python",
   "name": "python",
   "nbconvert_exporter": "python",
   "pygments_lexer": "ipython3",
   "version": "3.12.3"
  }
 },
 "nbformat": 4,
 "nbformat_minor": 5
}
