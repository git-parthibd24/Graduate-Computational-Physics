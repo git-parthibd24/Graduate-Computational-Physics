{
 "cells": [
  {
   "cell_type": "markdown",
   "id": "a298214f-c09e-4ed4-a11e-3fd59b89405d",
   "metadata": {},
   "source": [
    "# Example 1"
   ]
  },
  {
   "cell_type": "code",
   "execution_count": 2,
   "id": "ac63f498-4646-40bb-8ba9-c6833b27246b",
   "metadata": {},
   "outputs": [
    {
     "name": "stdout",
     "output_type": "stream",
     "text": [
      "print = 3 2\n"
     ]
    }
   ],
   "source": [
    "a=3\n",
    "b=2\n",
    "print('print =',a,b)"
   ]
  },
  {
   "cell_type": "markdown",
   "id": "3cd0bbc4-862a-43bd-80c5-d7f0d47922cf",
   "metadata": {},
   "source": [
    "# Example 2"
   ]
  },
  {
   "cell_type": "code",
   "execution_count": 3,
   "id": "bfc94ad8-7ee5-42ea-a343-cf991f332fa0",
   "metadata": {},
   "outputs": [
    {
     "name": "stdout",
     "output_type": "stream",
     "text": [
      "print =,3,2\n"
     ]
    }
   ],
   "source": [
    "a=3\n",
    "b=2\n",
    "print('print =',a,b,sep=',')          #inserts string ',' between print elements"
   ]
  },
  {
   "cell_type": "markdown",
   "id": "12eb45ea-18da-4db4-83c3-204761d946e9",
   "metadata": {},
   "source": [
    "# Example 3"
   ]
  },
  {
   "cell_type": "code",
   "execution_count": 6,
   "id": "f09a2562-f797-4bda-9e0c-6214ffb61498",
   "metadata": {},
   "outputs": [
    {
     "name": "stdout",
     "output_type": "stream",
     "text": [
      "print 1 =*3*2 print 2 =,3,2\n"
     ]
    }
   ],
   "source": [
    "a=3\n",
    "b=2\n",
    "print('print 1 =',a,b,sep='*',end=' ')  #keeps the cursor at same print line seperated by a space\n",
    "print('print 2 =',a,b,sep=',')"
   ]
  },
  {
   "cell_type": "markdown",
   "id": "0af290c0-bd02-40fd-8592-b793cf67dddc",
   "metadata": {},
   "source": [
    "# Example 4"
   ]
  },
  {
   "cell_type": "code",
   "execution_count": 7,
   "id": "f01a7bc4-6ddc-45f8-b4d1-ad367ce5ee6d",
   "metadata": {},
   "outputs": [
    {
     "name": "stdout",
     "output_type": "stream",
     "text": [
      "print 1 =*3*2\n",
      "print 2 =,3,2\n"
     ]
    }
   ],
   "source": [
    "a=3\n",
    "b=2\n",
    "print('print 1 =',a,b,sep='*')  \n",
    "print('print 2 =',a,b,sep=',')"
   ]
  },
  {
   "cell_type": "markdown",
   "id": "df437ae3-4984-4c8b-8ddb-569e9edbaac3",
   "metadata": {},
   "source": [
    "# Example 5"
   ]
  },
  {
   "cell_type": "code",
   "execution_count": 11,
   "id": "f3286194-dc8c-49ff-a0f7-bb497e5abef0",
   "metadata": {},
   "outputs": [
    {
     "name": "stdout",
     "output_type": "stream",
     "text": [
      "There are 2 oranges and 3 apples in the basket\n"
     ]
    }
   ],
   "source": [
    "a=2\n",
    "b=3\n",
    "print('There are %d oranges and %d apples in the basket'%(a,b))"
   ]
  },
  {
   "cell_type": "markdown",
   "id": "92b5f6f0-0e02-4af0-8511-c93545bb8cbf",
   "metadata": {},
   "source": [
    "# Example 6"
   ]
  },
  {
   "cell_type": "code",
   "execution_count": 12,
   "id": "68a733c3-22a5-46c9-a67f-1c0b22750f3c",
   "metadata": {},
   "outputs": [
    {
     "name": "stdout",
     "output_type": "stream",
     "text": [
      "My name is abc. I live in xyz\n"
     ]
    }
   ],
   "source": [
    "print('My name is {0}. I live in {1}'.format('abc','xyz'))"
   ]
  },
  {
   "cell_type": "markdown",
   "id": "f11e1abc-dfcd-4483-a941-5063b00c7114",
   "metadata": {},
   "source": [
    "# Example 7"
   ]
  },
  {
   "cell_type": "code",
   "execution_count": 13,
   "id": "3672b236-cf5a-445e-a822-0ad3d48d1d3a",
   "metadata": {},
   "outputs": [
    {
     "name": "stdout",
     "output_type": "stream",
     "text": [
      "My name is xyz. I live in abc\n"
     ]
    }
   ],
   "source": [
    "print('My name is {1}. I live in {0}'.format('abc','xyz'))"
   ]
  },
  {
   "cell_type": "markdown",
   "id": "3cd4df9b-ac66-44d6-9b56-0dbe0d8f5c1e",
   "metadata": {},
   "source": [
    "# Example 8"
   ]
  },
  {
   "cell_type": "code",
   "execution_count": 14,
   "id": "e4c6b054-bb26-497f-ae60-a405fe1ceb6f",
   "metadata": {},
   "outputs": [
    {
     "name": "stdout",
     "output_type": "stream",
     "text": [
      "My name is abc. I live in xyz\n"
     ]
    }
   ],
   "source": [
    "print('My name is {}. I live in {}'.format('abc','xyz'))"
   ]
  },
  {
   "cell_type": "markdown",
   "id": "57336c41-b1f9-4a6d-a9fd-f9fca9781227",
   "metadata": {},
   "source": [
    "# Example 9"
   ]
  },
  {
   "cell_type": "code",
   "execution_count": 15,
   "id": "5bf9fb46-0772-46ec-9049-f716c419b23b",
   "metadata": {},
   "outputs": [
    {
     "name": "stdout",
     "output_type": "stream",
     "text": [
      "My name is abc. I live in xyz\n"
     ]
    }
   ],
   "source": [
    "print('My name is {name}. I live in {city}'.format(name='abc',city='xyz'))"
   ]
  },
  {
   "cell_type": "markdown",
   "id": "fde2a8f7-1609-426a-8c03-fd2839cdbe26",
   "metadata": {},
   "source": [
    "# Example 10"
   ]
  },
  {
   "cell_type": "code",
   "execution_count": 16,
   "id": "45f2677e-3e44-40fd-b260-3e184bdda41f",
   "metadata": {},
   "outputs": [
    {
     "name": "stdout",
     "output_type": "stream",
     "text": [
      "The number is 45.89\n"
     ]
    }
   ],
   "source": [
    "print('The number is {:.2f}'.format(45.89365))    #.2 denotes no of digits to take after decimal by rounding off"
   ]
  },
  {
   "cell_type": "markdown",
   "id": "321b6818-03af-4453-9613-76e2ccd4ef4d",
   "metadata": {},
   "source": [
    "# Example 11"
   ]
  },
  {
   "cell_type": "code",
   "execution_count": 17,
   "id": "1470b351-b929-4f84-a0e7-dd461161be05",
   "metadata": {},
   "outputs": [
    {
     "name": "stdout",
     "output_type": "stream",
     "text": [
      "The number is   45.89\n"
     ]
    }
   ],
   "source": [
    "print('The number is {:7.2f}'.format(45.89365))   #7 denotes length of output"
   ]
  },
  {
   "cell_type": "markdown",
   "id": "8296d59f-509d-4d5d-85f8-730cff4ee3e9",
   "metadata": {},
   "source": [
    "# Example 11"
   ]
  },
  {
   "cell_type": "code",
   "execution_count": 18,
   "id": "2be7de58-c516-4ac5-baff-cbafc3fc6eae",
   "metadata": {},
   "outputs": [
    {
     "name": "stdout",
     "output_type": "stream",
     "text": [
      "The number is 0045.89\n"
     ]
    }
   ],
   "source": [
    "print('The number is {:07.2f}'.format(45.89365)) "
   ]
  },
  {
   "cell_type": "markdown",
   "id": "3928cac5-78db-45b7-8e0d-e0323fd196d3",
   "metadata": {},
   "source": [
    "# Example 12"
   ]
  },
  {
   "cell_type": "code",
   "execution_count": 21,
   "id": "09a6c2fd-0ac1-4b35-b3f1-c2dcfb33bdad",
   "metadata": {},
   "outputs": [
    {
     "name": "stdout",
     "output_type": "stream",
     "text": [
      "The number is 45.89\n"
     ]
    }
   ],
   "source": [
    "print('The number is',format(45.89365,'0.2f'))   #0 is width/padding specifier, 2 is precession specifier, f is type specifier : here fixed point number i.e float"
   ]
  },
  {
   "cell_type": "markdown",
   "id": "a21b6040-a0fc-4b0c-b126-d6b80627db7f",
   "metadata": {},
   "source": [
    "# Example 13"
   ]
  },
  {
   "cell_type": "code",
   "execution_count": 22,
   "id": "deb4662d-e83d-47cf-a50b-6c2f79caa63d",
   "metadata": {},
   "outputs": [
    {
     "name": "stdout",
     "output_type": "stream",
     "text": [
      "The strings are abc and xyz\n"
     ]
    }
   ],
   "source": [
    "str1='abc'\n",
    "str2='xyz'\n",
    "print(f\"The strings are {str1} and {str2}\")  #This is a f-string"
   ]
  },
  {
   "cell_type": "markdown",
   "id": "e89df5ff-2c46-4417-93a4-9e5d7161f84f",
   "metadata": {},
   "source": [
    "# Example 14"
   ]
  },
  {
   "cell_type": "code",
   "execution_count": 1,
   "id": "b3c3468e-4fcf-4a7b-beb3-e97904d490c1",
   "metadata": {},
   "outputs": [
    {
     "name": "stdin",
     "output_type": "stream",
     "text": [
      "enter your name:  abc\n",
      "enter your surname:  xyz\n"
     ]
    },
    {
     "name": "stdout",
     "output_type": "stream",
     "text": [
      "name:  abc surname:  xyz\n"
     ]
    }
   ],
   "source": [
    "name=input('enter your name: ')\n",
    "sname=input('enter your surname: ')\n",
    "print('name: ',name,'surname: ',sname)"
   ]
  }
 ],
 "metadata": {
  "kernelspec": {
   "display_name": "Python 3 (ipykernel)",
   "language": "python",
   "name": "python3"
  },
  "language_info": {
   "codemirror_mode": {
    "name": "ipython",
    "version": 3
   },
   "file_extension": ".py",
   "mimetype": "text/x-python",
   "name": "python",
   "nbconvert_exporter": "python",
   "pygments_lexer": "ipython3",
   "version": "3.12.3"
  }
 },
 "nbformat": 4,
 "nbformat_minor": 5
}
