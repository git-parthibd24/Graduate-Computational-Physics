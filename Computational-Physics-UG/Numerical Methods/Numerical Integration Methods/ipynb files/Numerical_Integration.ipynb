{
 "cells": [
  {
   "cell_type": "markdown",
   "id": "3ffa277c-4910-4552-be69-87c55cce7fb4",
   "metadata": {},
   "source": [
    "# Trapezoidal Method for numerical integration\n",
    "Method 1 : Composite Trapezoidal Rule"
   ]
  },
  {
   "cell_type": "code",
   "execution_count": 1,
   "id": "a27f2a99-6148-4cb3-b43c-6294553d459a",
   "metadata": {},
   "outputs": [
    {
     "name": "stdin",
     "output_type": "stream",
     "text": [
      " Enter lower limit :  0\n",
      " Enter upper limit :  5\n",
      "Enter number of sub intervals :  5000\n"
     ]
    },
    {
     "name": "stdout",
     "output_type": "stream",
     "text": [
      "The value of integral is : 594.6527\n"
     ]
    }
   ],
   "source": [
    "import numpy as np\n",
    "def f(x):\n",
    "    return x*np.exp(x)\n",
    "\n",
    "a=eval(input(' Enter lower limit : '))\n",
    "b=eval(input(' Enter upper limit : '))\n",
    "n=int(input('Enter number of sub intervals : '))\n",
    "h=(b-a)/n\n",
    "s=0.0\n",
    "\n",
    "for i in range(n):\n",
    "    s=s+f(a+(i+0)*h)+f(a+(i+1)*h)                #Double counting of intermediate elements occurs with next iteration\n",
    "s=s*(h/2)\n",
    "print('The value of integral is :',format(s,'0.4f'))"
   ]
  },
  {
   "cell_type": "markdown",
   "id": "d963988b-fda8-486d-bb26-d604f7750cb8",
   "metadata": {},
   "source": [
    "# Trapezoidal Method for numerical integration\n",
    "Method 2 : Adaptive Trapezoidal Rule (Global Refinement)"
   ]
  },
  {
   "cell_type": "code",
   "execution_count": 2,
   "id": "a94700eb-7a90-45f7-aa08-438821d7161f",
   "metadata": {},
   "outputs": [
    {
     "name": "stdin",
     "output_type": "stream",
     "text": [
      " Enter lower limit :  0\n",
      " Enter upper limit :  np.pi\n"
     ]
    },
    {
     "name": "stdout",
     "output_type": "stream",
     "text": [
      "The value of integral is : 2.0000\n"
     ]
    }
   ],
   "source": [
    "import numpy as np\n",
    "def f(x):\n",
    "    return np.sin(x)\n",
    "a=eval(input(' Enter lower limit : '))\n",
    "b=eval(input(' Enter upper limit : '))\n",
    "S0,S=0,0\n",
    "n=2              #The interval will be splitted mimimum in 2 parts\n",
    "\n",
    "while True:\n",
    "    h=(b-a)/n\n",
    "    S=(2*sum([f(a+i*h) for i in range (1,n)])+f(a)+f(b))*(h/2)                #The sum excludes 1st and last point. Intermediate points are doubly counted\n",
    "    if abs(S-S0)<0.0000001:\n",
    "        break\n",
    "    n=n+1\n",
    "    S0=S\n",
    "print('The value of integral is :',format(S,'0.4f'))"
   ]
  },
  {
   "cell_type": "markdown",
   "id": "59522169-f2c5-40b5-8b01-1bdae8176b48",
   "metadata": {},
   "source": [
    "# Trapezoidal Method for numerical integration\n",
    "Method 3 : Adaptive Trapezoidal Rule (Local Refinement) (Depth 1st approach)"
   ]
  },
  {
   "cell_type": "code",
   "execution_count": 1,
   "id": "1244ca8f-149a-46b7-9ecd-f7baa5abc3f8",
   "metadata": {},
   "outputs": [
    {
     "name": "stdout",
     "output_type": "stream",
     "text": [
      "The value of integral using Adaptive Trapezoidal Integral is : 147.3989\n"
     ]
    }
   ],
   "source": [
    "import numpy as np\n",
    "\n",
    "def trapezoidal(f,a,b,n):\n",
    "    h=(b-a)/n\n",
    "    x=np.linspace(a,b,n)\n",
    "    y=f(x)\n",
    "    return (h/2)*(y[0]+2*sum(y[1:-1])+y[-1])\n",
    "\n",
    "def adaptive_trapezoidal(f,a,b,tol=1e-6,min_step=1e-12):\n",
    "    intervals=[(a,b)]           #This stores the range of integration (sub-intervals) within a tuple inside a list. This stack will get dynamically updated\n",
    "    integral=0 \n",
    "\n",
    "    while intervals:            #The loop will initiate only if intervals is filled\n",
    "        a,b=intervals.pop()     #Remove the last element of stack i.e the tuple of interval and assign variables to it for current interval of processing\n",
    "        mid=(a+b)/2  \n",
    "        I_coarse=trapezoidal(f,a,b,1)  \n",
    "        I_fine=trapezoidal(f,a,mid,1)+trapezoidal(f,mid,b,1)  \n",
    "\n",
    "        error=abs(I_fine-I_coarse)/3  \n",
    "        if error<tol or abs(b-a)<min_step:   #Local convergence check for a given sub-interval (a,b)\n",
    "            integral+=I_fine                 #Add the area of this trapezoid in (a,b) to integral\n",
    "        else:\n",
    "            intervals.append((a,mid))       #Subdivide further to check for convergence of these new intervals from rightmost to leftmost over next iterations\n",
    "            intervals.append((mid,b))\n",
    "            \n",
    "    return integral\n",
    "\n",
    "    \n",
    "f=lambda x:np.exp(x)  \n",
    "result=adaptive_trapezoidal(f,0,5)\n",
    "print(\"The value of integral using Adaptive Trapezoidal Integral is :\",format(result,'0.4f'))"
   ]
  },
  {
   "cell_type": "markdown",
   "id": "3ba6f3f0-8928-4c0c-86b8-53d215415cbd",
   "metadata": {},
   "source": [
    "# Simpson's 1/3 Method for numerical integation\n",
    "Method 1"
   ]
  },
  {
   "cell_type": "code",
   "execution_count": 6,
   "id": "d06b6e03-5181-4e74-aef4-617ccba9375d",
   "metadata": {},
   "outputs": [
    {
     "name": "stdin",
     "output_type": "stream",
     "text": [
      "Enter the value of lower limit :  0\n",
      "Enter the value of upper limit :  5\n",
      "Enter value of sub interval :  5000\n"
     ]
    },
    {
     "name": "stdout",
     "output_type": "stream",
     "text": [
      "The value of inegral is : 594.6526\n"
     ]
    }
   ],
   "source": [
    "import numpy as np\n",
    "\n",
    "def f(x):\n",
    "    return x*np.exp(x)\n",
    "\n",
    "a=eval(input('Enter the value of lower limit : '))\n",
    "b=eval(input('Enter the value of upper limit : '))\n",
    "n=int(input('Enter value of sub interval : '))\n",
    "\n",
    "if n%2==0:\n",
    "    h=(b-a)/n\n",
    "    s=0.0\n",
    "    for i in range(0,n,2):                                     #Give lower range value as must (as 0 here)\n",
    "        s=s+f(a+(i+0)*h)+4*f(a+(i+1)*h)+f(a+(i+2)*h)           #End points are even points. With each iteration, the even points are doubled except extreme end points\n",
    "    s=s*(h/3)   \n",
    "    print('The value of inegral is :',format(s,'0.4f'))\n",
    "\n",
    "else:\n",
    "    print(\"Enter subinterval as multiple of 2\")"
   ]
  },
  {
   "cell_type": "markdown",
   "id": "d37fb0f1-9c58-4ccb-a04d-121cf7bc86ca",
   "metadata": {},
   "source": [
    "# Simpson's 1/3 Method for numerical integation\n",
    "Method 2 (increasing accuracy)"
   ]
  },
  {
   "cell_type": "code",
   "execution_count": 1,
   "id": "3c07c725-56d8-40aa-b05a-d09875553803",
   "metadata": {},
   "outputs": [
    {
     "name": "stdin",
     "output_type": "stream",
     "text": [
      "Enter the value of lower limit :  0\n",
      "Enter the value of upper limit :  5\n"
     ]
    },
    {
     "name": "stdout",
     "output_type": "stream",
     "text": [
      "The value of inegral is : 594.5419\n"
     ]
    }
   ],
   "source": [
    "import numpy as np\n",
    "def f(x):\n",
    "    return x*np.exp(x)\n",
    "a=eval(input('Enter the value of lower limit : '))\n",
    "b=eval(input('Enter the value of upper limit : '))\n",
    "\n",
    "S0=0\n",
    "S1=f(a)+f(b)\n",
    "n=2\n",
    "\n",
    "while abs(S1-S0)>0.0001:\n",
    "    S0=S1\n",
    "    h=(b-a)/n\n",
    "    k=4\n",
    "    for i in range(1,n):                                     \n",
    "        S1=S1+k*f(a+i*h)\n",
    "        k=6-k\n",
    "    S1=S1*(h/3)\n",
    "    n=n+2\n",
    "\n",
    "print('The value of inegral is :',format(S1,'0.4f'))"
   ]
  },
  {
   "cell_type": "markdown",
   "id": "3e03b3db-166a-4827-81ab-8df9378e7199",
   "metadata": {},
   "source": [
    "# Simpson's 1/3 Method for numerical integation\n",
    "Method 3 (Same implementaion as of Method 2 but in different form)"
   ]
  },
  {
   "cell_type": "code",
   "execution_count": 7,
   "id": "36d7cf8e-1e4f-4fbe-a2d8-0c86c80293ba",
   "metadata": {},
   "outputs": [
    {
     "name": "stdin",
     "output_type": "stream",
     "text": [
      "Enter the value of lower limit :  0\n",
      "Enter the value of upper limit :  5\n"
     ]
    },
    {
     "name": "stdout",
     "output_type": "stream",
     "text": [
      "The value of inegral is : 594.6498\n"
     ]
    }
   ],
   "source": [
    "import numpy as np\n",
    "\n",
    "def f(x):\n",
    "    return x*np.exp(x)\n",
    "a=eval(input('Enter the value of lower limit : '))\n",
    "b=eval(input('Enter the value of upper limit : '))\n",
    "\n",
    "S0=0\n",
    "S1=f(a)+f(b)\n",
    "n=2\n",
    "\n",
    "while abs(S1-S0)>0.00001:\n",
    "    S0=S1\n",
    "    h=(b-a)/n                                     \n",
    "    S1_odd=(4*sum([f(a+i*h) for i in range (1,n,2)]))*(h/3)\n",
    "    S1_even=(2*sum([f(a+i*h) for i in range (1,n,2)]))*(h/3)\n",
    "    S1=S1_even+S1_odd\n",
    "    n=n+2\n",
    "    \n",
    "print('The value of inegral is :',format(S1,'0.4f'))"
   ]
  },
  {
   "cell_type": "markdown",
   "id": "12b290b9-1c46-43a4-a7c3-087be95c2b4d",
   "metadata": {},
   "source": [
    "# Numerical Integration using trapz() of scipy module\n",
    "(trapz() function is deprecated in newer versions of scipy)"
   ]
  },
  {
   "cell_type": "code",
   "execution_count": 12,
   "id": "0dd82ad7-ea6b-475a-8e23-d9e69d4793aa",
   "metadata": {},
   "outputs": [
    {
     "name": "stdin",
     "output_type": "stream",
     "text": [
      "Enter lower and upper limits :  0,5\n",
      "Enter no. of subintervals :  2000\n"
     ]
    },
    {
     "name": "stdout",
     "output_type": "stream",
     "text": [
      "The result is : 594.6531001441489\n"
     ]
    }
   ],
   "source": [
    "from scipy.integrate import trapezoid\n",
    "import numpy as np\n",
    "\n",
    "def f(x):\n",
    "    return x*np.exp(x)\n",
    "\n",
    "a,b=eval(input('Enter lower and upper limits : '))\n",
    "n=int(input('Enter no. of subintervals : '))\n",
    "X=np.linspace(a,b,n)\n",
    "result=trapezoid(f(X),X)\n",
    "print('The result is :',result)"
   ]
  },
  {
   "cell_type": "markdown",
   "id": "a94211bf-e2f9-492b-a3fd-62217247ae78",
   "metadata": {},
   "source": [
    "# Numerical Integration using simpson() of scipy module\n",
    "(simps() function is deprecated in newer versions of scipy)"
   ]
  },
  {
   "cell_type": "code",
   "execution_count": 5,
   "id": "426165ef-b1a0-4cea-9511-d9d945f05cd0",
   "metadata": {},
   "outputs": [
    {
     "name": "stdin",
     "output_type": "stream",
     "text": [
      "Enter lower and upper limits :  0,5\n",
      "Enter no. of subintervals :  2000\n"
     ]
    },
    {
     "name": "stdout",
     "output_type": "stream",
     "text": [
      "The result is : 594.6526364124948\n"
     ]
    }
   ],
   "source": [
    "from scipy.integrate import simpson\n",
    "import numpy as np\n",
    "\n",
    "def f(x):\n",
    "    return x*np.exp(x)\n",
    "\n",
    "a,b=eval(input('Enter lower and upper limits : '))\n",
    "n=int(input('Enter no. of subintervals : '))\n",
    "\n",
    "if n%2==0:\n",
    "    X=np.linspace(a,b,n)\n",
    "    result=simpson(f(X),x=X)        #old syntax : result=simps(f(X),X)\n",
    "    print('The result is :',result)\n",
    "else:\n",
    "    print('Not Applicable with odd subinterval')"
   ]
  },
  {
   "cell_type": "markdown",
   "id": "9f9237ae-08f9-4733-b2f5-015315183f40",
   "metadata": {},
   "source": [
    "# Numerical Integration using quad() of scipy module"
   ]
  },
  {
   "cell_type": "code",
   "execution_count": 16,
   "id": "0c69a9b2-d038-40ce-958a-814d216414c1",
   "metadata": {},
   "outputs": [
    {
     "name": "stdin",
     "output_type": "stream",
     "text": [
      "Enter lower and upper limits :  0,5\n"
     ]
    },
    {
     "name": "stdout",
     "output_type": "stream",
     "text": [
      "The result is : 594.6526364103064  and error is : 6.601970485967738e-12\n"
     ]
    }
   ],
   "source": [
    "from scipy.integrate import quad\n",
    "import math as m\n",
    "\n",
    "def f(x):\n",
    "    return x*m.exp(x)\n",
    "\n",
    "a,b=eval(input('Enter lower and upper limits : '))\n",
    "result,err=quad(f,a,b)\n",
    "print('The result is :',result,' and error is :',err)"
   ]
  },
  {
   "cell_type": "markdown",
   "id": "ce927f72-bd0b-4fc5-b4f7-4492b08de38a",
   "metadata": {},
   "source": [
    "# Gauss-Legendre n-point quadrature formula \n",
    "Implemented using root finding from inbuilt function and file read/write"
   ]
  },
  {
   "cell_type": "code",
   "execution_count": 1,
   "id": "5de0a15a-26c0-43cc-8991-c4727bf93d5e",
   "metadata": {},
   "outputs": [
    {
     "name": "stdin",
     "output_type": "stream",
     "text": [
      "Enter lower limit :  0\n",
      "Enter upper limit :  5\n",
      "Enter no. of points :  100\n"
     ]
    },
    {
     "name": "stdout",
     "output_type": "stream",
     "text": [
      "The value of integral is : 594.653\n"
     ]
    }
   ],
   "source": [
    "import numpy as np\n",
    "from numpy.polynomial.legendre import leggauss\n",
    "\n",
    "def f(x):\n",
    "    return x*np.exp(x)\n",
    "\n",
    "a=eval(input('Enter lower limit : '))\n",
    "b=eval(input('Enter upper limit : '))\n",
    "n=int(input('Enter no. of points : '))\n",
    "\n",
    "t,w=leggauss(n)            #This evaluates the roots of n-th degree Legendre polynomial (n-quadrature points) and the associated weights with them through a relation\n",
    "fp=open('S:\\\\Documents\\\\Github\\\\Computational-Physics-UG\\\\Numerical Methods\\\\Integration Methods\\\\ipynb file\\\\Legendre.txt','w')\n",
    "\n",
    "for i in range(n):\n",
    "    fp.write(str(t[i]))     #writing the roots for each iteration in 1st column of the file\n",
    "    fp.write(' ')           #seperating the roots and weights in 2 columns\n",
    "    fp.write(str(w[i]))     #writing the weights for each iteration in 2nd column of the file\n",
    "    fp.write('\\n')          #changing line for next iteration\n",
    "fp.close()\n",
    "\n",
    "Sum=0.0\n",
    "fp=open('S:\\\\Documents\\\\Github\\\\Computational-Physics-UG\\\\Numerical Methods\\\\Integration Methods\\\\ipynb file\\\\Legendre.txt','r')\n",
    "for i in range(n):\n",
    "    s=fp.readline()         #reading the file line by line and creating a string of root and its weight\n",
    "    l=s.split()             #making a list of string(root) and its string(weight) by splitting the s string in each iteration\n",
    "    Sum=Sum+float(l[1])*f(float(l[0])*(b-a)/2+(a+b)/2)    #evaluating the n-point Gaussian quadrature sum by changing x into t\n",
    "Sum*=(b-a)/2\n",
    "\n",
    "print('The value of integral is :',format(Sum,'0.3f'))\n",
    "fp.close()"
   ]
  },
  {
   "cell_type": "markdown",
   "id": "606387fa-6ca8-471d-bc9c-2a687502cf1c",
   "metadata": {},
   "source": [
    "# Gaussian Quadrature method for numerical integration from scratch using user defined root finding module\n",
    "Using lambda()"
   ]
  },
  {
   "cell_type": "code",
   "execution_count": 2,
   "id": "a5e07470-9d32-46c0-b167-031003aa1db2",
   "metadata": {},
   "outputs": [
    {
     "name": "stdout",
     "output_type": "stream",
     "text": [
      "The integral using Gaussian_Quadrature method is : 147.4294\n"
     ]
    }
   ],
   "source": [
    "import numpy as np\n",
    "import sys\n",
    "sys.path.append('/home/tux_blue/Documents/GitHub/Computational-Physics-UG/Numerical Methods/Numerical Integration Methods/Python Files')\n",
    "import Gauss_bisect_1    #importing user defined module from its path\n",
    "\n",
    "def legendre_poly(n,x):     #Computing Legendre polynomial P_n(x) using its recurrence relation but through iteration\n",
    "    if n==0:\n",
    "        return 1\n",
    "    elif n==1:\n",
    "        return x\n",
    "    else:\n",
    "        P0,P1=1,x                                                            #Base cases\n",
    "        for k in range(2,n+1):\n",
    "            Pn=((2*k-1)*x*P1-(k-1)*P0)/k\n",
    "            P0,P1=P1,Pn  \n",
    "        return Pn\n",
    "    \n",
    "def legendre_poly_derivative(n,x):   #recurrence relation involving derivative of Legendre Polynomial\n",
    "    Pn= legendre_poly(n,x)\n",
    "    Pn_1=legendre_poly(n-1,x)\n",
    "    return n/(x**2-1)*(x*Pn-Pn_1)\n",
    "    \n",
    "def nodes_and_weights(n):\n",
    "    nodes=Gauss_bisect_1.root_search(lambda x:legendre_poly(n,x))    #We have to use function reference, otherwise x is not defined. If we use x, values will be passed instead of function (premature evaluation). lambda() is made to take only one argument x, which is used alone in the f() inside root_search() itself. n is binded with x and it is not registered as 2nd argument  \n",
    "    weights=2/((1-nodes**2)*(legendre_poly_derivative(n,nodes)**2))\n",
    "    return nodes,weights\n",
    "    \n",
    "def gauss_quadrature(f,a,b,n):\n",
    "    nodes,weights=nodes_and_weights(n)\n",
    "    integral=0\n",
    "    for i in range(n):\n",
    "        t=(b-a)/2*nodes[i]+(a+b)/2\n",
    "        integral=integral+(weights[i])*f(t)\n",
    "    integral=integral*(b-a)/2\n",
    "    return integral\n",
    "\n",
    "#Example Integration\n",
    "f=lambda x:np.exp(x)\n",
    "a,b=0,5\n",
    "result=gauss_quadrature(f,a,b,n=50)\n",
    "print(\"The integral using Gaussian_Quadrature method is :\", format(result,'0.4f'))"
   ]
  },
  {
   "cell_type": "markdown",
   "id": "39a5618b-4d34-429b-bf38-41b5d1465d3c",
   "metadata": {},
   "source": [
    "# Gaussian Quadrature method for numerical integration from scratch using user defined root finding  module\n",
    "Without using lambda()"
   ]
  },
  {
   "cell_type": "code",
   "execution_count": 1,
   "id": "793ca453-c69a-45d2-98c0-a487f65d6f55",
   "metadata": {},
   "outputs": [
    {
     "name": "stdout",
     "output_type": "stream",
     "text": [
      "The integral using Gaussian_Quadrature method is : 147.4294\n"
     ]
    }
   ],
   "source": [
    "import numpy as np\n",
    "import sys\n",
    "sys.path.append('/home/tux_blue/Documents/GitHub/Computational-Physics-UG/Numerical Methods/Numerical Integration Methods/Python Files')\n",
    "import Gauss_bisect_2    #importing user defined module from its path\n",
    "\n",
    "def legendre_poly(n,x):     #Computing Legendre polynomial P_n(x) using its recurrence relation but through iteration\n",
    "    if n==0:\n",
    "        return 1\n",
    "    elif n==1:\n",
    "        return x\n",
    "    else:\n",
    "        P0,P1=1,x                                                            #Base cases\n",
    "        for k in range(2,n+1):\n",
    "            Pn=((2*k-1)*x*P1-(k-1)*P0) / k\n",
    "            P0,P1=P1,Pn  \n",
    "        return Pn\n",
    "    \n",
    "def legendre_poly_derivative(n,x):   #recurrence relation involving derivative of Legendre Polynomial\n",
    "    Pn= legendre_poly(n,x)\n",
    "    Pn_1=legendre_poly(n-1,x)\n",
    "    return n/(x**2-1)*(x*Pn-Pn_1)\n",
    "    \n",
    "def nodes_and_weights(n):\n",
    "    nodes=Gauss_bisect_2.root_search(legendre_poly,n)    #We have to use function reference, otherwise x is not defined. If we use x, values will be passed instead of function (premature evaluation). Since we are not defining n inside legendre_poly we need to pass n itself seperately and use it in f() inside root_search() itself. n is not  binded with x and it is registered as 2nd argument. \n",
    "    weights=2/((1-nodes**2)*(legendre_poly_derivative(n,nodes)**2))\n",
    "    return nodes,weights\n",
    "    \n",
    "def gauss_quadrature(f,a,b,n):\n",
    "    nodes,weights=nodes_and_weights(n)\n",
    "    integral=0\n",
    "    for i in range(n):\n",
    "        t=(b-a)/2*nodes[i]+(a+b)/2\n",
    "        integral=integral+(weights[i])*f(t)\n",
    "    integral=integral*(b-a)/2\n",
    "    return integral\n",
    "\n",
    "#Example Integration\n",
    "f=lambda x:np.exp(x)\n",
    "a,b=0,5\n",
    "result=gauss_quadrature(f,a,b,n=50)\n",
    "print(\"The integral using Gaussian_Quadrature method is :\", format(result,'0.4f'))"
   ]
  },
  {
   "cell_type": "markdown",
   "id": "9cdcbe62-493b-4448-8721-1356abc6b516",
   "metadata": {},
   "source": [
    "# Double Integration using Trapezoidal Rule (fixed limits)"
   ]
  },
  {
   "cell_type": "code",
   "execution_count": 1,
   "id": "ec884979-2f41-4143-af61-cb42a2417f49",
   "metadata": {},
   "outputs": [
    {
     "name": "stdin",
     "output_type": "stream",
     "text": [
      " Enter lower limit for x :  0\n",
      " Enter upper limit for x :  np.pi\n",
      " Enter lower limit for y :  0\n",
      " Enter upper limit for y :  np.pi/2\n"
     ]
    },
    {
     "name": "stdout",
     "output_type": "stream",
     "text": [
      "The value of integral is : 2.0000\n"
     ]
    }
   ],
   "source": [
    "import numpy as np\n",
    "def f(x,y):\n",
    "    return np.sin(x+y)\n",
    "\n",
    "ax=eval(input(' Enter lower limit for x : '))\n",
    "bx=eval(input(' Enter upper limit for x : '))\n",
    "ay=eval(input(' Enter lower limit for y : '))\n",
    "by=eval(input(' Enter upper limit for y : '))\n",
    "\n",
    "def x_int(ax,bx,y):\n",
    "\ts0x,sx=0,0\n",
    "\tnx=2\n",
    "\twhile True:\n",
    "\t\thx=(bx-ax)/nx\n",
    "\t\tsx=(2*sum([f(ax+i*hx,y) for i in range (1,nx)])+f(ax,y)+f(bx,y))*(hx/2)        \n",
    "\t\tif abs(sx-s0x)<0.00001:\n",
    "\t\t\tbreak\n",
    "\t\tnx=nx*2\n",
    "\t\ts0x=sx\n",
    "\treturn sx\n",
    "\n",
    "s0y,sy=0,0\n",
    "ny=2\n",
    "while True:\n",
    "\thy=(by-ay)/ny\n",
    "\tsy=(2*sum([x_int(ax,bx,ay+i*hy) for i in range (1,ny)])+x_int(ax,bx,ay)+x_int(ax,bx,by))*(hy/2)        \n",
    "\tif abs(sy-s0y)<0.00001:\n",
    "\t\tbreak\n",
    "\tny=ny*2\n",
    "\ts0y=sy\n",
    "\t\n",
    "print('The value of integral is :',format(sy,'0.4f'))"
   ]
  },
  {
   "cell_type": "markdown",
   "id": "bfb38433-136b-4a87-a22e-a02761fd37de",
   "metadata": {},
   "source": [
    "# Double Integration using Trapezoidal Rule (variable limits)\n",
    "x limits run from 0 to  y"
   ]
  },
  {
   "cell_type": "code",
   "execution_count": 2,
   "id": "7e866440-09b1-41b5-a661-578af0772760",
   "metadata": {},
   "outputs": [
    {
     "name": "stdout",
     "output_type": "stream",
     "text": [
      "The value of integral is : 0.2071\n"
     ]
    }
   ],
   "source": [
    "import numpy as np\n",
    "def f(x,y):\n",
    "    return np.sin(x+y)\n",
    "\n",
    "ax=0\n",
    "ay=0\n",
    "by=np.pi/4\n",
    "\n",
    "def x_int(ax,bx,y):\n",
    "\ts0x,sx=0,0\n",
    "\tnx=2\n",
    "\twhile True:\n",
    "\t\thx=(bx-ax)/nx\n",
    "\t\tsx=(2*sum([f(ax+i*hx,y) for i in range (1,nx)])+f(ax,y)+f(bx,y))*(hx/2)        \n",
    "\t\tif abs(sx-s0x)<0.00001:\n",
    "\t\t\tbreak\n",
    "\t\tnx=nx*2\n",
    "\t\ts0x=sx\n",
    "\treturn sx\n",
    "\n",
    "s0y,sy=0,0\n",
    "ny=2\n",
    "while True:\n",
    "\thy=(by-ay)/ny\n",
    "\tsy=(2*sum([x_int(ax,ay+i*hy,ay+i*hy) for i in range (1,ny)])+x_int(ax,ay,ay)+x_int(ax,by,by))*(hy/2)        \n",
    "\tif abs(sy-s0y)<0.00001:\n",
    "\t\tbreak\n",
    "\tny=ny*2\n",
    "\ts0y=sy\n",
    "\t\n",
    "print('The value of integral is :',format(sy,'0.4f'))"
   ]
  }
 ],
 "metadata": {
  "kernelspec": {
   "display_name": "Python 3 (ipykernel)",
   "language": "python",
   "name": "python3"
  },
  "language_info": {
   "codemirror_mode": {
    "name": "ipython",
    "version": 3
   },
   "file_extension": ".py",
   "mimetype": "text/x-python",
   "name": "python",
   "nbconvert_exporter": "python",
   "pygments_lexer": "ipython3",
   "version": "3.13.2"
  }
 },
 "nbformat": 4,
 "nbformat_minor": 5
}
