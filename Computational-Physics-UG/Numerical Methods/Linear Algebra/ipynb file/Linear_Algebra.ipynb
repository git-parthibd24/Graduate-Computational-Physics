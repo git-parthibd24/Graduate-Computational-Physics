{
 "cells": [
  {
   "cell_type": "markdown",
   "id": "64f2c16d-5446-41cb-a8a8-cf5ba0d6f8e6",
   "metadata": {},
   "source": [
    "# Determinant of a matrix using function recursion"
   ]
  },
  {
   "cell_type": "code",
   "execution_count": 1,
   "id": "72811fef-980a-4390-b57d-3120570f42b0",
   "metadata": {},
   "outputs": [
    {
     "name": "stdout",
     "output_type": "stream",
     "text": [
      "Matrix A is :\n",
      "\n",
      "[[6 2 1 5]\n",
      " [2 7 5 5]\n",
      " [7 3 5 6]\n",
      " [9 7 8 2]]\n",
      "\n",
      "The determinant of the matrix is : -941\n"
     ]
    }
   ],
   "source": [
    "import numpy as np\n",
    "\n",
    "def determinant(matrix,n):\n",
    "    if n==1:                                               #base case for 1x1 matrix\n",
    "        return matrix[0,0]                             \n",
    "    if n==2:                                               #base case 2x2 matrix\n",
    "        return matrix[0,0]*matrix[1,1]-matrix[0,1]*matrix[1,0]\n",
    "    \n",
    "    det=0\n",
    "    reduced_matrix=matrix[1:,:]                            #remove the first row\n",
    "    for j in range(n):\n",
    "        submatrix=np.concatenate((reduced_matrix[:,:j],reduced_matrix[:,j+1:]),axis=1)        #create submatrix by excluding the j-th column using 2D array slicing and joining left and right side of jth column\n",
    "        det+=((-1)**j)*matrix[0,j]*determinant(submatrix,n-1)                                 #laplace expansion formula\n",
    "    \n",
    "    return det\n",
    "\n",
    "n=4\n",
    "A=np.random.randint(1,10,size=(n,n))\n",
    "print(\"Matrix A is :\")\n",
    "print()\n",
    "print(A)\n",
    "print()\n",
    "\n",
    "print('The determinant of the matrix is :',determinant(A,n))"
   ]
  },
  {
   "cell_type": "markdown",
   "id": "e0fdf3e8-470f-4a06-88da-afb4d5d8736f",
   "metadata": {},
   "source": [
    "# Solution of linear simultaneous equation using Gauss Elimination Method\n",
    "Without Pivot Check"
   ]
  },
  {
   "cell_type": "code",
   "execution_count": 2,
   "id": "2c8127e8-e1f5-4121-91ff-5574e59d5a5c",
   "metadata": {},
   "outputs": [
    {
     "name": "stdin",
     "output_type": "stream",
     "text": [
      "Enter the number of system of linear equations : 3\n"
     ]
    },
    {
     "name": "stdout",
     "output_type": "stream",
     "text": [
      "Enter the elements of augmented matrix : \n"
     ]
    },
    {
     "name": "stdin",
     "output_type": "stream",
     "text": [
      " 2\n",
      " 1\n",
      " 4\n",
      " 3\n",
      " 2\n",
      " 6\n",
      " 9\n",
      " 4\n",
      " 7\n",
      " 2\n",
      " 1\n",
      " 4\n"
     ]
    },
    {
     "name": "stdout",
     "output_type": "stream",
     "text": [
      "\n",
      "The augmented matrix is :\n",
      "2.000 1.000 4.000 3.000 \n",
      "2.000 6.000 9.000 4.000 \n",
      "7.000 2.000 1.000 4.000 \n",
      "\n",
      "Solution for given set of equation is consistent\n",
      "\n",
      "The reduced augmented matrix is : \n",
      "2.000 1.000 4.000 3.000 \n",
      "0.000 5.000 5.000 1.000 \n",
      "0.000 0.000 -11.500 -6.200 \n",
      "\n",
      "The solutions are :  [ 0.59130435 -0.33913043  0.53913043]\n"
     ]
    }
   ],
   "source": [
    "import numpy as np\n",
    "\n",
    "#Create the augmented matrix\n",
    "def get_mat(n,m):\n",
    "    print('Enter the elements of augmented matrix : ')\n",
    "    M=np.empty((n,m))\n",
    "    for i in range(n):\n",
    "        for j in range(m):\n",
    "            M[i][j]=eval(input())\n",
    "    return M\n",
    "\n",
    "#Print the augmented matrix\n",
    "def show_mat(M):\n",
    "    for i in M:\n",
    "        for j in i:\n",
    "            print(format(j,'0.3f'),end=' ')\n",
    "        print()\n",
    "\n",
    "#Call input augmented matrix function of size (n)*(n+1)  \n",
    "n=int(input('Enter the number of system of linear equations :'))\n",
    "m=n+1\n",
    "AB=get_mat(n,m)\n",
    "print()\n",
    "\n",
    "#Print the augmented matrix\n",
    "print('The augmented matrix is :')\n",
    "show_mat(AB)\n",
    "print()\n",
    "\n",
    "#Create the coefficient matrix of size n*n\n",
    "A=AB[:,0:n]\n",
    "\n",
    "if np.linalg.det(A)!=0:\n",
    "    print('Solution for given set of equation is consistent')\n",
    "    print()\n",
    "    for k in range(0,n-1):                      #controls the repeated operations on updated matrix\n",
    "        for i in range(k+1,n):                  #controls row   \n",
    "            ratio=AB[i][k]/AB[k][k]\n",
    "            for j in range(0,n+1):              #controls column\n",
    "                AB[i][j]-=AB[k][j]*ratio\n",
    "    \n",
    "    #Print the reduced augmented matrix\n",
    "    print('The reduced augmented matrix is : ')\n",
    "    show_mat(AB)\n",
    "    print()\n",
    "    \n",
    "    #Back Substitution\n",
    "    X=np.empty(n)                #Solution Matrix\n",
    "    for i in range(n-1,-1,-1):   #Begins from n-1 th index, ends at index before -1 i.e 0\n",
    "        X[i]=AB[i][n]            #Reduced constant matrix\n",
    "        for j in range(i+1,n):\n",
    "            X[i]-=AB[i][j]*X[j]\n",
    "        X[i]=X[i]/AB[i][i]\n",
    "    print('The solutions are : ',X)\n",
    "    \n",
    "else:\n",
    "    print('The system of equations are inconsistent')"
   ]
  },
  {
   "cell_type": "markdown",
   "id": "44d7a980-8cd4-4cf4-9d33-7aef0d505daa",
   "metadata": {},
   "source": [
    "# Solution of linear simultaneous equation using Gauss Elimination Method\n",
    "With Initial Pivot Check (Semi partial pivoting : Doesn't searches for largest element while swapping)"
   ]
  },
  {
   "cell_type": "code",
   "execution_count": 5,
   "id": "6e65f8b1-56da-4a5e-90ef-e036395ad596",
   "metadata": {},
   "outputs": [
    {
     "name": "stdin",
     "output_type": "stream",
     "text": [
      "Enter the number of system of linear equations :  4\n"
     ]
    },
    {
     "name": "stdout",
     "output_type": "stream",
     "text": [
      "Enter the elements of augmented matrix : \n"
     ]
    },
    {
     "name": "stdin",
     "output_type": "stream",
     "text": [
      " 0\n",
      " 0\n",
      " 3\n",
      " 4\n",
      " 2\n",
      " 2\n",
      " 0\n",
      " 3\n",
      " 2\n",
      " 5\n",
      " 2\n",
      " 6\n",
      " 0\n",
      " 4\n",
      " 9\n",
      " 2\n",
      " 0\n",
      " 4\n",
      " 3\n",
      " 6\n"
     ]
    },
    {
     "name": "stdout",
     "output_type": "stream",
     "text": [
      "\n",
      "The augmented matrix is :\n",
      "0.000 0.000 3.000 4.000 2.000 \n",
      "2.000 0.000 3.000 2.000 5.000 \n",
      "2.000 6.000 0.000 4.000 9.000 \n",
      "2.000 0.000 4.000 3.000 6.000 \n",
      "\n",
      "The augmented matrix with necessary swapping is :\n",
      "2.000 0.000 3.000 2.000 5.000 \n",
      "2.000 6.000 0.000 4.000 9.000 \n",
      "0.000 0.000 3.000 4.000 2.000 \n",
      "2.000 0.000 4.000 3.000 6.000 \n",
      "\n",
      "Solution for given set of equation is consistent\n",
      "\n",
      "The reduced augmented matrix is : \n",
      "2.000 0.000 3.000 2.000 5.000 \n",
      "0.000 6.000 -3.000 2.000 4.000 \n",
      "0.000 0.000 3.000 4.000 2.000 \n",
      "0.000 0.000 0.000 -0.333 0.333 \n",
      "\n",
      "The solutions are :  [ 0.5  2.   2.  -1. ]\n"
     ]
    }
   ],
   "source": [
    "import numpy as np\n",
    "\n",
    "#Create the augmented matrix\n",
    "def get_mat(n,m):\n",
    "    print('Enter the elements of augmented matrix : ')\n",
    "    M=np.empty((n,m))\n",
    "    for i in range(n):\n",
    "        for j in range(m):\n",
    "            M[i][j]=eval(input())\n",
    "    return M\n",
    "\n",
    "#Print the augmented matrix\n",
    "def show_mat(M):\n",
    "    for i in M:\n",
    "        for j in i:\n",
    "            print(format(j,'0.3f'),end=' ')\n",
    "        print()\n",
    "\n",
    "#Call input augmented matrix function of size (n)*(n+1)  \n",
    "n=int(input('Enter the number of system of linear equations : '))\n",
    "m=n+1\n",
    "AB=get_mat(n,m)\n",
    "print()\n",
    "\n",
    "#Print the augmented matrix\n",
    "print('The augmented matrix is :')\n",
    "show_mat(AB)\n",
    "print()\n",
    "\n",
    "#Check and perform row swap if zeros found in the diagonal elements i.e pivot points\n",
    "def mat_check(M):\n",
    "    for p in range(0,n):\n",
    "        for t in range(p+1,n):               #looks for rows below pivot row to prevent modifying previous pivot row\n",
    "            if M[p][p]==0 and M[t][p]!=0:    #Checks for zero in diagonal position and searches a non zero element in the same column and swaps the rows if found\n",
    "                M[[p,t],:]=M[[t,p],:]        #This is equivalent of : temp = AB[p,:].copy(), AB[p,:]=AB[t,:], AB[t,:]=temp\n",
    "    return M\n",
    "\n",
    "AB=mat_check(AB)\n",
    "print('The augmented matrix with necessary swapping is :')\n",
    "show_mat(AB)\n",
    "print()\n",
    "\n",
    "#Create the coefficient matrix of size n*n\n",
    "A=AB[:,0:n]\n",
    "\n",
    "flag=True\n",
    "if np.linalg.det(A)!=0:\n",
    "    print('Solution for given set of equation is consistent')\n",
    "    print()\n",
    "    for k in range(0,n-1):\n",
    "        if AB[k][k]==0:                 #Exits Gaussian Elimination if the initial row swap doesnt' occurs\n",
    "            flag=False\n",
    "            break           \n",
    "        else:\n",
    "            for i in range(k+1,n):\n",
    "                if AB[i][k]==0:         #Skips a row iteration if the element below pivot is already zero\n",
    "                    continue\n",
    "                ratio=AB[i][k]/AB[k][k] \n",
    "                AB[i,:]-=AB[k,:]*ratio  #Iterates over all column at once using vectorization\n",
    "   \n",
    "   #Print the reduced augmented matrix\n",
    "    print('The reduced augmented matrix is : ')\n",
    "    show_mat(AB)\n",
    "    print()\n",
    "    \n",
    "    #Back Substitution\n",
    "    if flag==True:\n",
    "        X=np.empty(n)                #Solution Matrix\n",
    "        for i in range(n-1,-1,-1):   #Begins from n-1 th index, ends at index before -1 i.e 0\n",
    "            X[i]=AB[i][n]            #Reduced constant matrix\n",
    "            for j in range(i+1,n):\n",
    "                X[i]-=AB[i][j]*X[j]\n",
    "            X[i]=X[i]/AB[i][i]\n",
    "        print('The solutions are : ',X)\n",
    "    else:\n",
    "        print('Gauss elimination Method is not applicable') #pivot is zero\n",
    "else:\n",
    "    print('The system of equations is inconsistent')"
   ]
  },
  {
   "cell_type": "markdown",
   "id": "4cca2617-f6bc-4a47-ac3f-fd5a0dfa29a3",
   "metadata": {},
   "source": [
    "# Solution of linear simultaneous equation using Gauss Elimination Method\n",
    "With Initial Partial Pivoting Check "
   ]
  },
  {
   "cell_type": "code",
   "execution_count": 1,
   "id": "7f747016-1af5-4dd2-bb21-373ef515c062",
   "metadata": {},
   "outputs": [
    {
     "name": "stdin",
     "output_type": "stream",
     "text": [
      "Enter the number of system of linear equations :  4\n"
     ]
    },
    {
     "name": "stdout",
     "output_type": "stream",
     "text": [
      "Enter the elements of augmented matrix : \n"
     ]
    },
    {
     "name": "stdin",
     "output_type": "stream",
     "text": [
      " 0\n",
      " 0\n",
      " 3\n",
      " 4\n",
      " 2\n",
      " 2\n",
      " 0\n",
      " 3\n",
      " 2\n",
      " 5\n",
      " 2\n",
      " 6\n",
      " 0\n",
      " 4\n",
      " 9\n",
      " 2\n",
      " 0\n",
      " 4\n",
      " 3\n",
      " 6\n"
     ]
    },
    {
     "name": "stdout",
     "output_type": "stream",
     "text": [
      "\n",
      "The augmented matrix is :\n",
      "0.000 0.000 3.000 4.000 2.000 \n",
      "2.000 0.000 3.000 2.000 5.000 \n",
      "2.000 6.000 0.000 4.000 9.000 \n",
      "2.000 0.000 4.000 3.000 6.000 \n",
      "\n",
      "The augmented matrix with necessary swapping is :\n",
      "2.000 0.000 3.000 2.000 5.000 \n",
      "2.000 6.000 0.000 4.000 9.000 \n",
      "2.000 0.000 4.000 3.000 6.000 \n",
      "0.000 0.000 3.000 4.000 2.000 \n",
      "\n",
      "Solution for given set of equation is consistent\n",
      "\n",
      "The reduced augmented matrix is : \n",
      "2.000 0.000 3.000 2.000 5.000 \n",
      "0.000 6.000 -3.000 2.000 4.000 \n",
      "0.000 0.000 1.000 1.000 1.000 \n",
      "0.000 0.000 0.000 1.000 -1.000 \n",
      "\n",
      "The solutions are :  [ 0.5  2.   2.  -1. ]\n"
     ]
    }
   ],
   "source": [
    "import numpy as np\n",
    "\n",
    "#Create the augmented matrix\n",
    "def get_mat(n,m):\n",
    "    print('Enter the elements of augmented matrix : ')\n",
    "    M=np.empty((n,m))\n",
    "    for i in range(n):\n",
    "        for j in range(m):\n",
    "            M[i][j]=eval(input())\n",
    "    return M\n",
    "\n",
    "#Print the augmented matrix\n",
    "def show_mat(M):\n",
    "    for i in M:\n",
    "        for j in i:\n",
    "            print(format(j,'0.3f'),end=' ')\n",
    "        print()\n",
    "\n",
    "#Call input augmented matrix function of size (n)*(n+1)  \n",
    "n=int(input('Enter the number of system of linear equations : '))\n",
    "m=n+1\n",
    "AB=get_mat(n,m)\n",
    "print()\n",
    "\n",
    "#Print the augmented matrix\n",
    "print('The augmented matrix is :')\n",
    "show_mat(AB)\n",
    "print()\n",
    "\n",
    "#Swap pivot row with the row containing maximum absolute value of element in same column \n",
    "def mat_check(M):\n",
    "    for p in range(n):\n",
    "        max_index=p+np.argmax(np.abs(M[p:,p]))   #returns the index of row below pivot row whose element is bigger than the pivot row in the actual matrix\n",
    "        if max_index!=p:\n",
    "            M[[p,max_index],:]=M[[max_index,p],:]\n",
    "    return M\n",
    "\n",
    "AB=mat_check(AB)\n",
    "print('The augmented matrix with necessary swapping is :')\n",
    "show_mat(AB)\n",
    "print()\n",
    "\n",
    "#Create the coefficient matrix of size n*n\n",
    "A=AB[:,0:n]\n",
    "\n",
    "flag=True\n",
    "if np.linalg.det(A)!=0:\n",
    "    print('Solution for given set of equation is consistent')\n",
    "    print()\n",
    "    for k in range(0,n-1):\n",
    "        if AB[k][k]==0:                 #Exits Gaussian Elimination if the initial row swap doesnt' occurs\n",
    "            flag=False\n",
    "            break           \n",
    "        else:\n",
    "            for i in range(k+1,n):\n",
    "                if AB[i][k]==0:         #Skips a row iteration if the element below pivot is already zero\n",
    "                    continue\n",
    "                ratio=AB[i][k]/AB[k][k] \n",
    "                AB[i,:]-=AB[k,:]*ratio  #Iterates over all column at once using vectorization\n",
    "   \n",
    "   #Print the reduced augmented matrix\n",
    "    print('The reduced augmented matrix is : ')\n",
    "    show_mat(AB)\n",
    "    print()\n",
    "    \n",
    "    #Back Substitution\n",
    "    if flag==True:\n",
    "        X=np.empty(n)                #Solution Matrix\n",
    "        for i in range(n-1,-1,-1):   #Begins from n-1 th index, ends at index before -1 i.e 0\n",
    "            X[i]=AB[i][n]            #Reduced constant matrix\n",
    "            for j in range(i+1,n):\n",
    "                X[i]-=AB[i][j]*X[j]\n",
    "            X[i]=X[i]/AB[i][i]\n",
    "        print('The solutions are : ',X)\n",
    "    else:\n",
    "        print('Gauss elimination Method is not applicable') #pivot is zero\n",
    "else:\n",
    "    print('The system of equations is inconsistent')"
   ]
  },
  {
   "cell_type": "markdown",
   "id": "32a5cd35-abec-441f-a9f4-55ef5b7e370e",
   "metadata": {},
   "source": [
    "# Solution of linear simultaneous equation using Gauss Elimination Method\n",
    "With Partial Pivoting Check during reduction "
   ]
  },
  {
   "cell_type": "code",
   "execution_count": 2,
   "id": "84ae1e40-f354-49cd-8410-fdc5b4c0b052",
   "metadata": {},
   "outputs": [
    {
     "name": "stdin",
     "output_type": "stream",
     "text": [
      "Enter the number of system of linear equations :  4\n"
     ]
    },
    {
     "name": "stdout",
     "output_type": "stream",
     "text": [
      "Enter the elements of augmented matrix : \n"
     ]
    },
    {
     "name": "stdin",
     "output_type": "stream",
     "text": [
      " 1\n",
      " 2\n",
      " 3\n",
      " 4\n",
      " 10\n",
      " 0\n",
      " 0\n",
      " 1\n",
      " 1\n",
      " 0\n",
      " 0\n",
      " -1\n",
      " -2\n",
      " -3\n",
      " -5\n",
      " 0\n",
      " -1\n",
      " -7\n",
      " -6\n",
      " -18\n"
     ]
    },
    {
     "name": "stdout",
     "output_type": "stream",
     "text": [
      "\n",
      "The augmented matrix is :\n",
      "1.000 2.000 3.000 4.000 10.000 \n",
      "0.000 0.000 1.000 1.000 0.000 \n",
      "0.000 -1.000 -2.000 -3.000 -5.000 \n",
      "0.000 -1.000 -7.000 -6.000 -18.000 \n",
      "\n",
      "Solution for given set of equation is consistent\n",
      "\n",
      "The reduced augmented matrix is : \n",
      "1.000 2.000 3.000 4.000 10.000 \n",
      "0.000 -1.000 -2.000 -3.000 -5.000 \n",
      "0.000 0.000 -5.000 -3.000 -13.000 \n",
      "0.000 0.000 0.000 0.400 -2.600 \n",
      "\n",
      "The solutions are :  [-6.5 11.5  6.5 -6.5]\n"
     ]
    }
   ],
   "source": [
    "import numpy as np\n",
    "\n",
    "#Create the augmented matrix\n",
    "def get_mat(n,m):\n",
    "    print('Enter the elements of augmented matrix : ')\n",
    "    M=np.empty((n,m))\n",
    "    for i in range(n):\n",
    "        for j in range(m):\n",
    "            M[i][j]=eval(input())\n",
    "    return M\n",
    "\n",
    "#Print the augmented matrix\n",
    "def show_mat(M):\n",
    "    for i in M:\n",
    "        for j in i:\n",
    "            print(format(j,'0.3f'),end=' ')\n",
    "        print()\n",
    "\n",
    "#Call input augmented matrix function of size (n)*(n+1)  \n",
    "n=int(input('Enter the number of system of linear equations : '))\n",
    "m=n+1\n",
    "AB=get_mat(n,m)\n",
    "print()\n",
    "\n",
    "#Print the augmented matrix\n",
    "print('The augmented matrix is :')\n",
    "show_mat(AB)\n",
    "print()\n",
    "\n",
    "#Swap pivot row with the row containing maximum absolute value of element in same column \n",
    "def mat_check(M,start_index):\n",
    "    for p in range(start_index,n):\n",
    "        max_index=p+np.argmax(np.abs(M[p:,p]))   #returns the index of row below pivot row whose element is bigger than the pivot row in the actual matrix\n",
    "        if max_index!=p:\n",
    "            M[[p,max_index],:]=M[[max_index,p],:]\n",
    "    return M\n",
    "\n",
    "#Create the coefficient matrix of size n*n\n",
    "A=AB[:,0:n]\n",
    "\n",
    "flag=True\n",
    "if np.linalg.det(A)!=0:\n",
    "    print('Solution for given set of equation is consistent')\n",
    "    print()\n",
    "    for k in range(0,n-1):\n",
    "        AB=mat_check(AB,k)\n",
    "        if AB[k][k]==0:                 #Exits Gaussian Elimination if the initial row swap doesnt' occurs\n",
    "            flag=False\n",
    "            break           \n",
    "        else:\n",
    "            for i in range(k+1,n):\n",
    "                if AB[i][k]==0:         #Skips a row iteration if the element below pivot is already zero\n",
    "                    continue\n",
    "                ratio=AB[i][k]/AB[k][k] \n",
    "                AB[i,:]-=AB[k,:]*ratio  #Iterates over all column at once using vectorization\n",
    "   \n",
    "   #Print the reduced augmented matrix\n",
    "    print('The reduced augmented matrix is : ')\n",
    "    show_mat(AB)\n",
    "    print()\n",
    "    \n",
    "    #Back Substitution\n",
    "    if flag==True:\n",
    "        X=np.empty(n)                #Solution Matrix\n",
    "        for i in range(n-1,-1,-1):   #Begins from n-1 th index, ends at index before -1 i.e 0\n",
    "            X[i]=AB[i][n]            #Reduced constant matrix\n",
    "            for j in range(i+1,n):\n",
    "                X[i]-=AB[i][j]*X[j]\n",
    "            X[i]=X[i]/AB[i][i]\n",
    "        print('The solutions are : ',X)\n",
    "    else:\n",
    "        print('Gauss elimination Method is not applicable') #pivot is zero\n",
    "else:\n",
    "    print('The system of equations is inconsistent')"
   ]
  },
  {
   "cell_type": "markdown",
   "id": "562322fa-5e7c-48da-97b7-ea01b26aabb4",
   "metadata": {},
   "source": [
    "# Solution of linear simultaneous equation using solve() function of linalg submodule of numpy"
   ]
  },
  {
   "cell_type": "code",
   "execution_count": 9,
   "id": "d63d58e3-7679-42db-948e-60575d6d0fb0",
   "metadata": {},
   "outputs": [
    {
     "name": "stdin",
     "output_type": "stream",
     "text": [
      "Enter no. of unknowns :  3\n"
     ]
    },
    {
     "name": "stdout",
     "output_type": "stream",
     "text": [
      "Enter elements of co-efficient matrix : \n"
     ]
    },
    {
     "name": "stdin",
     "output_type": "stream",
     "text": [
      " 4\n",
      " 5\n",
      " 3\n",
      " 2\n",
      " 1\n",
      " 6\n",
      " 6\n",
      " 7\n",
      " 5\n"
     ]
    },
    {
     "name": "stdout",
     "output_type": "stream",
     "text": [
      "Enter RHS Constant Matrix :\n"
     ]
    },
    {
     "name": "stdin",
     "output_type": "stream",
     "text": [
      " 9\n",
      " 8\n",
      " 7\n"
     ]
    },
    {
     "name": "stdout",
     "output_type": "stream",
     "text": [
      "The solutions are : [-29.33333333  20.66666667   7.66666667]\n"
     ]
    }
   ],
   "source": [
    "import numpy as np \n",
    "\n",
    "n=int(input('Enter no. of unknowns : '))\n",
    "A=np.empty((n,n))\n",
    "B=np.empty(n)\n",
    "\n",
    "print('Enter elements of co-efficient matrix : ')\n",
    "for i in range(n):\n",
    "    for j in range(n):\n",
    "        A[i][j]=eval(input())\n",
    "\n",
    "print('Enter RHS Constant Matrix :')\n",
    "for i in range(n):\n",
    "    B[i]=eval(input())\n",
    "\n",
    "X=np.linalg.solve(A,B)\n",
    "print('The solutions are :',X)"
   ]
  },
  {
   "cell_type": "markdown",
   "id": "2f5570e2-0d43-4348-93a1-473c8540451c",
   "metadata": {},
   "source": [
    "# Matrix Multiplication using array"
   ]
  },
  {
   "cell_type": "code",
   "execution_count": null,
   "id": "6fa5a04c-a0e7-4456-ae7d-07a2fad4c5be",
   "metadata": {},
   "outputs": [],
   "source": [
    "import numpy as np  \n",
    "def get_mat(m,n):                         #Taking inputs in matrix form one by one\n",
    "    print('Enter elements of matrix :')\n",
    "    M=np.empty((m,n))\n",
    "    for i in range(m):\n",
    "        for j in range(n):\n",
    "            M[i][j]=eval(input())\n",
    "    return M\n",
    "\n",
    "def show_mat(M,m,n):                     #Printing the array in matrix form   \n",
    "    for i in M:\n",
    "        for j in i:\n",
    "            print(j,end=' ')\n",
    "        print()\n",
    "\n",
    "def mat_prod(A1,A2,m,p,n):\n",
    "    C=np.zeros((m,n))\n",
    "    for i in range(m):\n",
    "        for j in range(n):\n",
    "            for k in range(p):\n",
    "                C[i][j]+=A1[i][k]*A2[k][j]\n",
    "    return C\n",
    "\n",
    "r1=eval(input('Enter row size of 1st matrix : '))\n",
    "c1=eval(input('Enter column size of 1st matrix : '))\n",
    "M1=get_mat(r1,c1)\n",
    "print('The 1st matrix is :')\n",
    "show_mat(M1,r1,c1)\n",
    "\n",
    "r2=eval(input('Enter row size of 2nd matrix : '))\n",
    "c2=eval(input('Enter column size of 2nd matrix : '))\n",
    "M2=get_mat(r2,c2)\n",
    "print('The 2nd matrix is: ')\n",
    "show_mat(M2,r2,c2)\n",
    "\n",
    "if c1==r2:\n",
    "    M3=mat_prod(M1,M2,r1,c1,c2)\n",
    "    print('Resultant matrix is :')\n",
    "    show_mat(M3,r2,c1)\n",
    "else:\n",
    "    print('Matrix multiplication is not possible')"
   ]
  },
  {
   "cell_type": "markdown",
   "id": "59e8b10d-25f4-46a8-87ea-d91644c96480",
   "metadata": {},
   "source": [
    "# Matrix addition using array"
   ]
  },
  {
   "cell_type": "code",
   "execution_count": 3,
   "id": "d8ac3257-7239-4f87-b46e-3da1f761aa8e",
   "metadata": {},
   "outputs": [
    {
     "name": "stdin",
     "output_type": "stream",
     "text": [
      "Enter row size of 1st matrix :  2\n",
      "Enter column size of 1st matrix :  3\n"
     ]
    },
    {
     "name": "stdout",
     "output_type": "stream",
     "text": [
      "Enter elements of matrix : \n"
     ]
    },
    {
     "name": "stdin",
     "output_type": "stream",
     "text": [
      " 1\n",
      " 8\n",
      " 7\n",
      " 3\n",
      " 6\n",
      " 5\n"
     ]
    },
    {
     "name": "stdout",
     "output_type": "stream",
     "text": [
      "The 1st matrix is :\n",
      "1.0 8.0 7.0 \n",
      "3.0 6.0 5.0 \n"
     ]
    },
    {
     "name": "stdin",
     "output_type": "stream",
     "text": [
      "Enter row size of 2nd matrix :  2\n",
      "Enter column size of 2nd matrix :  3\n"
     ]
    },
    {
     "name": "stdout",
     "output_type": "stream",
     "text": [
      "Enter elements of matrix : \n"
     ]
    },
    {
     "name": "stdin",
     "output_type": "stream",
     "text": [
      " 5\n",
      " 7\n",
      " 9\n",
      " 3\n",
      " 2\n",
      " 5\n"
     ]
    },
    {
     "name": "stdout",
     "output_type": "stream",
     "text": [
      "The 2nd matrix is :\n",
      "5.0 7.0 9.0 \n",
      "3.0 2.0 5.0 \n",
      "Resultant matrix is :\n",
      "5.0 56.0 63.0 \n",
      "9.0 12.0 25.0 \n"
     ]
    }
   ],
   "source": [
    "import numpy as np  \n",
    "def get_mat(m,n):                         #Taking inputs in matrix form one by one\n",
    "    print('Enter elements of matrix : ')\n",
    "    M=np.empty((m,n))\n",
    "    for i in range(m):\n",
    "        for j in range(n):\n",
    "            M[i][j]=eval(input())\n",
    "    return M\n",
    "\n",
    "def show_mat(M,m,n):                      #Printing the array in matrix form    \n",
    "    for i in M:\n",
    "        for j in i:\n",
    "            print(j,end=' ')\n",
    "        print()\n",
    "\n",
    "def mat_sum(A1,A2,m,n):\n",
    "    C=np.zeros((m,n))\n",
    "    for i in range(m):\n",
    "        for j in range(n):\n",
    "            C[i][j]+=A1[i][j]*A2[i][j]\n",
    "    return C\n",
    "\n",
    "r1=eval(input('Enter row size of 1st matrix : '))\n",
    "c1=eval(input('Enter column size of 1st matrix : '))\n",
    "M1=get_mat(r1,c1)\n",
    "print('The 1st matrix is :')\n",
    "show_mat(M1,r1,c1)\n",
    "\n",
    "r2=eval(input('Enter row size of 2nd matrix : '))\n",
    "c2=eval(input('Enter column size of 2nd matrix : '))\n",
    "M2=get_mat(r2,c2)\n",
    "print('The 2nd matrix is :')\n",
    "show_mat(M2,r2,c2)\n",
    "\n",
    "if c1==c2 and r1==r2:\n",
    "    M3=mat_sum(M1,M2,r1,c1)\n",
    "    print('Resultant matrix is :')\n",
    "    show_mat(M3,r1,c1)\n",
    "else:\n",
    "    print('Matrix adition is not possible')"
   ]
  },
  {
   "cell_type": "markdown",
   "id": "a0c9fc05-d4bd-47ed-8ba8-f86eb7887bee",
   "metadata": {},
   "source": [
    "# Matrix Transpose using array"
   ]
  },
  {
   "cell_type": "code",
   "execution_count": 5,
   "id": "3e3954a6-29b2-4be9-bde9-c8a8873e37cb",
   "metadata": {},
   "outputs": [
    {
     "name": "stdin",
     "output_type": "stream",
     "text": [
      "Enter row size :  3\n",
      "Enter column size :  3\n"
     ]
    },
    {
     "name": "stdout",
     "output_type": "stream",
     "text": [
      "Enter elements of matrix :\n"
     ]
    },
    {
     "name": "stdin",
     "output_type": "stream",
     "text": [
      " 1\n",
      " 2\n",
      " 5\n",
      " 9\n",
      " 8\n",
      " 6\n",
      " 2\n",
      " 4\n",
      " 3\n"
     ]
    },
    {
     "name": "stdout",
     "output_type": "stream",
     "text": [
      "\n",
      "The input matrix is :\n",
      "1.0 2.0 5.0 \n",
      "9.0 8.0 6.0 \n",
      "2.0 4.0 3.0 \n",
      "\n",
      "The matrix after transpose is :\n",
      "1.0 9.0 2.0 \n",
      "2.0 8.0 4.0 \n",
      "5.0 6.0 3.0 \n"
     ]
    }
   ],
   "source": [
    "import numpy as np\n",
    "def get_mat(m,n):                         #Taking inputs in matrix form one by one\n",
    "    print('Enter elements of matrix :')\n",
    "    A=np.empty((m,n))\n",
    "    for i in range(m):\n",
    "        for j in range(n):\n",
    "            A[i][j]=eval(input())\n",
    "    return A\n",
    "\n",
    "def show_mat(A):                          #Printing array in matrix form(note: The other print method is inapplicable here)\n",
    "    for i in A:\n",
    "        for j in i:\n",
    "            print(j,end=' ')\n",
    "        print()\n",
    "        \n",
    "#for any size matrix\n",
    "def transpose(A,m,n):\n",
    "    B=np.empty((n,m))\n",
    "    for i in range(n):\n",
    "        for j in range(m):\n",
    "            B[i][j]=A[j][i]\n",
    "    return B\n",
    "\n",
    "m=int(input('Enter row size : '))\n",
    "n=int(input('Enter column size : '))\n",
    "A=get_mat(m,n)\n",
    "\n",
    "print()\n",
    "print('The input matrix is :')\n",
    "show_mat(A)\n",
    "\n",
    "print()\n",
    "TM=transpose(A,m,n)\n",
    "print('The matrix after transpose is :')\n",
    "show_mat(TM)"
   ]
  },
  {
   "cell_type": "markdown",
   "id": "9159c7fc-fe32-4222-a639-bd2967168758",
   "metadata": {},
   "source": [
    "# Diagonalizaton of matrix using linalg submodule of numpy and finding eigenvalues,eigenvectors"
   ]
  },
  {
   "cell_type": "code",
   "execution_count": 6,
   "id": "a58b1021-fb62-4334-a844-e47e69bf427b",
   "metadata": {},
   "outputs": [
    {
     "name": "stdout",
     "output_type": "stream",
     "text": [
      "The given matrix is :\n",
      "[[ 2  0  0]\n",
      " [ 1  2  1]\n",
      " [-1  0  1]]\n",
      "\n",
      "The eigenvalues are : [2. 1. 2.]\n",
      "\n",
      "The eigenvectors are :\n",
      "[0. 1. 0.]\n",
      "[ 0.         -0.70710678  0.70710678]\n",
      "[ 0.70710678  0.         -0.70710678]\n",
      "\n",
      "The diagonal matrix of given matrix is :\n",
      "[[2.00000000e+00 0.00000000e+00 0.00000000e+00]\n",
      " [0.00000000e+00 1.00000000e+00 2.02930727e-17]\n",
      " [0.00000000e+00 0.00000000e+00 2.00000000e+00]]\n"
     ]
    }
   ],
   "source": [
    "import numpy as np\n",
    "A=np.array([[2,0,0],[1,2,1],[-1,0,1]])\n",
    "print('The given matrix is :')\n",
    "print(A)\n",
    "print()\n",
    "\n",
    "eigval,eigvec=np.linalg.eig(A)\n",
    "\n",
    "print('The eigenvalues are :', eigval)\n",
    "print()\n",
    "print('The eigenvectors are :')\n",
    "\n",
    "for i in range(len(eigvec)):\n",
    "    print(eigvec[:,i])\n",
    "\n",
    "print()   \n",
    "A_Diag=np.dot(np.dot(np.linalg.inv(eigvec),A),eigvec)    #using PAP^(-1)\n",
    "print('The diagonal matrix of given matrix is :')\n",
    "print(A_Diag)"
   ]
  },
  {
   "cell_type": "markdown",
   "id": "05881c79-ad59-42a7-a144-d62e537cccf4",
   "metadata": {},
   "source": [
    "# Diagonalization of matrix using sympy module "
   ]
  },
  {
   "cell_type": "code",
   "execution_count": 7,
   "id": "106102ee-a5fe-4b54-902a-101dd6de9f50",
   "metadata": {},
   "outputs": [
    {
     "name": "stdout",
     "output_type": "stream",
     "text": [
      "Matrix([[0, 0, 0], [0, 15/2 - 3*sqrt(33)/2, 0], [0, 0, 15/2 + 3*sqrt(33)/2]])\n"
     ]
    }
   ],
   "source": [
    "from sympy import *  #import statement that imports all functions, classes and variables from the sympy module \n",
    "import numpy as np\n",
    "M=[[1,2,3],[4,5,6],[7,8,9]]\n",
    "M1=Matrix(M)         #change to matrix object\n",
    "P,D=M1.diagonalize()\n",
    "print(D)"
   ]
  }
 ],
 "metadata": {
  "kernelspec": {
   "display_name": "Python 3 (ipykernel)",
   "language": "python",
   "name": "python3"
  },
  "language_info": {
   "codemirror_mode": {
    "name": "ipython",
    "version": 3
   },
   "file_extension": ".py",
   "mimetype": "text/x-python",
   "name": "python",
   "nbconvert_exporter": "python",
   "pygments_lexer": "ipython3",
   "version": "3.13.3"
  }
 },
 "nbformat": 4,
 "nbformat_minor": 5
}
