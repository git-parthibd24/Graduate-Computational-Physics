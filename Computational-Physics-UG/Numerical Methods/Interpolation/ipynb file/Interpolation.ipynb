{
 "cells": [
  {
   "cell_type": "markdown",
   "id": "3736020e-ae1e-4d86-b955-df4a5d33776f",
   "metadata": {},
   "source": [
    "# Newton's Forward Interpolation\n",
    "Used when data points are equispaced"
   ]
  },
  {
   "cell_type": "code",
   "execution_count": 1,
   "id": "263df709-ea6d-4701-b595-4773c110a1b8",
   "metadata": {},
   "outputs": [
    {
     "name": "stdin",
     "output_type": "stream",
     "text": [
      "Enter number of data :  5\n"
     ]
    },
    {
     "name": "stdout",
     "output_type": "stream",
     "text": [
      "X[ 0 ]= "
     ]
    },
    {
     "name": "stdin",
     "output_type": "stream",
     "text": [
      " 1\n"
     ]
    },
    {
     "name": "stdout",
     "output_type": "stream",
     "text": [
      "Y[ 0 ][ 0 ]= "
     ]
    },
    {
     "name": "stdin",
     "output_type": "stream",
     "text": [
      " 5\n"
     ]
    },
    {
     "name": "stdout",
     "output_type": "stream",
     "text": [
      "X[ 1 ]= "
     ]
    },
    {
     "name": "stdin",
     "output_type": "stream",
     "text": [
      " 2\n"
     ]
    },
    {
     "name": "stdout",
     "output_type": "stream",
     "text": [
      "Y[ 1 ][ 0 ]= "
     ]
    },
    {
     "name": "stdin",
     "output_type": "stream",
     "text": [
      " 4\n"
     ]
    },
    {
     "name": "stdout",
     "output_type": "stream",
     "text": [
      "X[ 2 ]= "
     ]
    },
    {
     "name": "stdin",
     "output_type": "stream",
     "text": [
      " 3\n"
     ]
    },
    {
     "name": "stdout",
     "output_type": "stream",
     "text": [
      "Y[ 2 ][ 0 ]= "
     ]
    },
    {
     "name": "stdin",
     "output_type": "stream",
     "text": [
      " 6\n"
     ]
    },
    {
     "name": "stdout",
     "output_type": "stream",
     "text": [
      "X[ 3 ]= "
     ]
    },
    {
     "name": "stdin",
     "output_type": "stream",
     "text": [
      " 4\n"
     ]
    },
    {
     "name": "stdout",
     "output_type": "stream",
     "text": [
      "Y[ 3 ][ 0 ]= "
     ]
    },
    {
     "name": "stdin",
     "output_type": "stream",
     "text": [
      " 8\n"
     ]
    },
    {
     "name": "stdout",
     "output_type": "stream",
     "text": [
      "X[ 4 ]= "
     ]
    },
    {
     "name": "stdin",
     "output_type": "stream",
     "text": [
      " 5\n"
     ]
    },
    {
     "name": "stdout",
     "output_type": "stream",
     "text": [
      "Y[ 4 ][ 0 ]= "
     ]
    },
    {
     "name": "stdin",
     "output_type": "stream",
     "text": [
      " 6\n"
     ]
    },
    {
     "name": "stdout",
     "output_type": "stream",
     "text": [
      "The difference table is: \n",
      "  5.000 \n",
      "  4.000  -1.000 \n",
      "  6.000   2.000   3.000 \n",
      "  8.000   2.000   0.000  -3.000 \n",
      "  6.000  -2.000  -4.000  -4.000  -1.000 \n"
     ]
    },
    {
     "name": "stdin",
     "output_type": "stream",
     "text": [
      "Enter interpolating point :  2.5\n"
     ]
    },
    {
     "name": "stdout",
     "output_type": "stream",
     "text": [
      "The value of the function at x = [1. 2. 3. 4. 5.] is : 4.7890625\n"
     ]
    }
   ],
   "source": [
    "import numpy as np\n",
    "n=int(input('Enter number of data : '))\n",
    "X=np.empty(n)\n",
    "Y=np.empty((n,n))\n",
    "for i in range(n):\n",
    "    print('X[',i,']=',end=' ')\n",
    "    X[i]=eval(input())\n",
    "    print('Y[',i,'][ 0 ]=',end=' ')\n",
    "    Y[i][0]=eval(input())\n",
    "h=X[1]-X[0]\n",
    "for i in range(1,n-1):\n",
    "    if X[i+1]-X[i]==h:\n",
    "        flag=True\n",
    "    else:\n",
    "        flag=False\n",
    "        break\n",
    "if flag==True:\n",
    "#Calculation of difference table\n",
    "#All indexing is done looking at the nature of lower triangular difference table\n",
    "    for j in range(1,n):                       \n",
    "        for i in range(j,n):                        #Looking at the lower triangular difference table, for each successive j index, i for that column starts from same j index i.e from the diagonal position\n",
    "            Y[i][j]=Y[i][j-1]-Y[i-1][j-1]           #In rhs, i index tells for current position, i-1 index tells about position just above current position along a column, j-1 index takes the column previous of current column\n",
    "    print(\"The difference table is: \" )\n",
    "#Printing of difference table\n",
    "    for i in range(n):\n",
    "        for j in range(i+1):                        #For each increment along row downwards, same increment happens along column rightwards i.e j_max and i values are equal So j goes max to i+1 (+1 since count starts from 0)\n",
    "            print(format(Y[i][j],'7.3f'),end=' ')\n",
    "        print()\n",
    "    x1=eval(input('Enter interpolating point : '))\n",
    "    u=(x1-X[0])/h\n",
    "    Sum=Y[0][0]\n",
    "    term=1.0\n",
    "    for i in range(1,n):\n",
    "        term=term*(u-i+1)/i\n",
    "        Sum=Sum+term*Y[i][i]\n",
    "    print('The value of the function at x =',X,'is :',Sum)\n",
    "else:\n",
    "    print('Newtons Forward Interpolation is not applicable')"
   ]
  },
  {
   "cell_type": "markdown",
   "id": "928de8ca-c100-4717-916c-ed826b3a94b1",
   "metadata": {},
   "source": [
    "# Lagrange's Interpolation\n",
    "Used when data points may not be equispaced. This method is computationally intensive."
   ]
  },
  {
   "cell_type": "code",
   "execution_count": 2,
   "id": "9b2516fd-fc8b-4fe2-896d-1349126a3d29",
   "metadata": {},
   "outputs": [
    {
     "name": "stdin",
     "output_type": "stream",
     "text": [
      "Enter size :  5\n"
     ]
    },
    {
     "name": "stdout",
     "output_type": "stream",
     "text": [
      "Enter X[ 0 ]= "
     ]
    },
    {
     "name": "stdin",
     "output_type": "stream",
     "text": [
      " 1\n"
     ]
    },
    {
     "name": "stdout",
     "output_type": "stream",
     "text": [
      "Enter Y[ 0 ]= "
     ]
    },
    {
     "name": "stdin",
     "output_type": "stream",
     "text": [
      " 4\n"
     ]
    },
    {
     "name": "stdout",
     "output_type": "stream",
     "text": [
      "Enter X[ 1 ]= "
     ]
    },
    {
     "name": "stdin",
     "output_type": "stream",
     "text": [
      " 2\n"
     ]
    },
    {
     "name": "stdout",
     "output_type": "stream",
     "text": [
      "Enter Y[ 1 ]= "
     ]
    },
    {
     "name": "stdin",
     "output_type": "stream",
     "text": [
      " 6\n"
     ]
    },
    {
     "name": "stdout",
     "output_type": "stream",
     "text": [
      "Enter X[ 2 ]= "
     ]
    },
    {
     "name": "stdin",
     "output_type": "stream",
     "text": [
      " 4\n"
     ]
    },
    {
     "name": "stdout",
     "output_type": "stream",
     "text": [
      "Enter Y[ 2 ]= "
     ]
    },
    {
     "name": "stdin",
     "output_type": "stream",
     "text": [
      " 5\n"
     ]
    },
    {
     "name": "stdout",
     "output_type": "stream",
     "text": [
      "Enter X[ 3 ]= "
     ]
    },
    {
     "name": "stdin",
     "output_type": "stream",
     "text": [
      " 6\n"
     ]
    },
    {
     "name": "stdout",
     "output_type": "stream",
     "text": [
      "Enter Y[ 3 ]= "
     ]
    },
    {
     "name": "stdin",
     "output_type": "stream",
     "text": [
      " 4\n"
     ]
    },
    {
     "name": "stdout",
     "output_type": "stream",
     "text": [
      "Enter X[ 4 ]= "
     ]
    },
    {
     "name": "stdin",
     "output_type": "stream",
     "text": [
      " 7\n"
     ]
    },
    {
     "name": "stdout",
     "output_type": "stream",
     "text": [
      "Enter Y[ 4 ]= "
     ]
    },
    {
     "name": "stdin",
     "output_type": "stream",
     "text": [
      " 2\n",
      "Enter the interpolating point :  3\n"
     ]
    },
    {
     "name": "stdout",
     "output_type": "stream",
     "text": [
      "The value of the function at x = 3 is : 5.733333333333334\n"
     ]
    }
   ],
   "source": [
    "import numpy as np\n",
    "n=int(input('Enter size : '))\n",
    "X=np.empty(n)\n",
    "Y=np.empty(n)\n",
    "for i in range(n):\n",
    "    print('Enter X[',i,']=',end=' ')\n",
    "    X[i]=eval(input())\n",
    "    print('Enter Y[',i,']=',end=' ')\n",
    "    Y[i]=eval(input())\n",
    "    \n",
    "x=eval(input('Enter the interpolating point : '))\n",
    "Sum=0.0\n",
    "for i in range(n):\n",
    "    product=1.0\n",
    "    for j in range(n):\n",
    "        if i!=j:\n",
    "            product*=(x-X[j])/(X[i]-X[j])\n",
    "    Sum+=product*Y[i]\n",
    "print('The value of the function at x =',x,'is :',Sum)"
   ]
  },
  {
   "cell_type": "markdown",
   "id": "977c2f24-a4b2-424d-8cb8-542f910d1b76",
   "metadata": {},
   "source": [
    "# Interpolation using numpy module"
   ]
  },
  {
   "cell_type": "code",
   "execution_count": 3,
   "id": "acf838f2-e722-4116-93b5-a9a78317e292",
   "metadata": {},
   "outputs": [
    {
     "name": "stdin",
     "output_type": "stream",
     "text": [
      "Enter no. of data :  5\n"
     ]
    },
    {
     "name": "stdout",
     "output_type": "stream",
     "text": [
      "Enter the values of X and Y\n"
     ]
    },
    {
     "name": "stdin",
     "output_type": "stream",
     "text": [
      " 1\n",
      " 3\n",
      " 2\n",
      " 5\n",
      " 3\n",
      " 9\n",
      " 5\n",
      " 7\n",
      " 7\n",
      " 9\n",
      "Enter the interpolating point :  4\n"
     ]
    },
    {
     "name": "stdout",
     "output_type": "stream",
     "text": [
      "Interpolation\n",
      "The value of interpolation at x = 4 is = 8.0\n"
     ]
    }
   ],
   "source": [
    "import numpy as np\n",
    "n=int(input('Enter no. of data : '))\n",
    "X=np.empty(n)\n",
    "Y=np.empty(n)\n",
    "print('Enter the values of X and Y')\n",
    "for i in range(n):\n",
    "    X[i]=eval(input())\n",
    "    Y[i]=eval(input())\n",
    "x=eval(input('Enter the interpolating point : '))\n",
    "if X[0]<=x<=X[n-1]:\n",
    "    print('Interpolation')\n",
    "    y=np.interp(x,X,Y)\n",
    "    print('The value of interpolation at x =',x,'is =',y)\n",
    "else:\n",
    "    print('Extrapolating point')"
   ]
  },
  {
   "cell_type": "markdown",
   "id": "67698a9e-b2c9-469f-b125-d938b1e22969",
   "metadata": {},
   "source": [
    "# Interpolation using scipy module"
   ]
  },
  {
   "cell_type": "code",
   "execution_count": 4,
   "id": "f9fdc457-0dc5-4733-b852-9e575a34320b",
   "metadata": {},
   "outputs": [
    {
     "name": "stdin",
     "output_type": "stream",
     "text": [
      "Enter no. of data :  5\n"
     ]
    },
    {
     "name": "stdout",
     "output_type": "stream",
     "text": [
      "Enter the values of X and Y\n"
     ]
    },
    {
     "name": "stdin",
     "output_type": "stream",
     "text": [
      " 1\n",
      " 3\n",
      " 2\n",
      " 5\n",
      " 3\n",
      " 9\n",
      " 5\n",
      " 7\n",
      " 7\n",
      " 9\n",
      "Enter the interpolating point :  4\n"
     ]
    },
    {
     "name": "stdout",
     "output_type": "stream",
     "text": [
      "Interpolation\n",
      "The value of interpolation at x = 4 is = 8.0\n"
     ]
    }
   ],
   "source": [
    "import scipy.interpolate as ip\n",
    "import numpy as np\n",
    "n=int(input('Enter no. of data : '))\n",
    "X=np.empty(n)\n",
    "Y=np.empty(n)\n",
    "print('Enter the values of X and Y')\n",
    "for i in range(n):\n",
    "    X[i]=eval(input())\n",
    "    Y[i]=eval(input())\n",
    "x=eval(input('Enter the interpolating point : '))\n",
    "if X[0]<=x<=X[n-1]:\n",
    "    print('Interpolation')\n",
    "    f=ip.interp1d(X,Y)\n",
    "    y=f(x)\n",
    "    print('The value of interpolation at x =',x,'is =',y)\n",
    "else:\n",
    "    print('Extrapolating point')"
   ]
  }
 ],
 "metadata": {
  "kernelspec": {
   "display_name": "Python 3 (ipykernel)",
   "language": "python",
   "name": "python3"
  },
  "language_info": {
   "codemirror_mode": {
    "name": "ipython",
    "version": 3
   },
   "file_extension": ".py",
   "mimetype": "text/x-python",
   "name": "python",
   "nbconvert_exporter": "python",
   "pygments_lexer": "ipython3",
   "version": "3.12.3"
  }
 },
 "nbformat": 4,
 "nbformat_minor": 5
}
