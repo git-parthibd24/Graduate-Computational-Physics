{
 "cells": [
  {
   "cell_type": "markdown",
   "id": "7f2975a7-af40-4aca-b787-b6f3b9340e33",
   "metadata": {},
   "source": [
    "# Improper integral Type 2 (converging) using quad ()\n",
    "quad() can handle removable singularities and inf"
   ]
  },
  {
   "cell_type": "code",
   "execution_count": 15,
   "id": "d86bc12b-2634-42aa-b8dc-bc4073cb1e74",
   "metadata": {},
   "outputs": [
    {
     "name": "stdout",
     "output_type": "stream",
     "text": [
      "Result: 1.5702669821983253\n",
      "The exact value of the integral is : 1.5707963267948966\n"
     ]
    },
    {
     "name": "stderr",
     "output_type": "stream",
     "text": [
      "/tmp/ipykernel_8193/1953670800.py:6: IntegrationWarning: The maximum number of subdivisions (50) has been achieved.\n",
      "  If increasing the limit yields no improvement it is advised to analyze \n",
      "  the integrand in order to determine the difficulties.  If the position of a \n",
      "  local difficulty can be determined (singularity, discontinuity) one will \n",
      "  probably gain from splitting up the interval and calling the integrator \n",
      "  on the subranges.  Perhaps a special-purpose integrator should be used.\n",
      "  res,err=quad(f,low,up)\n"
     ]
    }
   ],
   "source": [
    "import numpy as np\n",
    "import matplotlib.pyplot as plt\n",
    "from scipy.integrate import quad\n",
    "f=lambda x:np.sin(x)/x\n",
    "low,up=0,1000\n",
    "res,err=quad(f,low,up)\n",
    "print('Result:',res)\n",
    "print('The exact value of the integral is :',np.pi/2)"
   ]
  },
  {
   "cell_type": "markdown",
   "id": "2ad3fc14-c1e4-43aa-aec1-7a4d181f6f7b",
   "metadata": {},
   "source": [
    "# Improper integral Type 2 (diverging) using quad ()\n",
    "quad() can't handle non removable singularities properly.\n",
    "Here the function used in diverging at x=0 and it also logarithmically increases with x and never converges"
   ]
  },
  {
   "cell_type": "code",
   "execution_count": 49,
   "id": "e71ac075-3bd1-4079-b7d9-fd426e941a2d",
   "metadata": {},
   "outputs": [
    {
     "name": "stdout",
     "output_type": "stream",
     "text": [
      "Result: 16.118095650958335\n",
      "The exact value of the integral is : Integral doesnt converge\n"
     ]
    }
   ],
   "source": [
    "import numpy as np\n",
    "import matplotlib.pyplot as plt\n",
    "from scipy.integrate import quad\n",
    "f=lambda x:1/x\n",
    "low=0.001\n",
    "up=10000\n",
    "res,err=quad(f,low,up)\n",
    "print('Result:',res)\n",
    "print('The exact value of the integral is : Integral doesnt converge')"
   ]
  },
  {
   "cell_type": "markdown",
   "id": "9a67f0c3-60d2-4b3c-a93f-de773d39564e",
   "metadata": {},
   "source": [
    "# Improper integral Type 2 (converging) using simpson()\n",
    "simpson() can't handle singularities and inf\n",
    "Here we can't take very large upper limit if we take less divisions as the highly oscillatory nature of function at large x will not be captured"
   ]
  },
  {
   "cell_type": "code",
   "execution_count": 28,
   "id": "2b089372-92f7-411b-9b4e-3202fa42ccea",
   "metadata": {},
   "outputs": [
    {
     "name": "stdout",
     "output_type": "stream",
     "text": [
      "Result: 1.5700874084832719\n",
      "The exact value of the integral is : 1.5707963267948966\n"
     ]
    }
   ],
   "source": [
    "import numpy as np\n",
    "import matplotlib.pyplot as plt\n",
    "from scipy.integrate import simpson\n",
    "f=lambda x:np.sin(x)/x\n",
    "low,up=0.0001,1000\n",
    "n=1000\n",
    "X=np.linspace(low,up,n)\n",
    "res=simpson(f(X),X)\n",
    "print('Result:',res)\n",
    "print('The exact value of the integral is :',np.pi/2)"
   ]
  },
  {
   "cell_type": "markdown",
   "id": "0237d9fb-da57-4b45-8061-688b864be688",
   "metadata": {},
   "source": [
    "# Improper integral Type 2 (diverging) using simpson()\n",
    "simpson() can't handle singularities.\n",
    "Here the function used in diverging at x=0 and it also logarithmically increases with x and never converges. simpson() can't also handle logarithmic growth if less divisions are taken. We need to set logarithmic points to get result or increase no. of data points"
   ]
  },
  {
   "cell_type": "code",
   "execution_count": 51,
   "id": "30d766e1-ef92-4371-b653-67c47fa471cb",
   "metadata": {},
   "outputs": [
    {
     "name": "stdout",
     "output_type": "stream",
     "text": [
      "Result using logarithmic points : 16.118095650958228\n",
      "Result using large points : 16.118095650958228\n",
      "The exact value of the integral is : The integral diverges\n"
     ]
    }
   ],
   "source": [
    "import numpy as np\n",
    "import matplotlib.pyplot as plt\n",
    "from scipy.integrate import simpson\n",
    "f=lambda x:1/x\n",
    "low,up=0.001,10000\n",
    "n=10000000\n",
    "X1=np.logspace(np.log10(low),np.log10(up),n)\n",
    "X2=np.linspace(low,up,n)\n",
    "\n",
    "res1=simpson(f(X1),X1)\n",
    "res2=simpson(f(X2),X2)\n",
    "print('Result using logarithmic points :',res)\n",
    "print('Result using large points :',res)\n",
    "print('The exact value of the integral is : The integral diverges')"
   ]
  },
  {
   "cell_type": "markdown",
   "id": "11fe58eb-5554-4314-93ac-2e978aa249f4",
   "metadata": {},
   "source": [
    "# Improper integral Type 1 (converging) using quad ()\n",
    "Gaussian Integral"
   ]
  },
  {
   "cell_type": "code",
   "execution_count": 53,
   "id": "471875df-7807-4b4c-b617-429591a4c3e7",
   "metadata": {},
   "outputs": [
    {
     "name": "stdout",
     "output_type": "stream",
     "text": [
      "Result: 1.0000000000000002\n",
      "The exact value of the integral is 1\n"
     ]
    }
   ],
   "source": [
    "import numpy as np\n",
    "import matplotlib.pyplot as plt\n",
    "from scipy.integrate import quad\n",
    "f=lambda x:1/(np.sqrt(2*np.pi)*sig)*np.exp((-(x-mu)**2)/(2*sig**2))\n",
    "low=-np.inf\n",
    "up=np.inf\n",
    "mu,sig=0.01,4\n",
    "res,err=quad(f,low,up)\n",
    "print('Result:',res)\n",
    "print('The exact value of the integral is 1')"
   ]
  },
  {
   "cell_type": "markdown",
   "id": "3c19fa5a-8551-4a9a-b83d-e0b3b7d23444",
   "metadata": {},
   "source": [
    "# Improper integral Type 1 (converging) using simpson ()\n",
    "Gaussian Integral"
   ]
  },
  {
   "cell_type": "code",
   "execution_count": 57,
   "id": "0acb8043-85da-4ee5-a6f4-fe2684d5ec39",
   "metadata": {},
   "outputs": [
    {
     "name": "stdout",
     "output_type": "stream",
     "text": [
      "Result: 1.0\n",
      "The exact value of the integral is 1\n"
     ]
    }
   ],
   "source": [
    "import numpy as np\n",
    "import matplotlib.pyplot as plt\n",
    "from scipy.integrate import simpson\n",
    "f=lambda x:1/(np.sqrt(2*np.pi)*sig)*np.exp((-(x-mu)**2)/(2*sig**2))\n",
    "low=-100\n",
    "up=100\n",
    "mu,sig=0.01,4\n",
    "n=10000\n",
    "x1=np.linspace(low,up,n)\n",
    "res=simpson(f(x1),x1)\n",
    "print('Result:',res)\n",
    "print('The exact value of the integral is 1')"
   ]
  },
  {
   "cell_type": "markdown",
   "id": "1c36eba9-0c0c-4f12-9b2c-b9a15ba941b5",
   "metadata": {},
   "source": [
    "# Dynamic range update"
   ]
  },
  {
   "cell_type": "code",
   "execution_count": 64,
   "id": "a78e2303-d731-4e83-af03-70895ae76527",
   "metadata": {},
   "outputs": [
    {
     "name": "stdout",
     "output_type": "stream",
     "text": [
      "The value of integral of Gaussian Integral : 3392.1450635182773 and the exact value using formula is: 3392.145063518275\n"
     ]
    }
   ],
   "source": [
    "import numpy as np\n",
    "a,b,c=4,2,8\n",
    "f=lambda x:np.exp(-a*x**2+b*x+c)\n",
    "tol=1e-10\n",
    "\n",
    "def trapezoidal(f,a,b):\n",
    "    S0,S=0,0\n",
    "    n=2\n",
    "    while True:\n",
    "        h=(b-a)/n\n",
    "        S=(2*sum([f(a+i*h) for i in range(1,n)])+f(a)+f(b))*(h/2)\n",
    "        if abs(S-S0)<0.0000001:\n",
    "            break\n",
    "        n+=1\n",
    "        S0=S\n",
    "    return S\n",
    "\n",
    "up=10\n",
    "low=-up\n",
    "IO=trapezoidal(f,low,up)\n",
    "while True:\n",
    "    I=IO\n",
    "    up=up+1\n",
    "    low=low-1\n",
    "    IO=trapezoidal(f,low,up)\n",
    "    if abs(IO-I)<tol:\n",
    "        break\n",
    "Iexact=np.sqrt(np.pi/a)*np.exp((b**2)/(4*a)+c)\n",
    "print('The value of integral of Gaussian Integral :',IO,'and the exact value using formula is:',Iexact)"
   ]
  },
  {
   "cell_type": "markdown",
   "id": "eae0edb5-70b1-445d-b6d0-a77119e6ba35",
   "metadata": {},
   "source": [
    "# Adaptive Quadrature to handle Type 2 indefinite integrals\n",
    "Changing x to t : t=1/(1+x) , x=(1-t)/t. So limits change to (0,1) from 0 to inf.\n",
    "quad() can handle singularities that are removable"
   ]
  },
  {
   "cell_type": "code",
   "execution_count": 72,
   "id": "f927e771-e029-4f6b-ac43-2682eb13da27",
   "metadata": {},
   "outputs": [
    {
     "name": "stdout",
     "output_type": "stream",
     "text": [
      "The integral using transformation is : 2578.878077301833\n",
      "The original integral is : 2578.878077301833\n"
     ]
    }
   ],
   "source": [
    "import numpy as np\n",
    "from scipy.integrate import quad\n",
    "a,b,c=4,2,8\n",
    "f=lambda x:np.exp(-a*x**2+b*x+c)\n",
    "\n",
    "def g(t):\n",
    "    return f((1-t)/t)*(1/t**2)\n",
    "\n",
    "#g=lambda t:f((1-t)/t)  \n",
    "\n",
    "low,up=0,1\n",
    "res,err=quad(g,low,up)\n",
    "res_or,err=quad(f,0,np.inf)\n",
    "print('The integral using transformation is :',res)\n",
    "print('The original integral is :',res_or)"
   ]
  }
 ],
 "metadata": {
  "kernelspec": {
   "display_name": "Python 3 (ipykernel)",
   "language": "python",
   "name": "python3"
  },
  "language_info": {
   "codemirror_mode": {
    "name": "ipython",
    "version": 3
   },
   "file_extension": ".py",
   "mimetype": "text/x-python",
   "name": "python",
   "nbconvert_exporter": "python",
   "pygments_lexer": "ipython3",
   "version": "3.13.2"
  }
 },
 "nbformat": 4,
 "nbformat_minor": 5
}
