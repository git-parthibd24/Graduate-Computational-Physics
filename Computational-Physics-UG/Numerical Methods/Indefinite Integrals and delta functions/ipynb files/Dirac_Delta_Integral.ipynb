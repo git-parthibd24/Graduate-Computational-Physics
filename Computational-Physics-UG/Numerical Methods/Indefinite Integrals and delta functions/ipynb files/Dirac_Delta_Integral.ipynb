{
 "cells": [
  {
   "cell_type": "markdown",
   "id": "b4c2cbec-07d6-43ab-8ee2-c8bddc30994f",
   "metadata": {},
   "source": [
    "# Rectangular Function Approximation\n",
    "We are vectorizing delta as the function definition of delta expects scalars in this case and not arrays"
   ]
  },
  {
   "cell_type": "code",
   "execution_count": 8,
   "id": "97b99734-0192-4895-9975-acd01671537b",
   "metadata": {},
   "outputs": [
    {
     "name": "stdin",
     "output_type": "stream",
     "text": [
      "Enter the shifted x-coordinate :  50\n",
      "Enter the value of eps :  0.000001\n"
     ]
    },
    {
     "name": "stdout",
     "output_type": "stream",
     "text": [
      "Value of Integration for product : 124951.1248686\n",
      "Value of the function at peak : 124951.0000000\n",
      "The property of Dirac Delta Function is verified\n"
     ]
    }
   ],
   "source": [
    "import numpy as np\n",
    "from scipy.integrate import simpson\n",
    "\n",
    "def f(x):\n",
    "    return x**3-x+1    \n",
    "\n",
    "delta=lambda x,eps:1/eps if -eps/2<x<eps/2 else 0\n",
    "delta=np.vectorize(delta)\n",
    "\n",
    "#for large a, we need small eps as the chosen function rises more than exponentially and delta function needs to reach that height\n",
    "a=eval(input('Enter the shifted x-coordinate : '))\n",
    "eps=eval(input('Enter the value of eps : '))\n",
    "\n",
    "xp=np.linspace(a-eps,a+eps,1000000)\n",
    "I=simpson(f(xp)*delta(xp-a,eps),xp)\n",
    "Fun=f(a)\n",
    "\n",
    "print('Value of Integration for product :',format(I,'0.7f'))\n",
    "print('Value of the function at peak :',format(Fun,'0.7f'))\n",
    "\n",
    "if round(I/Fun)==1:\n",
    "    print('The property of Dirac Delta Function is verified')\n",
    "else:\n",
    "    print('The property of Delta Function is not verified')"
   ]
  },
  {
   "cell_type": "markdown",
   "id": "d94ed626-e982-46ec-b1a4-009f963a2371",
   "metadata": {},
   "source": [
    "# Triangular Function Approximation\n",
    "We are vectorizing delta as the function definition of delta expects scalars in this case and not arrays"
   ]
  },
  {
   "cell_type": "code",
   "execution_count": 19,
   "id": "b777004e-2102-4e37-9f64-94b3bfc44078",
   "metadata": {},
   "outputs": [
    {
     "name": "stdin",
     "output_type": "stream",
     "text": [
      "Enter the shifted x-coordinate :  5\n",
      "Enter the value of eps :  0.00001\n"
     ]
    },
    {
     "name": "stdout",
     "output_type": "stream",
     "text": [
      "Value of Integration for product : 120.9999596\n",
      "Value of the function at peak : 121.0000000\n",
      "The property of Dirac Delta Function is verified\n"
     ]
    }
   ],
   "source": [
    "import numpy as np\n",
    "from scipy.integrate import simpson\n",
    "\n",
    "def f(x):\n",
    "    return x**3-x+1    \n",
    "\n",
    "delta=lambda x,eps:(1-abs(x)/eps)/eps if -eps<x<eps else 0\n",
    "delta=np.vectorize(delta)\n",
    "\n",
    "a=eval(input('Enter the shifted x-coordinate : '))\n",
    "eps=eval(input('Enter the value of eps : '))\n",
    "\n",
    "xp=np.linspace(a-eps,a+eps,1000)\n",
    "I=simpson(f(xp)*delta(xp-a,eps),xp)\n",
    "Fun=f(a)\n",
    "\n",
    "print('Value of Integration for product :',format(I,'0.7f'))\n",
    "print('Value of the function at peak :',format(Fun,'0.7f'))\n",
    "\n",
    "if round(I/Fun)==1:\n",
    "    print('The property of Dirac Delta Function is verified')\n",
    "else:\n",
    "    print('The property of Delta Function is not verified')"
   ]
  },
  {
   "cell_type": "markdown",
   "id": "7da4a1f7-0428-4479-8291-d67b2bf6d21a",
   "metadata": {},
   "source": [
    "# Gaussian Function Approximation"
   ]
  },
  {
   "cell_type": "code",
   "execution_count": 17,
   "id": "089147c4-b7bf-4c88-b85c-ea3c0823841f",
   "metadata": {},
   "outputs": [
    {
     "name": "stdin",
     "output_type": "stream",
     "text": [
      "Enter sigma (width) :  0.1\n",
      "Enter the shifted x-coordinate :  6\n"
     ]
    },
    {
     "name": "stdout",
     "output_type": "stream",
     "text": [
      "Value of Integration for product : 211.1800000\n",
      "Value of the function at peak : 211.0000000\n",
      "The property of Dirac Delta Function is verified\n"
     ]
    }
   ],
   "source": [
    "import numpy as np\n",
    "from scipy.integrate import simpson\n",
    "\n",
    "def f(x):\n",
    "    return x**3-x+1    \n",
    "\n",
    "sigma=eval(input('Enter sigma (width) : '))\n",
    "mu=eval(input('Enter the shifted x-coordinate : '))\n",
    "\n",
    "delta=lambda x:1/(np.sqrt(2*np.pi)*sigma)*np.exp(-((x-mu)**2)/(2*sigma**2))\n",
    "\n",
    "xp=np.linspace(mu-100*sigma,mu+100*sigma,1000)\n",
    "I=simpson(f(xp)*delta(xp),xp)\n",
    "Fun=f(mu)\n",
    "\n",
    "print('Value of Integration for product :',format(I,'0.7f'))\n",
    "print('Value of the function at peak :',format(Fun,'0.7f'))\n",
    "\n",
    "if round(I/Fun)==1:\n",
    "    print('The property of Dirac Delta Function is verified')\n",
    "else:\n",
    "    print('The property of Delta Function is not verified')"
   ]
  },
  {
   "cell_type": "markdown",
   "id": "d055b5d5-a900-4bed-9d40-6d69c9dab563",
   "metadata": {},
   "source": [
    "# Exponential Function Approximation"
   ]
  },
  {
   "cell_type": "code",
   "execution_count": 16,
   "id": "f645bc8c-55e5-45fc-b077-f1273cccfa4d",
   "metadata": {},
   "outputs": [
    {
     "name": "stdin",
     "output_type": "stream",
     "text": [
      "Enter the shifted x-coordinate :  2\n",
      "Enter the value of eps :  0.00001\n"
     ]
    },
    {
     "name": "stdout",
     "output_type": "stream",
     "text": [
      "Value of Integration for product : 6.9883236\n",
      "Value of the function at peak : 7.0000000\n",
      "The property of Dirac Delta Function is verified\n"
     ]
    }
   ],
   "source": [
    "import numpy as np\n",
    "from scipy.integrate import simpson\n",
    "\n",
    "def f(x):\n",
    "    return x**3-x+1    \n",
    "\n",
    "delta=lambda x,eps:1/(2*eps)*np.exp(-abs(x)/eps)\n",
    "\n",
    "a=eval(input('Enter the shifted x-coordinate : '))\n",
    "eps=eval(input('Enter the value of eps : '))\n",
    "\n",
    "xp=np.linspace(a-100*eps,a+100*eps,1000)\n",
    "I=simpson(f(xp)*delta(xp-a,eps),xp)\n",
    "Fun=f(a)\n",
    "\n",
    "print('Value of Integration for product :',format(I,'0.7f'))\n",
    "print('Value of the function at peak :',format(Fun,'0.7f'))\n",
    "\n",
    "if round(I/Fun)==1:\n",
    "    print('The property of Dirac Delta Function is verified')\n",
    "else:\n",
    "    print('The property of Delta Function is not verified')"
   ]
  },
  {
   "cell_type": "markdown",
   "id": "d2c5f801-9778-4729-b6cb-35dce5913b76",
   "metadata": {},
   "source": [
    "# Sine Cardinal Function Approximation"
   ]
  },
  {
   "cell_type": "code",
   "execution_count": 6,
   "id": "b219982e-d0cb-4ba0-82ff-83345cc48ea5",
   "metadata": {},
   "outputs": [
    {
     "name": "stdin",
     "output_type": "stream",
     "text": [
      "Enter the shifted x-coordinate :  2\n",
      "Enter the value of eps :  0.00001\n"
     ]
    },
    {
     "name": "stdout",
     "output_type": "stream",
     "text": [
      "Value of Integration for product : 6.9618038\n",
      "Value of the function at peak : 7.0000000\n",
      "The property of Dirac Delta Function is verified\n"
     ]
    }
   ],
   "source": [
    "import numpy as np\n",
    "from scipy.integrate import simpson\n",
    "\n",
    "def f(x):return x**3-x+1\n",
    "\n",
    "delta=lambda x,eps:np.sin(x/eps)/(np.pi*x) if x!=0.0 else 1./(eps*np.pi)\n",
    "delta=np.vectorize(delta)\n",
    "\n",
    "a=eval(input('Enter the shifted x-coordinate : '))\n",
    "eps=eval(input('Enter the value of eps : '))\n",
    "xp=np.linspace(a-100*eps,a+100*eps,1000)\n",
    "\n",
    "I=simpson(f(xp)*delta(xp-a,eps),xp)\n",
    "Fun=f(a)\n",
    "print('Value of Integration for product :',format(I,'0.7f'))\n",
    "print('Value of the function at peak :',format(Fun,'0.7f'))\n",
    "if round(I/Fun)==1:\n",
    "    print('The property of Dirac Delta Function is verified')\n",
    "else:\n",
    "    print('The property of Delta Function is not verified')"
   ]
  },
  {
   "cell_type": "markdown",
   "id": "b74a6205-5388-47d8-ae96-8b1476b4c693",
   "metadata": {},
   "source": [
    "# Hyperbolic Cos Function Approximation"
   ]
  },
  {
   "cell_type": "code",
   "execution_count": 15,
   "id": "27b1eacb-0e38-476e-9af5-21764ec0fa62",
   "metadata": {},
   "outputs": [
    {
     "name": "stdin",
     "output_type": "stream",
     "text": [
      "Enter the shifted x-coordinate :  0\n",
      "Enter the value of eps :  0.000001\n"
     ]
    },
    {
     "name": "stdout",
     "output_type": "stream",
     "text": [
      "Value of Integration for product : 1.0000000\n",
      "Value of the function at peak : 1.0000000\n",
      "The property of Dirac Delta Function is verified\n"
     ]
    }
   ],
   "source": [
    "import numpy as np\n",
    "from scipy.integrate import simpson\n",
    "\n",
    "def f(x):\n",
    "    return x**3-x+1    \n",
    "\n",
    "delta=lambda x,eps:2/(np.pi*eps*2*np.cosh(x/eps))\n",
    "\n",
    "a=eval(input('Enter the shifted x-coordinate : '))\n",
    "eps=eval(input('Enter the value of eps : '))\n",
    "\n",
    "xp=np.linspace(a-eps*100,a+eps*100,1000)\n",
    "I=simpson(f(xp)*delta(xp-a,eps),xp)\n",
    "Fun=f(a)\n",
    "\n",
    "print('Value of Integration for product :',format(I,'0.7f'))\n",
    "print('Value of the function at peak :',format(Fun,'0.7f'))\n",
    "\n",
    "if round(I/Fun)==1:\n",
    "    print('The property of Dirac Delta Function is verified')\n",
    "else:\n",
    "    print('The property of Delta Function is not verified')"
   ]
  },
  {
   "cell_type": "markdown",
   "id": "dcb8dff5-6bfe-4d36-a371-72f2160a0f90",
   "metadata": {},
   "source": [
    "# Modified Sine Function Approximation"
   ]
  },
  {
   "cell_type": "code",
   "execution_count": 5,
   "id": "69b07673-5eb3-4771-9de1-d05ce1bb5831",
   "metadata": {},
   "outputs": [
    {
     "name": "stdin",
     "output_type": "stream",
     "text": [
      "Enter the shifted x-coordinate :  3\n",
      "Enter the value of eps :  0.0001\n"
     ]
    },
    {
     "name": "stdout",
     "output_type": "stream",
     "text": [
      "Value of Integration for product : 24.8631783\n",
      "Value of the function at peak : 25.0000000\n",
      "The property of Dirac Delta Function is verified\n"
     ]
    }
   ],
   "source": [
    "import numpy as np\n",
    "from scipy.integrate import simpson\n",
    "\n",
    "def f(x):return x**3-x+1\n",
    "\n",
    "delta=lambda x,eps:(np.sin((1+2/eps)*x/2))/np.sin(x/2)*1/(2*np.pi) if x!=0 else (0.5+1/eps)/np.pi\n",
    "delta=np.vectorize(delta)\n",
    "\n",
    "a=eval(input('Enter the shifted x-coordinate : '))\n",
    "eps=eval(input('Enter the value of eps : '))\n",
    "xp=np.linspace(a-100*eps,a+100*eps,1000)\n",
    "\n",
    "I=simpson(f(xp)*delta(xp-a,eps),xp)\n",
    "Fun=f(a)\n",
    "print('Value of Integration for product :',format(I,'0.7f'))\n",
    "print('Value of the function at peak :',format(Fun,'0.7f'))\n",
    "if round(I/Fun)==1:\n",
    "    print('The property of Dirac Delta Function is verified')\n",
    "else:\n",
    "    print('The property of Delta Function is not verified')"
   ]
  },
  {
   "cell_type": "markdown",
   "id": "1ad820a0-2f3a-42e8-9fa0-f668277b574b",
   "metadata": {},
   "source": [
    "# Lorentzian Function Approximation"
   ]
  },
  {
   "cell_type": "code",
   "execution_count": 7,
   "id": "d16471ff-2e1a-4d9b-b2b5-9621c87bbbbf",
   "metadata": {},
   "outputs": [
    {
     "name": "stdin",
     "output_type": "stream",
     "text": [
      "Enter the width of Lorentzian :  0.00001\n",
      "Enter the shifted x-coordinate :  2\n"
     ]
    },
    {
     "name": "stdout",
     "output_type": "stream",
     "text": [
      "Value of Integration for product : 6.7773685\n",
      "Value of the function at peak : 7.0000000\n",
      "The property of Dirac Delta Function is verified\n"
     ]
    }
   ],
   "source": [
    "import numpy as np\n",
    "from scipy.integrate import simpson\n",
    "\n",
    "def f(x):\n",
    "    return x**3-x+1    \n",
    "\n",
    "gamma=eval(input('Enter the width of Lorentzian : '))\n",
    "a=eval(input('Enter the shifted x-coordinate : '))\n",
    "\n",
    "delta=lambda x,gamma:1/np.pi*(gamma/2)/((xp-a)**2+(gamma/2)**2)\n",
    "\n",
    "xp=np.linspace(a-gamma*10,a+gamma*10,1000)\n",
    "I=simpson(f(xp)*delta(xp-a,gamma),xp)\n",
    "Fun=f(a)\n",
    "\n",
    "print('Value of Integration for product :',format(I,'0.7f'))\n",
    "print('Value of the function at peak :',format(Fun,'0.7f'))\n",
    "\n",
    "if round(I/Fun)==1:\n",
    "    print('The property of Dirac Delta Function is verified')\n",
    "else:\n",
    "    print('The property of Delta Function is not verified')"
   ]
  }
 ],
 "metadata": {
  "kernelspec": {
   "display_name": "Python 3 (ipykernel)",
   "language": "python",
   "name": "python3"
  },
  "language_info": {
   "codemirror_mode": {
    "name": "ipython",
    "version": 3
   },
   "file_extension": ".py",
   "mimetype": "text/x-python",
   "name": "python",
   "nbconvert_exporter": "python",
   "pygments_lexer": "ipython3",
   "version": "3.13.2"
  }
 },
 "nbformat": 4,
 "nbformat_minor": 5
}
