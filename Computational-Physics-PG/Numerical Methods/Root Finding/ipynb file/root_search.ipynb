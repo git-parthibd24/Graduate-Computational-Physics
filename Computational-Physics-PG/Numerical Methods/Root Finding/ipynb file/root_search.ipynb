{
 "cells": [
  {
   "cell_type": "markdown",
   "id": "37dcb016-37f1-42fa-a0ec-5463d5630db0",
   "metadata": {},
   "source": [
    "# Incremental Search Method for root finding\n",
    "This method is very limited in its capacity"
   ]
  },
  {
   "cell_type": "code",
   "execution_count": 21,
   "id": "e87efa09-3740-46d4-88de-c510f6f2bc85",
   "metadata": {},
   "outputs": [
    {
     "name": "stdout",
     "output_type": "stream",
     "text": [
      "The root is : 0.7346\n"
     ]
    }
   ],
   "source": [
    "import numpy as np    \n",
    "import matplotlib.pyplot as plt\n",
    "\n",
    "def rootsearch(f,a,b,dx):   #[a,b] is interval of searching. dx is increment of search\n",
    "    x1=a; f1=f(a)\n",
    "    x2=a+dx; f2=f(x2)\n",
    "\n",
    "    while np.sign(f1)==np.sign(f2):\n",
    "        if x1>=b: \n",
    "            return None,None\n",
    "        x1=x2; f1=f2        #Incrementing along x direction\n",
    "        x2=x1+dx; f2=f(x2)\n",
    "    else:\n",
    "        return x1,x2        #The supposed root lies between these\n",
    "\n",
    "x=np.linspace(-1,1,400)\n",
    "def f(x): \n",
    "    return x**3-10.0*x**2+5.0\n",
    "\n",
    "a=0.0; b=1.0                #Initial interval of search\n",
    "for i in range(5):          #Calling the function multiple times to reduce interval of search with each iteration\n",
    "    dx=(b-a)/10.0\n",
    "    a_new,b_new=rootsearch(f,a,b,dx)\n",
    "    if a_new is None or b_new is None:\n",
    "        break\n",
    "    else:\n",
    "        a,b=a_new,b_new\n",
    "\n",
    "if a_new is None or b_new is None:\n",
    "    print('No root found in the given interval')\n",
    "else:\n",
    "    x=(a+b)/2.0                 #This is the approximated root\n",
    "    print('The root is :','{:6.4f}'.format(x))"
   ]
  },
  {
   "cell_type": "markdown",
   "id": "fea2cb4b-b742-4e46-9213-f4383f08662a",
   "metadata": {},
   "source": [
    "# Bisection Method of root finding"
   ]
  },
  {
   "cell_type": "code",
   "execution_count": 8,
   "id": "48a2cf83-ab26-48ea-88aa-26c78db49138",
   "metadata": {},
   "outputs": [
    {
     "name": "stdout",
     "output_type": "stream",
     "text": [
      "The root is : 0.7346\n"
     ]
    }
   ],
   "source": [
    "import numpy as np\n",
    "\n",
    "def bisection_method(f,x1,x2,switch=1,tol=1.0e-9):   \n",
    "    f1=f(x1)\n",
    "    if f1==0.0: \n",
    "        return x1\n",
    "    f2=f(x2)\n",
    "    if f2==0.0: \n",
    "        return x2\n",
    "    if np.sign(f1)==np.sign(f2):\n",
    "        print('Root is not bracketed yet')\n",
    "        return None\n",
    "    \n",
    "    n=int(np.ceil(np.log(abs(x2-x1)/tol)/np.log(2.0)))          #numpy.ceil() rounds up to nearest integer\n",
    "    for i in range(n):\n",
    "        x3=0.5*(x1+x2); \n",
    "        f3=f(x3)\n",
    "        \n",
    "        if switch==1 and abs(f3)>abs(f1) and abs(f3)>abs(f2):   #switch parameter is used as a safeguard to detect cases where the function value at the midpoint is increasing in magnitude rather than decreasing\n",
    "            return None\n",
    "        \n",
    "        if f3==0.0: \n",
    "            return x3\n",
    "        \n",
    "        if np.sign(f2)!=np.sign(f3): \n",
    "            x1=x3; f1=f3\n",
    "\n",
    "        else: \n",
    "            x2=x3; f2=f3\n",
    "\n",
    "    return x3\n",
    "\n",
    "def f(x): \n",
    "    return x**3-10.0*x**2+5.0\n",
    "\n",
    "x=bisection_method(f,0.0,1.0,tol=1.0e-4)\n",
    "if x is None:\n",
    "    print('No root found in the given interval.')\n",
    "else:\n",
    "    print('The root is :','{:6.4f}'.format(x))"
   ]
  },
  {
   "cell_type": "markdown",
   "id": "cfe25114-b412-4c62-9576-8ff55db864ae",
   "metadata": {},
   "source": [
    "# Newton-Raphson Method for root finding"
   ]
  },
  {
   "cell_type": "code",
   "execution_count": 22,
   "id": "1a77e23c-c372-4d00-afdc-769ba1af905c",
   "metadata": {},
   "outputs": [
    {
     "name": "stdout",
     "output_type": "stream",
     "text": [
      "Root: 2.100000\n",
      "Number of iterations: 22\n"
     ]
    }
   ],
   "source": [
    "import numpy as np\n",
    "\n",
    "def f(x): \n",
    "    return x**4-6.4*x**3+6.45*x**2+20.538*x-31.752\n",
    "def df(x): \n",
    "    return 4.0*x**3-19.2*x**2+12.9*x+20.538\n",
    "\n",
    "def NewtonRaphson(x,tol=1.0e-9):\n",
    "    for i in range(30):\n",
    "        \n",
    "        if abs(df(x))<1e-12:                        #Check if the derivative is too small\n",
    "            return None, i\n",
    "        \n",
    "        dx=-f(x)/df(x)\n",
    "        x=x+dx\n",
    "        if abs(dx)<tol: \n",
    "            return x, i\n",
    "    print(\"Too many operations\")\n",
    "    return None,30                                   #when the 'if statement' is not met within the iteration change, then only this line prints as the 'if statement' can't return anything and exit the code\n",
    "                                                     #by-default returns None if we dont specify it, but we need to return the 2nd number as we are calling 2 variables from the function later\n",
    "\n",
    "root,numIter=NewtonRaphson(2.0)                      #Initial guess\n",
    "if root is not None:\n",
    "    print(f'Root: {root:.6f}')\n",
    "    print(f'Number of iterations: {numIter}')\n",
    "else:\n",
    "    print('Method did not converge, root couldnt be detected')"
   ]
  },
  {
   "cell_type": "markdown",
   "id": "8c008143-70d0-4f4e-9110-4646b323f03c",
   "metadata": {},
   "source": [
    "# Safe_Root_Search_General_Method"
   ]
  },
  {
   "cell_type": "code",
   "execution_count": 2,
   "id": "36b79ccd-bf5b-4b95-8ae6-17894cb9e6a0",
   "metadata": {},
   "outputs": [
    {
     "name": "stdout",
     "output_type": "stream",
     "text": [
      "The root is : 4.0000\n"
     ]
    }
   ],
   "source": [
    "import numpy as np\n",
    "def root_safe(f,df,a,b,tol):\n",
    "    if f(a)==0.0: \n",
    "        return a\n",
    "    if f(b)==0.0: \n",
    "        return b\n",
    "    if np.sign(f(a))==np.sign(f(b)): \n",
    "        print('Root is not bracketed')\n",
    "        return \n",
    "    x=0.5*(a+b)                    #Initialize 1st bisection\n",
    "    for i in range(30):\n",
    "        if f(x)==0.0: \n",
    "            return x\n",
    "        #Tighten the brackets on the root\n",
    "        if np.sign(f(a))!=np.sign(f(x)): \n",
    "            b=x\n",
    "        else: \n",
    "            a=x\n",
    "        \n",
    "        #Implement newton-raphson step as it converges faster when root is nearby\n",
    "        #If division by zero occuurs, exit newton-raphson for current iteration\n",
    "        try: \n",
    "            dx=-f(x)/df(x)\n",
    "        except ZeroDivisionError: \n",
    "            dx=b-a                    \n",
    "        x=x+dx                        #This either converges to the root if newton-raphson succeeds or pushes x far away in case of a flat derivative and gives newton-raphson a chance to converge in next iteration, otherwise newton raphson will never get implemented and get stuck at same x value.\n",
    "        \n",
    "        #If the above step pushed x outside the brackets, implement bisection\n",
    "        if (b-x)*(x-a)<0.0:\n",
    "            x=0.5*(a+b)\n",
    "                                \n",
    "        #Check for convergence\n",
    "        if abs(dx)<tol*np.maximum(abs(b),1.0):            #If 𝑏 is large, the condition ensures that the error is relative to b               \n",
    "            return x\n",
    "    print('Too many iterations')\n",
    "\n",
    "\n",
    "def f(x): \n",
    "    return x**4-6.4*x**3+6.45*x**2+20.538*x-31.752\n",
    "def df(x): \n",
    "    return 4.0*x**3-19.2*x**2+12.9*x+20.538\n",
    "\n",
    "x=root_safe(f,df,0.0,5.0,tol=1.0e-9)                        #At 2.00 there is a root but bisection fails there since that root is tangent point of x axis for the curve \n",
    "if x is None:\n",
    "    print('No root found in the given interval.')\n",
    "else:\n",
    "    print('The root is :','{:6.4f}'.format(x))"
   ]
  }
 ],
 "metadata": {
  "kernelspec": {
   "display_name": "Python 3 (ipykernel)",
   "language": "python",
   "name": "python3"
  },
  "language_info": {
   "codemirror_mode": {
    "name": "ipython",
    "version": 3
   },
   "file_extension": ".py",
   "mimetype": "text/x-python",
   "name": "python",
   "nbconvert_exporter": "python",
   "pygments_lexer": "ipython3",
   "version": "3.12.3"
  }
 },
 "nbformat": 4,
 "nbformat_minor": 5
}
