{
 "cells": [
  {
   "cell_type": "markdown",
   "id": "f9ed843f-3a17-4a4e-8f31-f7a5e321bf31",
   "metadata": {},
   "source": [
    "# Plotting and making movie"
   ]
  },
  {
   "cell_type": "code",
   "execution_count": null,
   "id": "3fdd70dd-33f8-4986-ab91-c10c3ac6bcb3",
   "metadata": {},
   "outputs": [],
   "source": [
    "import numpy as np\n",
    "import matplotlib.pyplot as plt\n",
    "from matplotlib.animation import FuncAnimation\n",
    "\n",
    "def f(x,m,s):   #m is mean, s is standard deviation\n",
    "    return (1.0/(np.sqrt(2*np.pi)*s))*np.exp(-0.5*((x-m)/s)**2)\n",
    "\n",
    "m=0; s_start=2; s_stop=0.2\n",
    "s_values=np.linspace(s_start,s_stop,30) #we will update the graph for these values of s\n",
    "\n",
    "x=np.linspace(-3*s_start,3*s_start,1000)\n",
    "\n",
    "max_f=f(0,m,s_stop)\n",
    "plt.axis([x[0],x[-1],0,max_f])  #create the x and y axis in the given range\n",
    "plt.xlabel('x')\n",
    "plt.ylabel('y')\n",
    "\n",
    "min_f=f(x,m,s_start)\n",
    "lines=plt.plot(x,min_f) #initial plot to create the lines object\n",
    "def next_frame(s): \n",
    "    y=f(x,m,s)\n",
    "    lines[0].set_ydata(y) #plot the updated graph\n",
    "    return lines\n",
    "\n",
    "ani=FuncAnimation(plt.gcf(),next_frame,frames=s_values,interval=50)  #calling the function\n",
    "ani.save('S:\\\\Documents\\\\Github\\\\Computational-Physics-PG\\\\Numerical Methods\\\\Dynamic Plotting\\\\ipynb file\\\\movie.mp4',fps=60)\n",
    "plt.show()"
   ]
  }
 ],
 "metadata": {
  "kernelspec": {
   "display_name": "Python 3 (ipykernel)",
   "language": "python",
   "name": "python3"
  },
  "language_info": {
   "codemirror_mode": {
    "name": "ipython",
    "version": 3
   },
   "file_extension": ".py",
   "mimetype": "text/x-python",
   "name": "python",
   "nbconvert_exporter": "python",
   "pygments_lexer": "ipython3",
   "version": "3.12.3"
  }
 },
 "nbformat": 4,
 "nbformat_minor": 5
}
