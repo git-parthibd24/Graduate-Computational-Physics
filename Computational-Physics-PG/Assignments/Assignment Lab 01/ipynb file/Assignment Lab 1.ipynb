{
 "cells": [
  {
   "cell_type": "markdown",
   "id": "6e79f859-924f-4d0e-9892-1496aba47956",
   "metadata": {},
   "source": [
    "# Question 1\n",
    "Write a program to calculate the transmission and reflection coefficients for an electron of\n",
    "energy E incident on a potential step of height V. The program should ask the user to input\n",
    "the energy of the incoming electron and the height of the potential step. The program\n",
    "should then calculate and output the transmission and reflection coefficients. The program\n",
    "should also output the sum of the transmission and reflection coefficients. The program\n",
    "should be able to handle the case where the energy of the incoming electron is less than the\n",
    "height of the potential step. In this case, the program should output an appropriate error\n",
    "message and ask the user to input the energy and height again. The program should\n",
    "continue to ask the user to input the energy and height until the energy is greater than the\n",
    "height of the potential step. The program should be written in Python and should be well\n",
    "commented. The program should be submitted as a single file named Q1.py."
   ]
  },
  {
   "cell_type": "code",
   "execution_count": 4,
   "id": "e29af4e2-5a03-4262-89a7-36a688df01c3",
   "metadata": {},
   "outputs": [
    {
     "name": "stdin",
     "output_type": "stream",
     "text": [
      "Enter the energy of incoming electron in eV :  10\n",
      "Enter the height of the potential step in eV :  9\n"
     ]
    },
    {
     "name": "stdout",
     "output_type": "stream",
     "text": [
      "The value of the Transmission and Reflection Coefficients are respectively :  0.7301261363877615 and 0.26987386361223836\n",
      "Sum of Transmission and Reflection Coefficients is : 1.00\n"
     ]
    }
   ],
   "source": [
    "import numpy as np\n",
    "m=9.11*10**(-31)        #mass of an electron\n",
    "hbar=6.626*10**(-34)/(2*np.pi)   # Reduced Plank's Constant\n",
    "\n",
    "f='Y'\n",
    "while f=='Y' or f=='y':\n",
    "    E=eval(input('Enter the energy of incoming electron in eV : '))\n",
    "    V=eval(input('Enter the height of the potential step in eV : '))\n",
    "    if E<V:\n",
    "        print('Energy of incoming electron has to be greater then height of potential well')\n",
    "        f=input('Do you wish to retry? (Y/N) : ')\n",
    "    else: \n",
    "        k1,k2=np.sqrt(2*m*(E))/hbar, np.sqrt(2*m*(E-V))/hbar\n",
    "        T=4*k1*k2/(k1+k2)**2             #Transmission Coefficient\n",
    "        R=((k1-k2)/(k1+k2))**2           #Reflection Coefficient\n",
    "        print('The value of the Transmission and Reflection Coefficients are respectively : ',T,'and',R)\n",
    "        print('Sum of Transmission and Reflection Coefficients is :',format(T+R,'0.2f'))\n",
    "        break\n"
   ]
  },
  {
   "cell_type": "markdown",
   "id": "1d18f255-1a16-4240-91bf-d4928d1274af",
   "metadata": {},
   "source": [
    "# Question 2\n",
    "Write a program that asks the user to input the x and y coordinates of a point in the\n",
    "Cartesian plane. The program should then calculate and output the polar coordinates of the\n",
    "point. The program should be written in Python and should be well commented. The\n",
    "program should be submitted as a single file named Q2.py."
   ]
  },
  {
   "cell_type": "code",
   "execution_count": 1,
   "id": "5ea5132b-636c-47a1-af8b-ea71c9aa97b2",
   "metadata": {},
   "outputs": [
    {
     "name": "stdin",
     "output_type": "stream",
     "text": [
      "Enter the x coordinate :  -1\n",
      "Enter the y coordinate :  5\n"
     ]
    },
    {
     "name": "stdout",
     "output_type": "stream",
     "text": [
      "The value of r and θ (in deg) is :  5.10 and 101.31\n"
     ]
    }
   ],
   "source": [
    "# Question 2\n",
    "# Write a program that asks the user to input the x and y coordinates of a point in the Cartesian plane. The program should then calculate and output the polar coordinates of the point. The program should be written in Python and should be well commented. The program should be submitted as a single file named Q2.py.\n",
    "\n",
    "import numpy as np\n",
    "x=eval(input('Enter the x coordinate : '))\n",
    "y=eval(input('Enter the y coordinate : '))\n",
    "\n",
    "r=np.sqrt(x**2+y**2)\n",
    "\n",
    "if x==0 and y==0:\n",
    "    print('The value of r is:',format(r,'0.2f'),'but value of \\u03B8 (in deg) is not defined')\n",
    "if x==0 and y>0:\n",
    "    print('The value of r and \\u03B8 (in deg) is : ',format(r,'0.2f'),'and',format(90,'0.2f'))\n",
    "if x==0 and y<0:\n",
    "    print('The value of r and \\u03B8 (in deg) is : ',format(r,'0.2f'),'and',format(270,'0.2f'))\n",
    "if x<0 and y>=0:\n",
    "    theta=180-abs(np.arctan(y/x)*180/np.pi)\n",
    "    print('The value of r and \\u03B8 (in deg) is : ',format(r,'0.2f'),'and',format(theta,'0.2f'))\n",
    "if x<0 and y<0:\n",
    "    theta=180+np.arctan(y/x)*180/np.pi\n",
    "    print('The value of r and \\u03B8 (in deg) is : ',format(r,'0.2f'),'and',format(theta,'0.2f'))\n",
    "if x>0 and y<0:\n",
    "    theta=360-abs(np.arctan(y/x)*180/np.pi)\n",
    "    print('The value of r and \\u03B8 (in deg) is : ',format(r,'0.2f'),'and',format(theta,'0.2f'))\n",
    "if x>0 and y>0:\n",
    "    theta=np.arctan(y/x)*180/np.pi\n",
    "    print('The value of r and \\u03B8 (in deg) is : ',format(r,'0.2f'),'and',format(theta,'0.2f'))"
   ]
  },
  {
   "cell_type": "markdown",
   "id": "a3873108-79bf-44cc-9f99-4550eabf277d",
   "metadata": {},
   "source": [
    "# Question 3\n",
    "Write a program to calculate the speed of a planet at aphelion, the distance between the\n",
    "planet and the Sun at aphelion, the semi-major axis of the orbit, the orbital period, and the\n",
    "eccentricity of the orbit. The program should ask the user to input the distance between the\n",
    "planet and the Sun at perihelion and the velocity of the planet at perihelion. The program\n",
    "should then calculate and output the speed of the planet at aphelion, the distance between\n",
    "the planet and the Sun at aphelion, the semi-major axis of the orbit, the orbital period, and\n",
    "the eccentricity of the orbit. The program should be written in Python and should be well\n",
    "commented. The program should be submitted as a single file named Q3.py."
   ]
  },
  {
   "cell_type": "code",
   "execution_count": 6,
   "id": "7b9e1d73-3f89-466a-9221-e3b7357288fd",
   "metadata": {},
   "outputs": [
    {
     "name": "stdout",
     "output_type": "stream",
     "text": [
      "Enter the distance between planet and Sun at perihelion in scientific notation in m\n"
     ]
    },
    {
     "name": "stdin",
     "output_type": "stream",
     "text": [
      "Enter the coefficient :  1.471\n",
      "Enter the exponent in powers of 10:  11\n"
     ]
    },
    {
     "name": "stdout",
     "output_type": "stream",
     "text": [
      "Enter the velocity of planet at perihelion in scientific notation in m/s\n"
     ]
    },
    {
     "name": "stdin",
     "output_type": "stream",
     "text": [
      "Enter the coefficient :  3.0287\n",
      "Enter the exponent in powers of 10:  4\n"
     ]
    },
    {
     "name": "stdout",
     "output_type": "stream",
     "text": [
      "The speed of planet at aphelion is (in m/s) :  29305.3992\n",
      "The semi-major axis is (in m) :  152027197208.6606\n",
      "The orbital time period in years is :  1.0002\n",
      "The orbital eccentricity is :  0.0165\n"
     ]
    }
   ],
   "source": [
    "import numpy as np\n",
    "G=6.6738*10**(-11)    # Universal Gravitatiuonal Constant in N-m**2/kg**2\n",
    "M=1.9891*10**30       # Mass of the Sun in kg\n",
    "\n",
    "flag='Y'\n",
    "while flag=='Y' or flag=='y':\n",
    "\n",
    "    print('Enter the distance between planet and Sun at perihelion in scientific notation in m')\n",
    "    x1=eval(input('Enter the coefficient : '))\n",
    "    n1=eval(input('Enter the exponent in powers of 10: '))\n",
    "    l1=x1*10**n1\n",
    "\n",
    "    print('Enter the velocity of planet at perihelion in scientific notation in m/s')\n",
    "    x2=eval(input('Enter the coefficient : '))\n",
    "    n2=eval(input('Enter the exponent in powers of 10: '))\n",
    "    v1=x2*10**n2\n",
    "\n",
    "\n",
    "    b=-2*G*M/(v1*l1)\n",
    "    c=-(v1**2-2*G*M/l1)\n",
    "    v2=(-b-np.sqrt(b**2-4*c))/2      # velocity of planet at aphelion\n",
    "\n",
    "    if v2<=0:\n",
    "        print('Bounded orbit is not possible')\n",
    "        flag=input('Do you wish to retry? (Y/N) : ')\n",
    "        print(flag)\n",
    "    else:\n",
    "        l2=l1*v1/v2                                 # distance between planet and Sun at aphelion\n",
    "        a=(l1+l2)/2                                 # semi-major axis\n",
    "        b=(l1*l2)**(0.5)\n",
    "        T=(2*(np.pi)*a*b)/(l1*v1*365*24*3600)       # Orbital Period in years\n",
    "        e=(l2-l1)/(l2+l1)                           # eccentricity of orbit\n",
    "\n",
    "        print('The speed of planet at aphelion is (in m/s) : ',format(v2,'0.4f'))\n",
    "        print('The semi-major axis is (in m) : ',format(l2,'0.4f'))\n",
    "        print('The orbital time period in years is : ',format(T,'0.4f'))\n",
    "        print('The orbital eccentricity is : ',format(e,'0.4f'))\n",
    "        break\n"
   ]
  },
  {
   "cell_type": "code",
   "execution_count": null,
   "id": "2ec0aa8d-59d0-4690-831e-5511df2ce915",
   "metadata": {},
   "outputs": [],
   "source": []
  }
 ],
 "metadata": {
  "kernelspec": {
   "display_name": "Python 3 (ipykernel)",
   "language": "python",
   "name": "python3"
  },
  "language_info": {
   "codemirror_mode": {
    "name": "ipython",
    "version": 3
   },
   "file_extension": ".py",
   "mimetype": "text/x-python",
   "name": "python",
   "nbconvert_exporter": "python",
   "pygments_lexer": "ipython3",
   "version": "3.12.3"
  }
 },
 "nbformat": 4,
 "nbformat_minor": 5
}
