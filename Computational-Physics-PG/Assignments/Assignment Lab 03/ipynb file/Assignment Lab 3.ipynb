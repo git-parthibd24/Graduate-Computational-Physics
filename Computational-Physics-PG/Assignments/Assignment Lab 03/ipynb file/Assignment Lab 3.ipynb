{
 "cells": [
  {
   "cell_type": "markdown",
   "id": "610b24ae-dabb-44d9-9bc0-d6f0c3c7a139",
   "metadata": {},
   "source": [
    "# Question 1\n",
    "Generate two NxN matrices A and B with random elements and then computes their product C = AB and evaluate the sum of all elements of C\n"
   ]
  },
  {
   "cell_type": "code",
   "execution_count": 1,
   "id": "8480ab14-5b57-4de9-b976-4b5589585261",
   "metadata": {},
   "outputs": [
    {
     "name": "stdin",
     "output_type": "stream",
     "text": [
      "Enter the size of the NxN square matrix :  3\n"
     ]
    },
    {
     "name": "stdout",
     "output_type": "stream",
     "text": [
      "\n",
      "The matrix A is :\n",
      "\n",
      "0.0 0.0 0.0 \n",
      "0.0 0.01 0.02 \n",
      "0.0 0.02 0.04 \n",
      "\n",
      "The matrix B is : \n",
      "\n",
      "0.01 0.02 0.03 \n",
      "0.02 0.04 0.06 \n",
      "0.03 0.06 0.09 \n",
      "\n",
      "The matrix C=AB is : \n",
      "\n",
      "0.0 0.0 0.0 \n",
      "0.0007999999999999999 0.0015999999999999999 0.0024 \n",
      "0.0015999999999999999 0.0031999999999999997 0.0048 \n",
      "\n",
      "The sum of all elements of matrix C is : 0.014\n",
      "The time taken to execute the code is : 0:00:03.488446\n"
     ]
    }
   ],
   "source": [
    "import numpy as np\n",
    "from datetime import datetime\n",
    "\n",
    "ti=datetime.now()\n",
    "N=int(input(\"Enter the size of the NxN square matrix : \"))\n",
    "\n",
    "A=np.empty((N,N))\n",
    "for i in range(N):\n",
    "    for j in range(N):\n",
    "        A[i][j]=i*j/100\n",
    "\n",
    "print()\n",
    "print('The matrix A is :')\n",
    "print()\n",
    "for i in range(N):                  # Iterates over each row\n",
    "    for j in range(N):              # Iterates over each column in the row\n",
    "        print(A[i][j], end=' ')     # Prints the element without a newline with a space\n",
    "    print()                         # Prints a newline after finishing the row\n",
    "\n",
    "B=np.empty((N,N))\n",
    "for i in range(N):\n",
    "    for j in range(N):\n",
    "        B[i][j]=(i+1)*(j+1)/100\n",
    "\n",
    "print()\n",
    "print('The matrix B is : ')\n",
    "print()\n",
    "for i in range(N):                  # Iterates over each row\n",
    "    for j in range(N):              # Iterates over each column in the row\n",
    "        print(B[i][j], end=' ')     # Prints the element without a newline with a space\n",
    "    print()                         # Prints a newline after finishing the row\n",
    "\n",
    "C=np.zeros((N,N))\n",
    "for i in range(N):\n",
    "    for j in range(N):\n",
    "        for k in range(N):\n",
    "            C[i][j]+=A[i][k]*B[k][j]\n",
    "\n",
    "print()\n",
    "print('The matrix C=AB is : ')\n",
    "print()\n",
    "for i in C:\n",
    "    for j in i:\n",
    "        print(j, end=' ')\n",
    "    print()\n",
    "\n",
    "S=0\n",
    "for i in range(N):\n",
    "    for j in range(N):\n",
    "        S+=C[i][j]\n",
    "\n",
    "tf=datetime.now()\n",
    "\n",
    "print()\n",
    "print('The sum of all elements of matrix C is :',np.round(S,3))\n",
    "print('The time taken to execute the code is :',tf-ti)\n"
   ]
  },
  {
   "cell_type": "markdown",
   "id": "57a0e7c2-1216-4610-9cb2-b822b07872cc",
   "metadata": {},
   "source": [
    "# Question 2\n",
    "Implement Sieve of Eratosthenes algorithm to generate prime numbers less than or equal a number N"
   ]
  },
  {
   "cell_type": "code",
   "execution_count": 4,
   "id": "3113eb87-cf56-417c-b041-e2a93aa67812",
   "metadata": {},
   "outputs": [
    {
     "name": "stdin",
     "output_type": "stream",
     "text": [
      "Enter the upper limit of number :  20\n"
     ]
    },
    {
     "name": "stdout",
     "output_type": "stream",
     "text": [
      "The prime numbers within 20 are :\n",
      "2,3,5,7,11,13,17,19"
     ]
    }
   ],
   "source": [
    "# Creating a list that can hold numbers from 2 to N\n",
    "N=int(input(\"Enter the upper limit of number : \"))\n",
    "numbers=[]\n",
    "\n",
    "if N>=2:\n",
    "    for i in range(N-1):  #Excluding '1' from the list  \n",
    "        numbers.append(1)\n",
    "\n",
    "    #Flagging primes as 1 and non-primes as 0 within the created list\n",
    "    prime=2\n",
    "    while prime*prime<=N:\n",
    "        if numbers[prime-2]==1:\n",
    "            for i in range(prime*prime,N+1,prime):\n",
    "                numbers[i-2]=0\n",
    "        prime+=1\n",
    "    # Printing the prime numbers according to the index position of 1 in the list\n",
    "    print('The prime numbers within',N,'are :')\n",
    "    for i in range(len(numbers)):\n",
    "            prime_numbers=[i+2 for i in range(len(numbers)) if numbers[i]==1]      # list comprehension\n",
    "\n",
    "    for i in range(len(prime_numbers)):\n",
    "        if i==len(prime_numbers)-1:              # Check if it's the last prime number\n",
    "            print(prime_numbers[i], end='')      # No comma for the last prime number\n",
    "        else:\n",
    "            print(prime_numbers[i], end=',')     # Comma for other prime numbers\n",
    "\n",
    "else:\n",
    "    print('No prime numbers within',N)"
   ]
  },
  {
   "cell_type": "markdown",
   "id": "3de12226-8e41-4e8d-8a19-cacd9f4b9a2a",
   "metadata": {},
   "source": [
    "# Question 3(a)\n",
    "Calculate the velocity and acceleration of the object using finite difference approximation of coordinates and time using the gps data from the csv file"
   ]
  },
  {
   "cell_type": "code",
   "execution_count": 1,
   "id": "16de65e5-7909-4fa5-b666-a3df6a1e0d15",
   "metadata": {},
   "outputs": [
    {
     "name": "stdout",
     "output_type": "stream",
     "text": [
      "Velocity between time t = 0.0 s and time 2.0 s is 1.6 m/s\n",
      "Acceleration between time t = 1.0 s and time 2.0 s is 0.2 m/s^2\n",
      "\n",
      "Velocity between time t = 1.0 s and time 3.0 s is 1.65 m/s\n",
      "Acceleration between time t = 2.0 s and time 3.0 s is -0.1 m/s^2\n",
      "\n",
      "Velocity between time t = 2.0 s and time 4.0 s is 1.45 m/s\n",
      "Acceleration between time t = 3.0 s and time 4.0 s is -0.3 m/s^2\n",
      "\n",
      "Velocity between time t = 3.0 s and time 5.0 s is 1.55 m/s\n",
      "Acceleration between time t = 4.0 s and time 5.0 s is 0.5 m/s^2\n",
      "\n",
      "Velocity between time t = 4.0 s and time 6.0 s is 1.45 m/s\n",
      "Acceleration between time t = 5.0 s and time 6.0 s is -0.7 m/s^2\n",
      "\n",
      "Velocity between time t = 5.0 s and time 7.0 s is 1.3 m/s\n",
      "Acceleration between time t = 6.0 s and time 7.0 s is 0.4 m/s^2\n",
      "\n",
      "Velocity between time t = 6.0 s and time 8.0 s is 1.4 m/s\n",
      "Acceleration between time t = 7.0 s and time 8.0 s is -0.2 m/s^2\n",
      "\n",
      "Velocity between time t = 7.0 s and time 9.0 s is 1.25 m/s\n",
      "Acceleration between time t = 8.0 s and time 9.0 s is -0.1 m/s^2\n",
      "\n"
     ]
    }
   ],
   "source": [
    "import numpy as np\n",
    "import pandas as pd\n",
    "\n",
    "#Reading the data from the csv file (Use raw string to specify path and avoid backslash error, otherwise python interprets it as escape character)\n",
    "datafile_1000=pd.read_csv(r'S:\\Documents\\Github\\Computational-Physics-PG\\Assignment Lab 3/Python Files/gps_data.csv',header=0,usecols=[\"Coordinate (m)\",\"Time (s)\"])\n",
    "coordinate_array=datafile_1000[\"Coordinate (m)\"].to_numpy()\n",
    "time_array=datafile_1000[\"Time (s)\"].to_numpy()\n",
    "#We can also load a txt data file using np.loadtxt(data_file.txt,skiprows=0) function which creates a multidimensional array consisting of different column data of the file as columns in the array\n",
    "\n",
    "\n",
    "#Calculating the velocity and acceleration using finite difference approximation\n",
    "def kinematics(i,x,t):\n",
    "    v=(x[i+1]-x[i-1])/(t[i+1]-t[i-1])\n",
    "    a=(2/((t[i+1]-t[i-1])))*((x[i+1]-x[i])/(t[i+1]-t[i])-(x[i]-x[i-1])/(t[i]-t[i-1]))\n",
    "    return v,a\n",
    "\n",
    "for i in range(1,len(coordinate_array)-1):         #we have to exclude last 2 elements. Last one is already excluded as i goes upto len(coordinate_array)-1 by default. 2nd last one is manually excluded by subtracting 1\n",
    "    v,a=kinematics(i,coordinate_array,time_array)\n",
    "    print(\"Velocity between time t =\",time_array[i-1],'s and time',time_array[i+1],\"s is\",np.round(v,3),'m/s')\n",
    "    print(\"Acceleration between time t =\",time_array[i],'s and time',time_array[i+1],\"s is\",np.round(a,3),'m/s^2')\n",
    "    print()\n"
   ]
  },
  {
   "cell_type": "markdown",
   "id": "ac9a1da2-d23b-4d71-a5b7-c87da4312848",
   "metadata": {},
   "source": [
    "# Question 3(b)\n",
    "Test implementation of finite difference approximation in the case of constant velocity V. Set t0 = 0; t1 = 0:5; t2 = 1:5 and t3 = 2:2, and xi=V*ti "
   ]
  },
  {
   "cell_type": "code",
   "execution_count": 4,
   "id": "90919521-7568-4655-914b-5c2bfce590a2",
   "metadata": {},
   "outputs": [
    {
     "name": "stdin",
     "output_type": "stream",
     "text": [
      "Enter the value of constant velocity V :  7.24\n"
     ]
    },
    {
     "name": "stdout",
     "output_type": "stream",
     "text": [
      "Actual Velocity was defined by : 7.24 m/s\n",
      "Velocity at time t = 0.5 s is 7.24 m/s\n",
      "Test case for velocity passed\n",
      "\n",
      "Actual Velocity was defined by : 7.24 m/s\n",
      "Velocity at time t = 1.5 s is 7.24 m/s\n",
      "Test case for velocity passed\n",
      "\n"
     ]
    }
   ],
   "source": [
    "import numpy as np\n",
    "\n",
    "V=eval(input(\"Enter the value of constant velocity V : \"))     \n",
    "t=[0,0.5,1.5,2.2]\n",
    "x=[V*ti for ti in t]\n",
    "\n",
    "def kinematics(i,x,t):\n",
    "    v=(x[i+1]-x[i-1])/(t[i+1]-t[i-1])\n",
    "    return v\n",
    "\n",
    "def test_kinematics():\n",
    "    for i in range(1,len(x)-1):\n",
    "        v=kinematics(i,x,t)\n",
    "        if abs(v-V)<=0.0001: \n",
    "            print('Actual Velocity was defined by :',V,'m/s')\n",
    "            print(\"Velocity at time t =\",t[i],\"s is\",np.round(v,3),'m/s')\n",
    "            print(\"Test case for velocity passed\")\n",
    "            print()\n",
    "        else:\n",
    "            print('Actual Velocity was defined by :',V,'m/s')\n",
    "            print(\"Velocity at time t =\",t[i],\"s is\",np.round(v,3),'m/s')\n",
    "            print('Test case for velocity failed')\n",
    "            print()\n",
    "\n",
    "test_kinematics()\n"
   ]
  },
  {
   "cell_type": "markdown",
   "id": "94fb0d79-c9b8-48c1-a4a3-88ffd1ce1634",
   "metadata": {},
   "source": [
    "# Question 4(a) \n",
    "Write a function count_pairs(dna,pair) that returns the number of occurrences of a pair of characters (pair) in a DNA string (dna). For example, calling the function with dna as 'ACT-GCTATCCATT' and pair as 'AT' will return 2"
   ]
  },
  {
   "cell_type": "code",
   "execution_count": 5,
   "id": "956f2518-7a12-4481-a41b-4e124591e24c",
   "metadata": {},
   "outputs": [
    {
     "name": "stdin",
     "output_type": "stream",
     "text": [
      "Enter the DNA sequence :  ACTGCTATCCATT\n",
      "Enter the pair to be counted in the DNA sequence :  AT\n"
     ]
    },
    {
     "name": "stdout",
     "output_type": "stream",
     "text": [
      "The pair 'AT' appears 2 times in the main string.\n"
     ]
    }
   ],
   "source": [
    "def count_pairs(dna,pair):\n",
    "    count=0\n",
    "    n=len(pair)\n",
    "    \n",
    "    # Extract successive pairs of characters from the main string and compare them to the substring\n",
    "    for i in range(len(dna)-1):           # Stop at len(dna)-1 to avoid index out of range\n",
    "        if dna[i:i+n]==pair:  \n",
    "            count+=1              \n",
    "    return count\n",
    "\n",
    "dna=input('Enter the DNA sequence : ')\n",
    "pair=input('Enter the pair to be counted in the DNA sequence : ')\n",
    "result=count_pairs(dna,pair)\n",
    "print(f\"The pair {pair} appears {result} times in the main string\")"
   ]
  },
  {
   "cell_type": "markdown",
   "id": "ea0b43fb-77b6-4aa8-95a3-4ebca454b516",
   "metadata": {},
   "source": [
    "# Question 4(b) \n",
    "Count how many times a certain string appears in another string. For example, the function returns 3 when called with the DNA string 'ACGTTACGGAACG' and the substring 'ACG'"
   ]
  },
  {
   "cell_type": "code",
   "execution_count": 1,
   "id": "8af5b2d8-7758-473e-9bc5-dbe5109fc939",
   "metadata": {},
   "outputs": [
    {
     "name": "stdin",
     "output_type": "stream",
     "text": [
      "Enter the DNA sequence :  ACGTTACGGAACG\n",
      "Enter the pair to be counted in the DNA sequence :  ACG\n"
     ]
    },
    {
     "name": "stdout",
     "output_type": "stream",
     "text": [
      "The substring ACG appears 3 times in the main string\n"
     ]
    }
   ],
   "source": [
    "def count_pairs(main_string,sub_string):\n",
    "    count=0\n",
    "    n=len(sub_string)\n",
    "    \n",
    "    # Extract successive substrings from the main string and compare them to the substring\n",
    "    for i in range(len(main_string)-n+1):  \n",
    "        if main_string[i]==sub_string[0]:  \n",
    "            if main_string[i+1:i+n]==sub_string[1:]:  # Check the rest of the substring excluding 1st character\n",
    "                count+=1  \n",
    "    return count\n",
    "\n",
    "dna=input('Enter the DNA sequence : ')\n",
    "subdna=input('Enter the pair to be counted in the DNA sequence : ')\n",
    "result=count_pairs(dna,subdna)\n",
    "#print(f\"The substring {subdna} appears {result} times in the main string\")\n",
    "print(\"The substring \" + subdna + \" appears \" + str(result) + \" times in the main string\") #string concatenation i.e adding strings together"
   ]
  },
  {
   "cell_type": "code",
   "execution_count": null,
   "id": "53ab58ce-1ef3-48ca-9d61-964fad5f0bd7",
   "metadata": {},
   "outputs": [],
   "source": []
  }
 ],
 "metadata": {
  "kernelspec": {
   "display_name": "Python 3 (ipykernel)",
   "language": "python",
   "name": "python3"
  },
  "language_info": {
   "codemirror_mode": {
    "name": "ipython",
    "version": 3
   },
   "file_extension": ".py",
   "mimetype": "text/x-python",
   "name": "python",
   "nbconvert_exporter": "python",
   "pygments_lexer": "ipython3",
   "version": "3.13.3"
  }
 },
 "nbformat": 4,
 "nbformat_minor": 5
}
