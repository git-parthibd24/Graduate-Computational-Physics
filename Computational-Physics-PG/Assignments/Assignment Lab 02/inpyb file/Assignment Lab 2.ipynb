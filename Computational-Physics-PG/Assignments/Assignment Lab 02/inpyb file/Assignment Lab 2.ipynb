{
 "cells": [
  {
   "cell_type": "markdown",
   "id": "4c92b573-1f6c-4651-a66d-0ccc3b85ad37",
   "metadata": {},
   "source": [
    "# Question 1_Method 1\n",
    "Find the nth Fibonacci number and the ratio of the nth Fibonacci number to the (n-1)th Fibonacci number. (Approaches Golden Mean when n is large)\n",
    "Function Recurssion Method"
   ]
  },
  {
   "cell_type": "code",
   "execution_count": 3,
   "id": "bbd1b3ab-ec75-4057-98bd-a086cb7585ef",
   "metadata": {},
   "outputs": [
    {
     "name": "stdin",
     "output_type": "stream",
     "text": [
      "Enter index of Fibonacci series (starting from 1) :  5\n"
     ]
    },
    {
     "name": "stdout",
     "output_type": "stream",
     "text": [
      "Fibonacci number at index 5 is : 3\n",
      "Fibonacci number at index 4 is : 2\n",
      "The ratio of Fibonacci number at index 5 to Fibonacci number at index 4 is :  1.50\n"
     ]
    }
   ],
   "source": [
    "#Question 1\n",
    "#Find the nth Fibonacci number and the ratio of the nth Fibonacci number to the (n-1)th Fibonacci number. (Approaches Golden Mean when n is large)\n",
    "#Function Recurssion Method\n",
    "\n",
    "f='Y' \n",
    "while f=='Y' or f=='y':\n",
    "    n=eval(input('Enter index of Fibonacci series (starting from 1) : '))\n",
    "    if n<1 or n//1!=n:\n",
    "        print('Wrong Input')\n",
    "        f=input('Do you wish to retry? (Y/N) : ')  \n",
    "   \n",
    "    if n==1:\n",
    "        print('Fibonacci number at index',n,'is :',n-1)\n",
    "        print('Fibonacci number at index',n-1,'is not defined')\n",
    "        print('The ratio of Fibonacci number at index',n,'to Fibonacci number at index',n-1,'is not defined')\n",
    "        break\n",
    "\n",
    "    if n==2:\n",
    "        print('Fibonacci number at index',n,'is :',n-1)\n",
    "        print('Fibonacci number at index',n-1,'is :',n-2)\n",
    "        print('The ratio of Fibonacci number at index',n,'to Fibonacci number at index',n-1,'is not defined')\n",
    "        break\n",
    "\n",
    "    if n>=3:\n",
    "        def fib(n):\n",
    "            if n==1:\n",
    "                return 0\n",
    "            elif n==2:\n",
    "                return 1\n",
    "            else:\n",
    "                return fib(n-1)+fib(n-2)\n",
    "        \n",
    "        print('Fibonacci number at index',n,'is :',fib(n))\n",
    "        print('Fibonacci number at index',n-1,'is :',fib(n-1))\n",
    "        print('The ratio of Fibonacci number at index',n,'to Fibonacci number at index',n-1,'is : ',format(fib(n)/fib(n-1),'0.2f'))\n",
    "        break"
   ]
  },
  {
   "cell_type": "markdown",
   "id": "ce5dfcb2-9368-4afd-b3d8-9ae77b277217",
   "metadata": {},
   "source": [
    "# Question 1_Method 2\n",
    "Find the nth Fibonacci number and the ratio of the nth Fibonacci number to the (n-1)th Fibonacci number. (Approaches Golden Mean when n is large)\n",
    "Explicitly evaluation of all terms of Fibonacci Series using list"
   ]
  },
  {
   "cell_type": "code",
   "execution_count": 2,
   "id": "24034bc5-4fd6-40a1-95ca-6b9a699606ee",
   "metadata": {},
   "outputs": [
    {
     "name": "stdin",
     "output_type": "stream",
     "text": [
      "Enter index of Fibonacci series (starting from 1) :  8\n"
     ]
    },
    {
     "name": "stdout",
     "output_type": "stream",
     "text": [
      "Fibonacci number at index 8 is : 13\n",
      "Fibonacci number at index 7 is : 8\n",
      "The ratio of Fibonacci number at index 8 to Fibonacci number at index 7 is :  1.62\n"
     ]
    }
   ],
   "source": [
    "fib=[0,1]\n",
    "f='Y' \n",
    "while f=='Y' or f=='y':\n",
    "    n=eval(input('Enter index of Fibonacci series (starting from 1) : '))\n",
    "    if n<1 or n//1!=n:\n",
    "        print('Wrong Input')\n",
    "        f=input('Do you wish to retry? (Y/N) : ')  \n",
    "    \n",
    "    if n==2:\n",
    "        print('Fibonacci number at index',n,'is :',fib[1])\n",
    "        print('Fibonacci number at index',n-1,'is :',fib[0])\n",
    "        print('The ratio of Fibonacci number at index',n,'to Fibonacci number at index',n-1,'is not defined')\n",
    "        break\n",
    "\n",
    "    if n==1:\n",
    "        print('Fibonacci number at index',n,'is :',fib[0])\n",
    "        print('Fibonacci number at index',n-1,'is not defined')\n",
    "        print('The ratio of Fibonacci number at index',n,'to Fibonacci number at index',n-1,'is not defined')\n",
    "        break\n",
    "    \n",
    "    else:\n",
    "        for i in range(2,n):\n",
    "            fib.append(fib[i-1]+fib[i-2])\n",
    "\n",
    "        print('Fibonacci number at index',n,'is :',fib[-1])\n",
    "        print('Fibonacci number at index',n-1,'is :',fib[-2])\n",
    "        print('The ratio of Fibonacci number at index',n,'to Fibonacci number at index',n-1,'is : ',format(fib[-1]/fib[-2],'0.2f'))\n",
    "        break"
   ]
  },
  {
   "cell_type": "markdown",
   "id": "d48c86aa-72b3-48ea-a9c5-f4caeaa39bac",
   "metadata": {},
   "source": [
    "# Question 1_Method 3\n",
    "Find the nth Fibonacci number and the ratio of the nth Fibonacci number to the (n-1)th Fibonacci number. (Approaches Golden Mean when n is large)\n",
    "Explicitly evaluation of all terms of Fibonacci Series using dynamically updated variables"
   ]
  },
  {
   "cell_type": "code",
   "execution_count": 2,
   "id": "8590c680-09cd-42c4-a97d-9c7785735bc4",
   "metadata": {},
   "outputs": [
    {
     "name": "stdin",
     "output_type": "stream",
     "text": [
      "Enter index of Fibonacci series (starting from 1) :  14\n"
     ]
    },
    {
     "name": "stdout",
     "output_type": "stream",
     "text": [
      "Fibonacci number at index 14 is : 233\n",
      "Fibonacci number at index 13 is : 144\n",
      "The ratio of Fibonacci number at index 14 to Fibonacci number at index 13 is :  1.62\n"
     ]
    }
   ],
   "source": [
    "#Question 1\n",
    "#Find the nth Fibonacci number and the ratio of the nth Fibonacci number to the (n-1)th Fibonacci number. (Approaches Golden Mean when n is large)\n",
    "#Explicitly evaluation of all terms of Fibonacci Series using dynamiccally updated variables\n",
    "\n",
    "f='Y' \n",
    "while f=='Y' or f=='y':\n",
    "    n=eval(input('Enter index of Fibonacci series (starting from 1) : '))\n",
    "    a,b=0,1\n",
    "    if n<1 or n//1!=n:\n",
    "        print('Wrong Input')\n",
    "        f=input('Do you wish to retry? (Y/N) : ')  \n",
    "\n",
    "    if n==3:\n",
    "        print('Fibonacci number at index',n,'is :',b+a)\n",
    "        print('Fibonacci number at index',n-1,'is :',b)\n",
    "        print('The ratio of Fibonacci number at index',n,'to Fibonacci number at index',n-1,'is :',(b+a)/b)\n",
    "        break\n",
    "    \n",
    "    if n==2:\n",
    "        print('Fibonacci number at index',n,'is :',b)\n",
    "        print('Fibonacci number at index',n-1,'is :',a)\n",
    "        print('The ratio of Fibonacci number at index',n,'to Fibonacci number at index',n-1,'is not defined')\n",
    "        break\n",
    "\n",
    "    if n==1:\n",
    "        print('Fibonacci number at index',n,'is :',a)\n",
    "        print('Fibonacci number at index',n-1,'is not defined')\n",
    "        print('The ratio of Fibonacci number at index',n,'to Fibonacci number at index',n-1,'is not defined')\n",
    "        break\n",
    "    \n",
    "    else:\n",
    "        def fibo(n):\n",
    "            a,b=0,1               #When global and local variables have same name, global variable can't be modified in a function. So we have to define the variables again in the function. We can also access the global variable inside function by copying it to a local variable as x=globals()['a'] or by using global a,b in the function          \n",
    "            for i in range(n-2):  #can't perform n=3 as it will give 0 iterations for n-1 th term\n",
    "                c=a+b\n",
    "                a=b               #a is read as local here but it is read as global in c=a+b if they are not defined locally in the function, so they contradicts and a is treated as local variable\n",
    "                b=c               #b=b+a means modification of global variable b in local scope having same name if b is already not defined in local scope\n",
    "            return c              #local variables can be accessed outside the function by returning them. If global and local variable have same name, local variable is always preferred inside a function\n",
    "            \n",
    "        print('Fibonacci number at index',n,'is :',fibo(n))\n",
    "        print('Fibonacci number at index',n-1,'is :',fibo(n-1))   #We can also get this simply by printing updated b and use of function can be avoided in this case.\n",
    "        print('The ratio of Fibonacci number at index',n,'to Fibonacci number at index',n-1,'is : ',format(fibo(n)/fibo(n-1),'0.2f'))\n",
    "        break"
   ]
  },
  {
   "cell_type": "markdown",
   "id": "ba9adbc2-b01b-4d69-9422-eda83ee13156",
   "metadata": {},
   "source": [
    "# Question 2\n",
    "Check if 3 points are collinear or not"
   ]
  },
  {
   "cell_type": "code",
   "execution_count": 4,
   "id": "89a02037-84da-4cc9-8bd1-bf8871e3e1b6",
   "metadata": {},
   "outputs": [
    {
     "name": "stdin",
     "output_type": "stream",
     "text": [
      "Enter the first point (x,y):  1,2\n",
      "Enter the second point (x,y):  2,3\n",
      "Enter the third point (x,y):  3,4\n"
     ]
    },
    {
     "name": "stdout",
     "output_type": "stream",
     "text": [
      "The three points are collinear\n"
     ]
    }
   ],
   "source": [
    "x1,y1=eval(input(\"Enter the first point (x,y): \"))\n",
    "x2,y2=eval(input(\"Enter the second point (x,y): \"))\n",
    "x3,y3=eval(input(\"Enter the third point (x,y): \"))\n",
    "\n",
    "if (y2-y1)/(x2-x1) == (y3-y2)/(x3-x2):\n",
    "    print(\"The three points are collinear\")\n",
    "else:\n",
    "    print(\"The three points are not collinear\")\n"
   ]
  },
  {
   "cell_type": "markdown",
   "id": "00a793bf-dea4-4ac1-b97c-13783dc14af7",
   "metadata": {},
   "source": [
    "# Question 3\n",
    "Add 1st 10 terms of e^x, x being positive integer"
   ]
  },
  {
   "cell_type": "code",
   "execution_count": 5,
   "id": "743f9740-ea20-4bc7-906f-c03535db0912",
   "metadata": {},
   "outputs": [
    {
     "name": "stdin",
     "output_type": "stream",
     "text": [
      "Enter the number of terms to add :  10\n",
      "Enter the value of x :  1\n"
     ]
    },
    {
     "name": "stdout",
     "output_type": "stream",
     "text": [
      "Sum of first 10 terms of e^x is :  2.7182815255731922\n"
     ]
    }
   ],
   "source": [
    "n=int(input(\"Enter the number of terms to add : \"))\n",
    "x=int(input(\"Enter the value of x : \"))\n",
    "\n",
    "def factorial(n):                    #We can also use math.factorial\n",
    "    if n == 0:\n",
    "        return 1\n",
    "    else:\n",
    "        return n*factorial(n-1)\n",
    "    \n",
    "def e_x(x,n):\n",
    "    sum = 0\n",
    "    for i in range(n):\n",
    "        sum += x**i/factorial(i)\n",
    "    return sum\n",
    "\n",
    "print('Sum of first',n,'terms of e^x is : ',e_x(1,n))"
   ]
  },
  {
   "cell_type": "markdown",
   "id": "b1cb0225-0374-4bfc-8ce3-a33cebf41e6a",
   "metadata": {},
   "source": [
    "# Question 4\n",
    "Time taken for the yolk of an egg to reach a certain critical temperature after which the protein starts to coagulate\n"
   ]
  },
  {
   "cell_type": "code",
   "execution_count": 6,
   "id": "ef0ec6bd-965e-4f49-b155-9cb2dfa17a32",
   "metadata": {},
   "outputs": [
    {
     "name": "stdin",
     "output_type": "stream",
     "text": [
      "Enter refrigerator temperature :  4\n"
     ]
    },
    {
     "name": "stdout",
     "output_type": "stream",
     "text": [
      "Time taken for the yolk of an egg to reach a certain critical temperature after which the protein starts to coagulate is 396.5763425294507 seconds\n"
     ]
    }
   ],
   "source": [
    "import numpy as np\n",
    "\n",
    "M=67 #mass of the large egg in grams\n",
    "p=1.038 #density of the egg in g/cm^3\n",
    "c=3.7 #specific heat capacity of the egg in J/g-K\n",
    "k=0.0054 #thermal conductivity of the egg in W/cm-K\n",
    "\n",
    "Tw=100 #temperature of the boiling water in degree Celsius\n",
    "Ty=70 #temperature of the centre of egg in degree Celsius\n",
    "T0=eval(input('Enter refrigerator temperature : ')) #temperature of the egg in the refrigerator in degree Celsius\n",
    "\n",
    "t=(M**(2/3)*c*p**(1/3)/(k*np.pi**2*(4*np.pi/3)**(2/3)))*np.log(0.76*(T0-Tw)/(Ty-Tw))\n",
    "print(\"Time taken for the yolk of an egg to reach a certain critical temperature after which the protein starts to coagulate is\",t,\"seconds\")"
   ]
  },
  {
   "cell_type": "code",
   "execution_count": null,
   "id": "d68bb742-045a-4835-adfa-dbd2adbd982d",
   "metadata": {},
   "outputs": [],
   "source": []
  }
 ],
 "metadata": {
  "kernelspec": {
   "display_name": "Python 3 (ipykernel)",
   "language": "python",
   "name": "python3"
  },
  "language_info": {
   "codemirror_mode": {
    "name": "ipython",
    "version": 3
   },
   "file_extension": ".py",
   "mimetype": "text/x-python",
   "name": "python",
   "nbconvert_exporter": "python",
   "pygments_lexer": "ipython3",
   "version": "3.13.2"
  }
 },
 "nbformat": 4,
 "nbformat_minor": 5
}
