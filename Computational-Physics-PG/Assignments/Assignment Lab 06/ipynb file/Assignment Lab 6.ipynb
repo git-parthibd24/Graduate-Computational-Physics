{
 "cells": [
  {
   "cell_type": "markdown",
   "id": "dbbe6a19-0e72-4fc6-a9f7-abd57621c144",
   "metadata": {},
   "source": [
    "# Question 1\n",
    "Handling improper integral by mapping x to z (z=x/(c+x))"
   ]
  },
  {
   "cell_type": "code",
   "execution_count": 14,
   "id": "6050fa90-b41d-42e4-b7d3-836c5b65f6d7",
   "metadata": {},
   "outputs": [
    {
     "name": "stdout",
     "output_type": "stream",
     "text": [
      "The value of integral is : 6.4941\n"
     ]
    },
    {
     "name": "stderr",
     "output_type": "stream",
     "text": [
      "C:\\Users\\parth\\AppData\\Local\\Temp\\ipykernel_14320\\4253244372.py:17: RuntimeWarning: overflow encountered in exp\n",
      "  return ((z*c)**3)*c/((1-z)**5*(np.exp(z*c/(1-z))-1))\n"
     ]
    }
   ],
   "source": [
    "import numpy as np\n",
    "\n",
    "def f_old_integrand(x):\n",
    "    return x**3/(np.exp(x)-1)  #Integral runs from 0 to inf\n",
    "\n",
    "def f_old_derivative(x):\n",
    "    return ((np.exp(x)*3*x**2)-(x**3*(np.exp(x))))/(np.exp(x)-1)**2\n",
    "\n",
    "X=np.linspace(0.01,10,10000)\n",
    "for i in range(len(X)):\n",
    "    if f_old_derivative(X[i])*f_old_derivative(X[i+1])<0:   #point of maxima. Its good to use c near the maximum point for f_old_integrand \n",
    "        c=X[i]\n",
    "        break\n",
    "\n",
    "#z=x/(c+x) is applied transformation\n",
    "def f_new_integrand(z):\n",
    "    return ((z*c)**3)*c/((1-z)**5*(np.exp(z*c/(1-z))-1))\n",
    "\n",
    "a=0.01\n",
    "b=0.99\n",
    "S0,S=0,0\n",
    "n=10\n",
    "              \n",
    "while True:\n",
    "    h=(b-a)/n\n",
    "    a=a*0.7\n",
    "    b=b+(1-b)*0.4\n",
    "    S=(2*sum([f_new_integrand(a+i*h) for i in range (1,n)])+f_new_integrand(a)+f_new_integrand(b))*(h/2)                \n",
    "    if abs(S-S0)<0.0001:\n",
    "        break\n",
    "    n=n+1\n",
    "    S0=S\n",
    "    \n",
    "print('The value of integral is :',format(S,'0.4f'))"
   ]
  },
  {
   "cell_type": "markdown",
   "id": "28748d8e-878e-4046-bb69-30cb5f696c3a",
   "metadata": {},
   "source": [
    "# Question 2\n",
    "Handling error function"
   ]
  },
  {
   "cell_type": "code",
   "execution_count": 1,
   "id": "4b39ad5b-1ac1-41ce-83d3-3b931b49b7d8",
   "metadata": {},
   "outputs": [
    {
     "name": "stdout",
     "output_type": "stream",
     "text": [
      "The value of integral for upper limit 0.0 is : 0.0000\n",
      "\n",
      "The value of integral for upper limit 0.1 is : 0.0996\n",
      "\n",
      "The value of integral for upper limit 0.2 is : 0.1973\n",
      "\n",
      "The value of integral for upper limit 0.3 is : 0.2911\n",
      "\n",
      "The value of integral for upper limit 0.4 is : 0.3796\n",
      "\n",
      "The value of integral for upper limit 0.5 is : 0.4612\n",
      "\n",
      "The value of integral for upper limit 0.6 is : 0.5350\n",
      "\n",
      "The value of integral for upper limit 0.7 is : 0.6006\n",
      "\n",
      "The value of integral for upper limit 0.8 is : 0.6576\n",
      "\n",
      "The value of integral for upper limit 0.9 is : 0.7061\n",
      "\n",
      "The value of integral for upper limit 1.0 is : 0.7467\n",
      "\n",
      "The value of integral for upper limit 1.1 is : 0.7800\n",
      "\n",
      "The value of integral for upper limit 1.2 is : 0.8067\n",
      "\n",
      "The value of integral for upper limit 1.3 is : 0.8277\n",
      "\n",
      "The value of integral for upper limit 1.4 is : 0.8439\n",
      "\n",
      "The value of integral for upper limit 1.5 is : 0.8561\n",
      "\n",
      "The value of integral for upper limit 1.6 is : 0.8652\n",
      "\n",
      "The value of integral for upper limit 1.7 is : 0.8718\n",
      "\n",
      "The value of integral for upper limit 1.8 is : 0.8765\n",
      "\n",
      "The value of integral for upper limit 1.9 is : 0.8798\n",
      "\n",
      "The value of integral for upper limit 2.0 is : 0.8820\n",
      "\n",
      "The value of integral for upper limit 2.1 is : 0.8835\n",
      "\n",
      "The value of integral for upper limit 2.2 is : 0.8845\n",
      "\n",
      "The value of integral for upper limit 2.3 is : 0.8851\n",
      "\n",
      "The value of integral for upper limit 2.4 is : 0.8855\n",
      "\n",
      "The value of integral for upper limit 2.5 is : 0.8858\n",
      "\n",
      "The value of integral for upper limit 2.6 is : 0.8859\n",
      "\n",
      "The value of integral for upper limit 2.7 is : 0.8860\n",
      "\n",
      "The value of integral for upper limit 2.8 is : 0.8861\n",
      "\n",
      "The value of integral for upper limit 2.9 is : 0.8861\n",
      "\n",
      "The value of integral for upper limit 3.0 is : 0.8861\n",
      "\n"
     ]
    },
    {
     "data": {
      "image/png": "[encoded data removed]",
      "text/plain": [
       "<Figure size 640x480 with 1 Axes>"
      ]
     },
     "metadata": {},
     "output_type": "display_data"
    }
   ],
   "source": [
    "import numpy as np\n",
    "import matplotlib.pyplot as plt\n",
    "\n",
    "def f(x):\n",
    "    return np.exp(-x**2)\n",
    "\n",
    "a=0\n",
    "b=np.arange(0,3.1,0.1)\n",
    "\n",
    "def simps(a,b,f):\n",
    "    S0=0\n",
    "    S1=f(a)+f(b)\n",
    "    n=2\n",
    "    while abs(S1-S0)>0.0000001:\n",
    "        S0=S1\n",
    "        h=(b-a)/n\n",
    "        k=4\n",
    "        for i in range(1,n):                                     \n",
    "            S1=S1+k*f(a+i*h)\n",
    "            k=6-k\n",
    "        S1=S1*(h/3)\n",
    "        n=n+2\n",
    "    return S1\n",
    "\n",
    "S1_list=[]\n",
    "for i in range(len(b)):\n",
    "    S1=simps(a,b[i],f)\n",
    "    S1_list.append(S1)\n",
    "    print('The value of integral for upper limit',np.round(b[i],3),'is :',format(S1,'0.4f'))\n",
    "    print()\n",
    "\n",
    "plt.plot(b,S1_list,'bo')\n",
    "plt.axhline(color='black')\n",
    "plt.axvline(color='black')\n",
    "plt.xlabel('Upper limit of erf() integral')\n",
    "plt.ylabel('Integral Values')\n",
    "plt.show()"
   ]
  }
 ],
 "metadata": {
  "kernelspec": {
   "display_name": "Python 3 (ipykernel)",
   "language": "python",
   "name": "python3"
  },
  "language_info": {
   "codemirror_mode": {
    "name": "ipython",
    "version": 3
   },
   "file_extension": ".py",
   "mimetype": "text/x-python",
   "name": "python",
   "nbconvert_exporter": "python",
   "pygments_lexer": "ipython3",
   "version": "3.13.2"
  }
 },
 "nbformat": 4,
 "nbformat_minor": 5
}
