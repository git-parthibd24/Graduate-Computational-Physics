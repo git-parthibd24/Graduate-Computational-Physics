{
 "cells": [
  {
   "cell_type": "markdown",
   "id": "e8a9fd70-8bd4-4478-81f8-0728677c2f21",
   "metadata": {},
   "source": [
    "# Question 1\n",
    "Linear Interpolation by creating dataset"
   ]
  },
  {
   "cell_type": "code",
   "execution_count": 1,
   "id": "c8edaa3a-c674-4d83-b1d0-e5192483a3fc",
   "metadata": {},
   "outputs": [
    {
     "name": "stdin",
     "output_type": "stream",
     "text": [
      "Enter Interpolating point :  -0.45\n"
     ]
    },
    {
     "name": "stdout",
     "output_type": "stream",
     "text": [
      "\n",
      "The value of function and error at -0.45  when no. of mesh points is 2 is : 0.71555 and 1.49226\n",
      "\n",
      "The value of function and error at -0.45  when no. of mesh points is 4 is : -0.60092 and 0.17579\n",
      "\n",
      "The value of function and error at -0.45  when no. of mesh points is 8 is : -0.62304 and 0.15367\n",
      "\n",
      "The value of function and error at -0.45  when no. of mesh points is 16 is : -0.71302 and 0.06370\n",
      "\n"
     ]
    }
   ],
   "source": [
    "import numpy as np\n",
    "def interpolate(q,x0):\n",
    "    f=lambda x : np.exp(-x**2)*np.cos(2*np.pi*x)\n",
    "    x_mesh=np.linspace(-1,1,q+1)\n",
    "    y_mesh=f(x_mesh)\n",
    "\n",
    "    if x_mesh[0]<=x0<=x_mesh[-1]:    \n",
    "        for i in range(len(x_mesh)-1):\n",
    "            if x_mesh[i]<x0<x_mesh[i+1]:\n",
    "                y0=((x_mesh[i+1]-x0)/(x_mesh[i+1]-x_mesh[i]))*y_mesh[i]+((x0-x_mesh[i])/(x_mesh[i+1]-x_mesh[i]))*y_mesh[i+1]\n",
    "            elif x0==x_mesh[i]:\n",
    "                y0=y_mesh[i]\n",
    "        error=abs(f(x0)-y0)\n",
    "        print(format(y0,'0.5f'),'and',format(error,'0.5f'))\n",
    "    \n",
    "    else:\n",
    "        print('Value out of range of interpolation')\n",
    "        \n",
    "    return ()\n",
    "\n",
    "x0=eval(input('Enter Interpolating point : '))\n",
    "print()\n",
    "for i in range(1,5):\n",
    "    print('The value of function and error at',x0,' when no. of mesh points is',2**i,'is :',end=' ')\n",
    "    interpolate(2**i,x0)\n",
    "    print()"
   ]
  },
  {
   "cell_type": "markdown",
   "id": "02be05ae-7ac9-42c8-bc6a-82b73ac6993f",
   "metadata": {},
   "source": [
    "# Question 2\n",
    "Lagrange's Interpolation"
   ]
  },
  {
   "cell_type": "code",
   "execution_count": 1,
   "id": "6cc859c4-ac51-467c-9187-70e9b5b9aa0f",
   "metadata": {
    "scrolled": true
   },
   "outputs": [
    {
     "name": "stdin",
     "output_type": "stream",
     "text": [
      "Enter the interpolating point :  np.pi/2\n"
     ]
    },
    {
     "name": "stdout",
     "output_type": "stream",
     "text": [
      "The value of the function at x = 1.5707963267948966 is : 1.0000\n",
      "Error in interpolation is : 0.0000\n",
      "\n",
      "The difference between actual value and interpolated value corresponding to 0.0 is 0.0000\n",
      "\n",
      "The difference between actual value and interpolated value corresponding to 0.7853981633974483 is 0.0000\n",
      "\n",
      "The difference between actual value and interpolated value corresponding to 1.5707963267948966 is 0.0000\n",
      "\n",
      "The difference between actual value and interpolated value corresponding to 2.356194490192345 is 0.0000\n",
      "\n",
      "The difference between actual value and interpolated value corresponding to 3.141592653589793 is 0.0000\n",
      "\n"
     ]
    }
   ],
   "source": [
    "import numpy as np\n",
    "\n",
    "f=lambda x : np.sin(x)\n",
    "X=np.linspace(0,np.pi,5)\n",
    "Y=f(X)\n",
    "\n",
    "def L(i,x0):\n",
    "    product=1.0\n",
    "    for j in range(len(X)):\n",
    "        if i!=j:\n",
    "            product*=(x0-X[j])/(X[i]-X[j])\n",
    "            \n",
    "    return product\n",
    "\n",
    "def y_interpolate(x0):\n",
    "    Sum=0.0\n",
    "    for i in range(len(X)):\n",
    "        product=L(i,x0)\n",
    "        Sum+=product*Y[i]\n",
    "\n",
    "    return Sum\n",
    "\n",
    "def test_error():\n",
    "    for i in X:\n",
    "        error=abs(y_interpolate(i)-f(i))\n",
    "        print('The difference between actual value and interpolated value corresponding to',i,'is',format(error,'0.4f'))\n",
    "        print()\n",
    "        \n",
    "    return \n",
    "\n",
    "x0=eval(input('Enter the interpolating point : '))\n",
    "print('The value of the function at x =',x0,'is :',format(y_interpolate(x0),'0.4f'))\n",
    "print('Error in interpolation is :',format(abs(y_interpolate(x0))-f(x0),'0.4f'))\n",
    "print()\n",
    "test_error()"
   ]
  },
  {
   "cell_type": "markdown",
   "id": "073d17b4-3976-4f65-b7e5-f292c70b19db",
   "metadata": {},
   "source": [
    "# Question 3\n",
    "Neville's Interpolation"
   ]
  },
  {
   "cell_type": "code",
   "execution_count": 2,
   "id": "80d6cec3-5424-4b94-886b-36b43c781573",
   "metadata": {},
   "outputs": [
    {
     "name": "stdin",
     "output_type": "stream",
     "text": [
      "Enter the interpolating point :  np.pi/4\n"
     ]
    },
    {
     "name": "stdout",
     "output_type": "stream",
     "text": [
      "The recurrence table is: \n",
      " -1.000 \n",
      "  1.750   3.320 \n",
      "  4.000   3.034   3.096 \n",
      "  5.750   3.249   3.096   3.096 \n",
      "  7.000   3.963   3.096   3.096   3.096 \n",
      "The value of the function at x = 0.7853981633974483 is : 3.0955\n"
     ]
    }
   ],
   "source": [
    "import numpy as np\n",
    "\n",
    "X=[0,0.5,1,1.5,2]\n",
    "y_val=[-1.00,1.75,4.00,5.75,7.00]\n",
    "\n",
    "Y=np.zeros((len(X),len(X)))\n",
    "x0=eval(input('Enter the interpolating point : '))\n",
    "\n",
    "for i in range(len(X)):\n",
    "    Y[i][0]=y_val[i]\n",
    "\n",
    "#Calculation of recurrence table\n",
    "for j in range(1,len(X)):\n",
    "    for i in range(j,len(X)):\n",
    "        Y[i][j]=((x0-X[i-j])*Y[i][j-1]-(x0-X[i])*Y[i-1][j-1])/(X[i]-X[i-j])\n",
    "\n",
    "\n",
    "#Printing of recurrence table\n",
    "print(\"The recurrence table is: \" )\n",
    "for i in range(len(X)):\n",
    "    for j in range(i+1):\n",
    "        print(format(Y[i][j],'7.3f'),end=' ')\n",
    "    print()\n",
    "\n",
    "print('The value of the function at x =',x0,'is :',format(Y[len(X)-1][len(X)-1],'0.4f'))"
   ]
  },
  {
   "cell_type": "markdown",
   "id": "677a7eca-d854-4f77-ac2e-fa2b148fa391",
   "metadata": {},
   "source": [
    "# Question 4\n",
    "Cubic Spline Interpolation (analytical solution of tridiagonal equations\n",
    "y\"(j-1) * {x(j)-x(j-1)}/6 + y\"(j) * {x(j+1)-x(j-1)}/3 + y\"(j+1) * {x(j+1)-x(j)}/6 = {y(j+1)-y(j)}/{x(j+1)-x(j)} - {y(j)-y(j-1)}/(x(j)-x(j-1)}"
   ]
  },
  {
   "cell_type": "code",
   "execution_count": 1,
   "id": "931e783f-6885-4936-94f2-954a51c4f956",
   "metadata": {},
   "outputs": [
    {
     "name": "stdout",
     "output_type": "stream",
     "text": [
      "The value of function at 3.4 is : 10.254857142857144\n"
     ]
    }
   ],
   "source": [
    "import numpy as np\n",
    "import matplotlib.pyplot as plt\n",
    "\n",
    "x=np.array([1,2,3,4,5])\n",
    "y=np.array([13,15,12,9,13])\n",
    "\n",
    "x0=3.4  #Interpolation point\n",
    "\n",
    "def interpolate(x0):\n",
    "\n",
    "    if x[0]<=x0<=x[-1]:\n",
    "        coeff=[[4,1,0],[1,4,1],[0,1,4]]     #We get these by analytically forming the simultaneous equations since data size is small\n",
    "        const=[-30,0,42]\n",
    "        y_derivative=np.linalg.solve(coeff,const)\n",
    "        y_derivative=np.insert(y_derivative,0,0)\n",
    "        y_derivative=np.insert(y_derivative,len(y_derivative),0)      #y_derivative initially have size 4 which will become size 5 after inserting 0 at end\n",
    "  \n",
    "        for i in range(len(x)-1):\n",
    "            if x[i]<x0<x[i+1]:\n",
    "                A=(x[i+1]-x0)/(x[i+1]-x[i])\n",
    "                B=(x0-x[i])/(x[i+1]-x[i])\n",
    "                C=(A**3-A)*((x[i+1]-x[i])**2)/6\n",
    "                D=(B**3-B)*((x[i+1]-x[i])**2)/6\n",
    "                y0=A*y[i]+B*y[i+1]+C*y_derivative[i]+D*y_derivative[i+1]\n",
    "                return y0\n",
    "                break\n",
    "            elif x0==x[i]:\n",
    "                y0=y[i]\n",
    "                return y0\n",
    "                break\n",
    "\n",
    "    else:\n",
    "        print('Value out of range of interpolation')\n",
    "        return None\n",
    "\n",
    "print('The value of function at',x0,'is :',interpolate(x0))"
   ]
  }
 ],
 "metadata": {
  "kernelspec": {
   "display_name": "Python 3 (ipykernel)",
   "language": "python",
   "name": "python3"
  },
  "language_info": {
   "codemirror_mode": {
    "name": "ipython",
    "version": 3
   },
   "file_extension": ".py",
   "mimetype": "text/x-python",
   "name": "python",
   "nbconvert_exporter": "python",
   "pygments_lexer": "ipython3",
   "version": "3.12.3"
  }
 },
 "nbformat": 4,
 "nbformat_minor": 5
}
